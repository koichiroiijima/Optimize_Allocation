{
 "cells": [
  {
   "cell_type": "code",
   "execution_count": 1,
   "id": "2f558973-9b6e-4a86-a2a9-a489757b26a6",
   "metadata": {},
   "outputs": [],
   "source": [
    "mprices = {}\n",
    "mprices[\"VOO\"] = 366.23\n",
    "mprices[\"BND\"] = 73.97\n",
    "mprices[\"VXUS\"] = 55.54\n",
    "mprices[\"BNDX\"] = 48.52"
   ]
  },
  {
   "cell_type": "code",
   "execution_count": 2,
   "id": "b03de08d-288f-44ba-8b86-384102ac1ff0",
   "metadata": {},
   "outputs": [
    {
     "data": {
      "text/plain": [
       "{'VOO': 30.861, 'BND': 75.2471, 'VXUS': 193.3962, 'BNDX': 107.0322}"
      ]
     },
     "execution_count": 2,
     "metadata": {},
     "output_type": "execute_result"
    }
   ],
   "source": [
    "quant = {}\n",
    "quant[\"VOO\"]=30.861\n",
    "quant[\"BND\"]=75.2471\n",
    "quant[\"VXUS\"]=193.3962\n",
    "quant[\"BNDX\"]=107.0322\n",
    "quant"
   ]
  },
  {
   "cell_type": "code",
   "execution_count": 3,
   "id": "52cb18c2-266e-4274-be12-64ce0e6d2f29",
   "metadata": {},
   "outputs": [
    {
     "data": {
      "text/plain": [
       "{'VOO': 11302.224030000001,\n",
       " 'BND': 5566.027987,\n",
       " 'VXUS': 10741.224948,\n",
       " 'BNDX': 5193.202344}"
      ]
     },
     "execution_count": 3,
     "metadata": {},
     "output_type": "execute_result"
    }
   ],
   "source": [
    "mvalue = {}\n",
    "for k in mprices.keys() :\n",
    "    mvalue[k] = mprices[k] * quant[k]\n",
    "mvalue"
   ]
  },
  {
   "cell_type": "code",
   "execution_count": 4,
   "id": "5def110f-2f5f-421c-a265-d1c288c16c4f",
   "metadata": {},
   "outputs": [],
   "source": [
    "tvalue=sum(mvalue.values())"
   ]
  },
  {
   "cell_type": "code",
   "execution_count": 5,
   "id": "c2e35f68-7c7a-4c3e-9868-dee4285e0077",
   "metadata": {},
   "outputs": [
    {
     "data": {
      "text/plain": [
       "{'VOO': 0.34455185576560615,\n",
       " 'BND': 0.1696821145177876,\n",
       " 'VXUS': 0.3274496222341494,\n",
       " 'BNDX': 0.15831640748245687}"
      ]
     },
     "execution_count": 5,
     "metadata": {},
     "output_type": "execute_result"
    }
   ],
   "source": [
    "mrates = {}\n",
    "for i in mvalue:\n",
    "    mrates[i] = float(mvalue[i]/tvalue)\n",
    "mrates"
   ]
  },
  {
   "cell_type": "code",
   "execution_count": 14,
   "id": "e3862ecc-9e5b-45de-bbb1-f4daef5cd7ed",
   "metadata": {},
   "outputs": [],
   "source": [
    "oracle_rates = {\n",
    "    'VOO': 0.2431052262207619,\n",
    "    'BND': 0.2565213133587524,\n",
    "    'VXUS': 0.2434447097140575,\n",
    "    'BNDX': 0.2569287507064282\n",
    "}\n",
    "#('VOO', 0.2431052262207619), ('BND', 0.2565213133587524), ('VXUS', 0.2434447097140575), ('BNDX', 0.2569287507064282)]))"
   ]
  },
  {
   "cell_type": "code",
   "execution_count": 43,
   "id": "235e103b-4506-40b8-a9c1-47f0ac8f85ad",
   "metadata": {},
   "outputs": [],
   "source": [
    "ttarget=tvalue + 1000"
   ]
  },
  {
   "cell_type": "code",
   "execution_count": 44,
   "id": "f4c4708a-4c2a-48b9-86e6-36b5e70fe6b4",
   "metadata": {},
   "outputs": [
    {
     "data": {
      "text/plain": [
       "{'VOO': 8217.608000282313,\n",
       " 'BND': 8671.107691389405,\n",
       " 'VXUS': 8229.083451936882,\n",
       " 'BNDX': 8684.880165391398}"
      ]
     },
     "execution_count": 44,
     "metadata": {},
     "output_type": "execute_result"
    }
   ],
   "source": [
    "rtarget = {}\n",
    "for i in oracle_rates:\n",
    "    rtarget[i] = oracle_rates[i] * ttarget\n",
    "rtarget"
   ]
  },
  {
   "cell_type": "code",
   "execution_count": 45,
   "id": "6b6ffb5c-4e1a-4bb8-b88b-c0372187e70e",
   "metadata": {},
   "outputs": [
    {
     "data": {
      "text/plain": [
       "{'VOO': -3084.6160297176884,\n",
       " 'BND': 3105.0797043894045,\n",
       " 'VXUS': -2512.1414960631173,\n",
       " 'BNDX': 3491.6778213913976}"
      ]
     },
     "execution_count": 45,
     "metadata": {},
     "output_type": "execute_result"
    }
   ],
   "source": [
    "dtarget = {}\n",
    "for i in rtarget:\n",
    "    dtarget[i] = rtarget[i] - mvalue[i]\n",
    "dtarget"
   ]
  },
  {
   "cell_type": "code",
   "execution_count": 46,
   "id": "e0c56709-c1ab-4881-9289-6f06236e5b78",
   "metadata": {},
   "outputs": [
    {
     "name": "stdout",
     "output_type": "stream",
     "text": [
      "-8.42261974638257\n",
      "41.97755447329194\n",
      "-45.23121166840326\n",
      "71.96368139718462\n"
     ]
    }
   ],
   "source": [
    "for i in dtarget:\n",
    "    print(dtarget[i] / mprices[i])"
   ]
  },
  {
   "cell_type": "code",
   "execution_count": 53,
   "id": "137211dc-6e6d-46ba-bf8c-48f24fad5925",
   "metadata": {},
   "outputs": [
    {
     "name": "stdout",
     "output_type": "stream",
     "text": [
      "0.6638047844817789\n",
      "3.4679101440956113\n",
      "4.3832320798353885\n",
      "5.295316378945345\n"
     ]
    }
   ],
   "source": [
    "for k, v in oracle_rates.items():\n",
    "    m = v * 1000\n",
    "    print(m/mprices[k])"
   ]
  },
  {
   "cell_type": "code",
   "execution_count": null,
   "id": "d2631846-6539-4e44-a865-8d3a82b91001",
   "metadata": {},
   "outputs": [],
   "source": []
  }
 ],
 "metadata": {
  "kernelspec": {
   "display_name": "Python 3 (ipykernel)",
   "language": "python",
   "name": "python3"
  },
  "language_info": {
   "codemirror_mode": {
    "name": "ipython",
    "version": 3
   },
   "file_extension": ".py",
   "mimetype": "text/x-python",
   "name": "python",
   "nbconvert_exporter": "python",
   "pygments_lexer": "ipython3",
   "version": "3.10.1"
  }
 },
 "nbformat": 4,
 "nbformat_minor": 5
}
