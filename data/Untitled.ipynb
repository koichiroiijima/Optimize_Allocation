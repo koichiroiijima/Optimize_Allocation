{
 "cells": [
  {
   "cell_type": "code",
   "execution_count": 69,
   "id": "2f558973-9b6e-4a86-a2a9-a489757b26a6",
   "metadata": {},
   "outputs": [],
   "source": [
    "mprices = {}\n",
    "mprices[\"VOO\"] = 412.53\n",
    "mprices[\"BND\"] = 78.03\n",
    "mprices[\"VXUS\"] = 59.26\n",
    "mprices[\"BNDX\"] = 51.79"
   ]
  },
  {
   "cell_type": "code",
   "execution_count": 70,
   "id": "52cb18c2-266e-4274-be12-64ce0e6d2f29",
   "metadata": {},
   "outputs": [
    {
     "data": {
      "text/plain": [
       "{'VOO': 10111.234059,\n",
       " 'BND': 5615.990766,\n",
       " 'VXUS': 9041.754502,\n",
       " 'BNDX': 5378.7436720000005}"
      ]
     },
     "execution_count": 70,
     "metadata": {},
     "output_type": "execute_result"
    }
   ],
   "source": [
    "mvalue = {}\n",
    "mvalue[\"VOO\"]=24.5103*412.53\n",
    "mvalue[\"BND\"]=71.9722*78.03\n",
    "mvalue[\"VXUS\"]=152.5777*59.26\n",
    "mvalue[\"BNDX\"]=103.8568*51.79\n",
    "mvalue"
   ]
  },
  {
   "cell_type": "code",
   "execution_count": 71,
   "id": "5def110f-2f5f-421c-a265-d1c288c16c4f",
   "metadata": {},
   "outputs": [],
   "source": [
    "tvalue=sum(mvalue.values())"
   ]
  },
  {
   "cell_type": "code",
   "execution_count": 72,
   "id": "c2e35f68-7c7a-4c3e-9868-dee4285e0077",
   "metadata": {},
   "outputs": [
    {
     "data": {
      "text/plain": [
       "{'VOO': 0.33538964316924996,\n",
       " 'BND': 0.18628241894707212,\n",
       " 'VXUS': 0.29991500526590065,\n",
       " 'BNDX': 0.17841293261777724}"
      ]
     },
     "execution_count": 72,
     "metadata": {},
     "output_type": "execute_result"
    }
   ],
   "source": [
    "mrates = {}\n",
    "for i in mvalue:\n",
    "    mrates[i] = float(mvalue[i]/tvalue)\n",
    "mrates"
   ]
  },
  {
   "cell_type": "code",
   "execution_count": 73,
   "id": "e3862ecc-9e5b-45de-bbb1-f4daef5cd7ed",
   "metadata": {},
   "outputs": [],
   "source": [
    "oracle_rates = {\n",
    "    'VOO': 0.4131385281309732,\n",
    "    'BND': 0.1137976397828306,\n",
    "    'VXUS': 0.3756010286433648,\n",
    "    'BNDX': 0.0974628034428314\n",
    "}"
   ]
  },
  {
   "cell_type": "code",
   "execution_count": 103,
   "id": "235e103b-4506-40b8-a9c1-47f0ac8f85ad",
   "metadata": {},
   "outputs": [],
   "source": [
    "ttarget=tvalue + 500"
   ]
  },
  {
   "cell_type": "code",
   "execution_count": 104,
   "id": "f4c4708a-4c2a-48b9-86e6-36b5e70fe6b4",
   "metadata": {},
   "outputs": [
    {
     "data": {
      "text/plain": [
       "{'VOO': 12661.755170372637,\n",
       " 'BND': 3487.6385420041747,\n",
       " 'VXUS': 11511.31628400131,\n",
       " 'BNDX': 2987.0130026218803}"
      ]
     },
     "execution_count": 104,
     "metadata": {},
     "output_type": "execute_result"
    }
   ],
   "source": [
    "rtarget = {}\n",
    "for i in oracle_rates:\n",
    "    rtarget[i] = oracle_rates[i] * ttarget\n",
    "rtarget"
   ]
  },
  {
   "cell_type": "code",
   "execution_count": 105,
   "id": "6b6ffb5c-4e1a-4bb8-b88b-c0372187e70e",
   "metadata": {},
   "outputs": [
    {
     "data": {
      "text/plain": [
       "{'VOO': 2550.5211113726364,\n",
       " 'BND': -2128.352223995825,\n",
       " 'VXUS': 2469.5617820013103,\n",
       " 'BNDX': -2391.73066937812}"
      ]
     },
     "execution_count": 105,
     "metadata": {},
     "output_type": "execute_result"
    }
   ],
   "source": [
    "dtarget = {}\n",
    "for i in rtarget:\n",
    "    dtarget[i] = rtarget[i] - mvalue[i]\n",
    "dtarget"
   ]
  },
  {
   "cell_type": "code",
   "execution_count": 106,
   "id": "e0c56709-c1ab-4881-9289-6f06236e5b78",
   "metadata": {},
   "outputs": [
    {
     "name": "stdout",
     "output_type": "stream",
     "text": [
      "6.182631836163761\n",
      "-27.276076175776307\n",
      "41.67333415459518\n",
      "-46.18132205788994\n"
     ]
    }
   ],
   "source": [
    "for i in dtarget:\n",
    "    print(dtarget[i] / mprices[i])"
   ]
  },
  {
   "cell_type": "code",
   "execution_count": null,
   "id": "137211dc-6e6d-46ba-bf8c-48f24fad5925",
   "metadata": {},
   "outputs": [],
   "source": []
  }
 ],
 "metadata": {
  "kernelspec": {
   "display_name": "Python 3 (ipykernel)",
   "language": "python",
   "name": "python3"
  },
  "language_info": {
   "codemirror_mode": {
    "name": "ipython",
    "version": 3
   },
   "file_extension": ".py",
   "mimetype": "text/x-python",
   "name": "python",
   "nbconvert_exporter": "python",
   "pygments_lexer": "ipython3",
   "version": "3.10.1"
  }
 },
 "nbformat": 4,
 "nbformat_minor": 5
}
