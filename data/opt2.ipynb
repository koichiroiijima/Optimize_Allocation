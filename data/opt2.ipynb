{
 "cells": [
  {
   "cell_type": "code",
   "execution_count": 1,
   "id": "3690acab-29b8-4aef-b84e-92d3e353628c",
   "metadata": {},
   "outputs": [],
   "source": [
    "import numpy as np\n",
    "import pandas as pd\n",
    "import pandas_datareader as web\n",
    "import matplotlib.pyplot as plt\n",
    "import datetime\n",
    "import math"
   ]
  },
  {
   "cell_type": "code",
   "execution_count": 2,
   "id": "09009721-ad26-4060-87d5-eaa3e98144dc",
   "metadata": {},
   "outputs": [],
   "source": [
    "from pypfopt import expected_returns\n",
    "from pypfopt import risk_models\n",
    "from pypfopt import efficient_frontier\n",
    "from pypfopt import objective_functions\n",
    "from pypfopt import black_litterman, risk_models\n",
    "from pypfopt import BlackLittermanModel, plotting"
   ]
  },
  {
   "cell_type": "code",
   "execution_count": 3,
   "id": "c2ce6f3a-bc2e-4a46-b0af-d7b83e113325",
   "metadata": {},
   "outputs": [],
   "source": [
    "import pandas as pd\n",
    "from pandas_datareader import data as pdr\n",
    "import datetime\n",
    "import yfinance as yfin\n",
    "yfin.pdr_override()\n",
    "\n",
    "def _load_prices(\n",
    "    ticker: str,\n",
    "    data_source: str = 'yahoo',\n",
    "    end: str = datetime.date.today()\n",
    ") -> pd.DataFrame:\n",
    "    return pdr.get_data_yahoo(ticker, start='2000-01-01', end=end).loc[:, 'Adj Close']\n",
    "\n",
    "def load_prices_multitickers(\n",
    "    tickers: list,\n",
    "    data_source: str = 'yahoo',\n",
    "    end: str = datetime.date.today()\n",
    ") -> list:\n",
    "    prices = pd.DataFrame()\n",
    "    for t in tickers:\n",
    "        prices[t] = _load_prices(t, data_source, end)\n",
    "        \n",
    "    return prices.fillna(value=None, method=\"ffill\", axis=0, inplace=False).dropna(axis=0, how='any', inplace=False)"
   ]
  },
  {
   "cell_type": "code",
   "execution_count": 4,
   "id": "997e4006-41c6-4555-8dae-cfc2812d0614",
   "metadata": {},
   "outputs": [],
   "source": [
    "def calc_omega(views):\n",
    "    variances = []\n",
    "    for symbol, view in views.items():\n",
    "        lb, ub  = view[0], view[2]\n",
    "        std_dev = (ub - lb)/2\n",
    "        variances.append(std_dev ** 2)\n",
    "    omega = np.diag(variances)\n",
    "    return omega\n",
    "\n",
    "def load_mean_views(views):\n",
    "    mu = {}\n",
    "    for symbol, view in views.items():\n",
    "        mu[symbol] = view[1]\n",
    "    return mu"
   ]
  },
  {
   "cell_type": "code",
   "execution_count": 5,
   "id": "ad3ee39e-d9e9-48d0-a0bb-2f1df66525bc",
   "metadata": {},
   "outputs": [],
   "source": [
    "def load_gdp_data(fname: str) -> pd.DataFrame:\n",
    "    world_gdp = pd.read_csv(\n",
    "        fname, \n",
    "        sep=\",\", \n",
    "        header=2,\n",
    "        index_col=\"Country Code\", \n",
    "        #names=[\"Date\", \"mkt\"], \n",
    "        skipinitialspace=True,\n",
    "        skip_blank_lines=True,\n",
    "        parse_dates=True,\n",
    "        infer_datetime_format=True\n",
    "    ).loc[\"WLD\"].iloc[3:].dropna().astype('float64').reset_index()\n",
    "    \n",
    "    world_gdp.loc[:, 'index'] = pd.to_datetime(world_gdp.loc[:, 'index'])\n",
    "    return world_gdp.set_index('index')\n",
    "\n",
    "def interpolate_gdp_data(df_gdp : pd.DataFrame) -> pd.DataFrame:\n",
    "    temp = pd.DataFrame(\n",
    "        pd.date_range(start=g.index[0], end=g.index[-1], freq='D'),\n",
    "        columns=[\"date\"]\n",
    "    )\n",
    "    temp.loc[:, 'dmy'] = math.nan\n",
    "    i_gdp = temp.set_index('date').join(df_gdp).drop('dmy', axis=1).interpolate(method = 'akima', axis=0)\n",
    "    \n",
    "    return i_gdp"
   ]
  },
  {
   "cell_type": "code",
   "execution_count": 6,
   "id": "0b3a8efc-0064-4554-bf13-2256793eb150",
   "metadata": {},
   "outputs": [
    {
     "name": "stdout",
     "output_type": "stream",
     "text": [
      "[*********************100%***********************]  1 of 1 completed\n",
      "[*********************100%***********************]  1 of 1 completed\n",
      "[*********************100%***********************]  1 of 1 completed\n",
      "[*********************100%***********************]  1 of 1 completed\n"
     ]
    }
   ],
   "source": [
    "tickers = ['VOO', 'BND', 'VXUS', 'BNDX']\n",
    "prices=load_prices_multitickers(tickers, 'yahoo')"
   ]
  },
  {
   "cell_type": "code",
   "execution_count": 7,
   "id": "8be7dcea-1e5b-4c6e-a131-ef7c11fbdc24",
   "metadata": {},
   "outputs": [
    {
     "data": {
      "text/html": [
       "<div>\n",
       "<style scoped>\n",
       "    .dataframe tbody tr th:only-of-type {\n",
       "        vertical-align: middle;\n",
       "    }\n",
       "\n",
       "    .dataframe tbody tr th {\n",
       "        vertical-align: top;\n",
       "    }\n",
       "\n",
       "    .dataframe thead th {\n",
       "        text-align: right;\n",
       "    }\n",
       "</style>\n",
       "<table border=\"1\" class=\"dataframe\">\n",
       "  <thead>\n",
       "    <tr style=\"text-align: right;\">\n",
       "      <th></th>\n",
       "      <th>mkt</th>\n",
       "    </tr>\n",
       "    <tr>\n",
       "      <th>Date</th>\n",
       "      <th></th>\n",
       "    </tr>\n",
       "  </thead>\n",
       "  <tbody>\n",
       "    <tr>\n",
       "      <th>1994-05-31</th>\n",
       "      <td>392.682</td>\n",
       "    </tr>\n",
       "    <tr>\n",
       "      <th>1994-06-30</th>\n",
       "      <td>392.593</td>\n",
       "    </tr>\n",
       "    <tr>\n",
       "      <th>1994-07-29</th>\n",
       "      <td>398.298</td>\n",
       "    </tr>\n",
       "    <tr>\n",
       "      <th>1994-08-31</th>\n",
       "      <td>410.747</td>\n",
       "    </tr>\n",
       "    <tr>\n",
       "      <th>1994-09-30</th>\n",
       "      <td>400.733</td>\n",
       "    </tr>\n",
       "    <tr>\n",
       "      <th>...</th>\n",
       "      <td>...</td>\n",
       "    </tr>\n",
       "    <tr>\n",
       "      <th>2023-08-31</th>\n",
       "      <td>1732.630</td>\n",
       "    </tr>\n",
       "    <tr>\n",
       "      <th>2023-09-29</th>\n",
       "      <td>1657.168</td>\n",
       "    </tr>\n",
       "    <tr>\n",
       "      <th>2023-10-31</th>\n",
       "      <td>1600.928</td>\n",
       "    </tr>\n",
       "    <tr>\n",
       "      <th>2023-11-30</th>\n",
       "      <td>1746.348</td>\n",
       "    </tr>\n",
       "    <tr>\n",
       "      <th>2023-12-29</th>\n",
       "      <td>1836.006</td>\n",
       "    </tr>\n",
       "  </tbody>\n",
       "</table>\n",
       "<p>356 rows × 1 columns</p>\n",
       "</div>"
      ],
      "text/plain": [
       "                 mkt\n",
       "Date                \n",
       "1994-05-31   392.682\n",
       "1994-06-30   392.593\n",
       "1994-07-29   398.298\n",
       "1994-08-31   410.747\n",
       "1994-09-30   400.733\n",
       "...              ...\n",
       "2023-08-31  1732.630\n",
       "2023-09-29  1657.168\n",
       "2023-10-31  1600.928\n",
       "2023-11-30  1746.348\n",
       "2023-12-29  1836.006\n",
       "\n",
       "[356 rows x 1 columns]"
      ]
     },
     "execution_count": 7,
     "metadata": {},
     "output_type": "execute_result"
    }
   ],
   "source": [
    "msci = pd.read_csv(\"./data/msci.csv\", sep=\",\", header=0, index_col=\"Date\", names=[\"Date\", \"mkt\"], skipinitialspace=True, skip_blank_lines=True, parse_dates=True, infer_datetime_format=True, thousands=\",\")\n",
    "msci"
   ]
  },
  {
   "cell_type": "code",
   "execution_count": 8,
   "id": "06072487-b53f-4422-ad93-8595a64bba65",
   "metadata": {},
   "outputs": [
    {
     "data": {
      "text/html": [
       "<div>\n",
       "<style scoped>\n",
       "    .dataframe tbody tr th:only-of-type {\n",
       "        vertical-align: middle;\n",
       "    }\n",
       "\n",
       "    .dataframe tbody tr th {\n",
       "        vertical-align: top;\n",
       "    }\n",
       "\n",
       "    .dataframe thead th {\n",
       "        text-align: right;\n",
       "    }\n",
       "</style>\n",
       "<table border=\"1\" class=\"dataframe\">\n",
       "  <thead>\n",
       "    <tr style=\"text-align: right;\">\n",
       "      <th></th>\n",
       "      <th>mkt</th>\n",
       "    </tr>\n",
       "    <tr>\n",
       "      <th>date</th>\n",
       "      <th></th>\n",
       "    </tr>\n",
       "  </thead>\n",
       "  <tbody>\n",
       "    <tr>\n",
       "      <th>2013-06-04</th>\n",
       "      <td>7.849682e+13</td>\n",
       "    </tr>\n",
       "    <tr>\n",
       "      <th>2013-06-05</th>\n",
       "      <td>7.850259e+13</td>\n",
       "    </tr>\n",
       "    <tr>\n",
       "      <th>2013-06-06</th>\n",
       "      <td>7.850835e+13</td>\n",
       "    </tr>\n",
       "    <tr>\n",
       "      <th>2013-06-07</th>\n",
       "      <td>7.851412e+13</td>\n",
       "    </tr>\n",
       "    <tr>\n",
       "      <th>2013-06-10</th>\n",
       "      <td>7.853141e+13</td>\n",
       "    </tr>\n",
       "    <tr>\n",
       "      <th>...</th>\n",
       "      <td>...</td>\n",
       "    </tr>\n",
       "    <tr>\n",
       "      <th>2020-12-24</th>\n",
       "      <td>9.570453e+13</td>\n",
       "    </tr>\n",
       "    <tr>\n",
       "      <th>2020-12-28</th>\n",
       "      <td>9.590192e+13</td>\n",
       "    </tr>\n",
       "    <tr>\n",
       "      <th>2020-12-29</th>\n",
       "      <td>9.595139e+13</td>\n",
       "    </tr>\n",
       "    <tr>\n",
       "      <th>2020-12-30</th>\n",
       "      <td>9.600091e+13</td>\n",
       "    </tr>\n",
       "    <tr>\n",
       "      <th>2020-12-31</th>\n",
       "      <td>9.605048e+13</td>\n",
       "    </tr>\n",
       "  </tbody>\n",
       "</table>\n",
       "<p>1910 rows × 1 columns</p>\n",
       "</div>"
      ],
      "text/plain": [
       "                     mkt\n",
       "date                    \n",
       "2013-06-04  7.849682e+13\n",
       "2013-06-05  7.850259e+13\n",
       "2013-06-06  7.850835e+13\n",
       "2013-06-07  7.851412e+13\n",
       "2013-06-10  7.853141e+13\n",
       "...                  ...\n",
       "2020-12-24  9.570453e+13\n",
       "2020-12-28  9.590192e+13\n",
       "2020-12-29  9.595139e+13\n",
       "2020-12-30  9.600091e+13\n",
       "2020-12-31  9.605048e+13\n",
       "\n",
       "[1910 rows x 1 columns]"
      ]
     },
     "execution_count": 8,
     "metadata": {},
     "output_type": "execute_result"
    }
   ],
   "source": [
    "g = load_gdp_data(\"./data/API_NY.GDP.MKTP.CD_DS2_en_csv_v2_4251000.csv\")\n",
    "g = pd.DataFrame(interpolate_gdp_data(g).join(prices).dropna(axis=0, how='any', inplace=False).loc[:, \"WLD\"].rename(\"mkt\"))\n",
    "g"
   ]
  },
  {
   "cell_type": "code",
   "execution_count": 9,
   "id": "6d94ac1c-6af4-4b2d-9499-b799fedc2e43",
   "metadata": {},
   "outputs": [],
   "source": [
    "rets = {}\n",
    "covs = {}"
   ]
  },
  {
   "cell_type": "code",
   "execution_count": 10,
   "id": "8349691f-6294-4330-9d88-8062e5169eac",
   "metadata": {},
   "outputs": [
    {
     "data": {
      "text/plain": [
       "1.9792027252663047e-05"
      ]
     },
     "execution_count": 10,
     "metadata": {},
     "output_type": "execute_result"
    }
   ],
   "source": [
    "risk_free_rate=1.005**((1/252)) - 1\n",
    "risk_free_rate"
   ]
  },
  {
   "cell_type": "code",
   "execution_count": 11,
   "id": "f08a53b0-ddbc-417b-89fd-7e55db1d0e9d",
   "metadata": {},
   "outputs": [],
   "source": [
    "rets['mhr'] = expected_returns.mean_historical_return(prices, frequency=252)\n",
    "rets['ehr'] = expected_returns.ema_historical_return(prices, frequency=252, span=252*5)\n",
    "rets['capmr'] = expected_returns.capm_return(prices,  risk_free_rate=risk_free_rate, compounding=True, frequency=252)"
   ]
  },
  {
   "cell_type": "code",
   "execution_count": 12,
   "id": "4c23366f-4ed0-44d6-b424-5de2128a15bc",
   "metadata": {},
   "outputs": [],
   "source": [
    "covs['sample_cov'] = risk_models.risk_matrix(prices, method='sample_cov')\n",
    "covs['semicovariance'] = risk_models.risk_matrix(prices, method='semicovariance', benchmark=risk_free_rate, frequency=252, log_returns=False)\n",
    "covs['exp_cov'] = risk_models.risk_matrix(prices, method='exp_cov', span=252*5, frequency=252)"
   ]
  },
  {
   "cell_type": "code",
   "execution_count": 13,
   "id": "72052a5b-6aa4-4bbf-85d8-0a7573a43ecc",
   "metadata": {},
   "outputs": [],
   "source": [
    "covs['ledoiid_wolf_cc'] = risk_models.risk_matrix(prices, method='ledoit_wolf_constant_correlation', frequency=252)\n",
    "covs['ledoiid_wolf_sf'] = risk_models.risk_matrix(prices, method='ledoit_wolf_single_factor', frequency=252)\n",
    "covs['ledoiid_wolf_cv'] = risk_models.risk_matrix(prices, method='ledoit_wolf_constant_variance', frequency=252)\n",
    "covs['oracle_approx'] = risk_models.risk_matrix(prices, method='oracle_approximating', frequency=252)"
   ]
  },
  {
   "cell_type": "code",
   "execution_count": 14,
   "id": "ac5f82be-58b5-49cc-a24b-77851733ef97",
   "metadata": {},
   "outputs": [
    {
     "data": {
      "text/plain": [
       "{'mhr': VOO     0.138762\n",
       " BND     0.016021\n",
       " VXUS    0.049935\n",
       " BNDX    0.023203\n",
       " dtype: float64,\n",
       " 'ehr': VOO     0.189257\n",
       " BND     0.007851\n",
       " VXUS    0.068014\n",
       " BNDX    0.019746\n",
       " Name: 2024-12-27 00:00:00, dtype: float64,\n",
       " 'capmr': VOO     0.110315\n",
       " BND     0.012544\n",
       " VXUS    0.108680\n",
       " BNDX    0.008677\n",
       " Name: mkt, dtype: float64}"
      ]
     },
     "execution_count": 14,
     "metadata": {},
     "output_type": "execute_result"
    }
   ],
   "source": [
    "rets"
   ]
  },
  {
   "cell_type": "code",
   "execution_count": 15,
   "id": "b8972b33-56bb-46a4-abcd-abda8b19b307",
   "metadata": {},
   "outputs": [
    {
     "data": {
      "text/plain": [
       "{'sample_cov':            VOO       BND      VXUS      BNDX\n",
       " VOO   0.029066  0.000870  0.024397  0.000650\n",
       " BND   0.000870  0.002707  0.001177  0.001489\n",
       " VXUS  0.024397  0.001177  0.027948  0.000645\n",
       " BNDX  0.000650  0.001489  0.000645  0.001531,\n",
       " 'semicovariance':            VOO       BND      VXUS      BNDX\n",
       " VOO   0.014832  0.001715  0.013131  0.001283\n",
       " BND   0.001715  0.001420  0.001898  0.000838\n",
       " VXUS  0.013131  0.001898  0.015105  0.001348\n",
       " BNDX  0.001283  0.000838  0.001348  0.000776,\n",
       " 'exp_cov':            VOO       BND      VXUS      BNDX\n",
       " VOO   0.029021  0.001979  0.022700  0.001348\n",
       " BND   0.001979  0.003904  0.002474  0.002400\n",
       " VXUS  0.022700  0.002474  0.026140  0.001454\n",
       " BNDX  0.001348  0.002400  0.001454  0.002224,\n",
       " 'ledoiid_wolf_cc':            VOO       BND      VXUS      BNDX\n",
       " VOO   0.029066  0.000901  0.024177  0.000674\n",
       " BND   0.000901  0.002707  0.001203  0.001477\n",
       " VXUS  0.024177  0.001203  0.027948  0.000668\n",
       " BNDX  0.000674  0.001477  0.000668  0.001531,\n",
       " 'ledoiid_wolf_sf':            VOO       BND      VXUS      BNDX\n",
       " VOO   0.029056  0.000869  0.024389  0.000650\n",
       " BND   0.000869  0.002706  0.001177  0.001489\n",
       " VXUS  0.024389  0.001177  0.027939  0.000645\n",
       " BNDX  0.000650  0.001489  0.000645  0.001531,\n",
       " 'ledoiid_wolf_cv':            VOO       BND      VXUS      BNDX\n",
       " VOO   0.028914  0.000860  0.024136  0.000643\n",
       " BND   0.000860  0.002837  0.001165  0.001473\n",
       " VXUS  0.024136  0.001165  0.027808  0.000638\n",
       " BNDX  0.000643  0.001473  0.000638  0.001673,\n",
       " 'oracle_approx':            VOO       BND      VXUS      BNDX\n",
       " VOO   0.029040  0.000868  0.024359  0.000649\n",
       " BND   0.000868  0.002721  0.001176  0.001487\n",
       " VXUS  0.024359  0.001176  0.027924  0.000644\n",
       " BNDX  0.000649  0.001487  0.000644  0.001547}"
      ]
     },
     "execution_count": 15,
     "metadata": {},
     "output_type": "execute_result"
    }
   ],
   "source": [
    "covs"
   ]
  },
  {
   "cell_type": "code",
   "execution_count": 16,
   "id": "3ff408ae-917b-403b-a581-121ca98d032d",
   "metadata": {},
   "outputs": [
    {
     "data": {
      "text/plain": [
       "{'VOO': 52370474000000.01,\n",
       " 'BND': 49000000000000,\n",
       " 'VXUS': 41315525999999.99,\n",
       " 'BNDX': 70000000000000}"
      ]
     },
     "execution_count": 16,
     "metadata": {},
     "output_type": "execute_result"
    }
   ],
   "source": [
    "mcaps = {\n",
    "    'VOO': 52370474000000.01,\n",
    "    'BND': 49000000000000,\n",
    "    'VXUS': 41315525999999.99,\n",
    "    'BNDX': 70000000000000\n",
    "}\n",
    "mcaps"
   ]
  },
  {
   "cell_type": "code",
   "execution_count": 17,
   "id": "3567152e-bac5-495e-9f16-6f0dd4f38ab6",
   "metadata": {},
   "outputs": [
    {
     "data": {
      "text/plain": [
       "844.8011584382269"
      ]
     },
     "execution_count": 17,
     "metadata": {},
     "output_type": "execute_result"
    }
   ],
   "source": [
    "delta = black_litterman.market_implied_risk_aversion(g.iloc[:-365, 0], frequency=252, risk_free_rate=0.005)\n",
    "delta"
   ]
  },
  {
   "cell_type": "code",
   "execution_count": 18,
   "id": "fe95d3be-0002-46d6-9913-cc50637eb365",
   "metadata": {},
   "outputs": [
    {
     "name": "stdout",
     "output_type": "stream",
     "text": [
      "5.317389796857377 13.464805946722906 2.495642667000474 30.238951388404484\n"
     ]
    }
   ],
   "source": [
    "delta1 = black_litterman.market_implied_risk_aversion(prices[\"VOO\"][:-252*3], frequency=252, risk_free_rate=0.005)\n",
    "delta2 = black_litterman.market_implied_risk_aversion(prices[\"BND\"][:-252*3], frequency=252, risk_free_rate=0.005)\n",
    "delta3 = black_litterman.market_implied_risk_aversion(prices[\"VXUS\"][:-252*3], frequency=252, risk_free_rate=0.005)\n",
    "delta4 = black_litterman.market_implied_risk_aversion(prices[\"BNDX\"][:-252*3], frequency=252, risk_free_rate=0.005)\n",
    "print(delta1, delta2, delta3, delta4)\n",
    "delta=delta1"
   ]
  },
  {
   "cell_type": "code",
   "execution_count": 19,
   "id": "60f4d541-5d0e-494e-9dff-c546bef2f388",
   "metadata": {},
   "outputs": [
    {
     "data": {
      "text/plain": [
       "2.450249865843789"
      ]
     },
     "execution_count": 19,
     "metadata": {},
     "output_type": "execute_result"
    }
   ],
   "source": [
    "delta = black_litterman.market_implied_risk_aversion(msci.iloc[:, 0], frequency=12, risk_free_rate=0.005)\n",
    "delta"
   ]
  },
  {
   "cell_type": "code",
   "execution_count": 36,
   "id": "5d8632ea-94b4-43c9-baa5-af4713b97fce",
   "metadata": {},
   "outputs": [],
   "source": [
    "viewdict = {\n",
    "    \"VOO\":[0.05, 0.1, 0.15],\n",
    "    \"BND\":[0.0, 0.015, 0.02],\n",
    "    \"VXUS\":[0.03, 0.07, 0.1],\n",
    "    \"BNDX\":[0.0, 0.015, 0.02]\n",
    "}\n",
    "omega = calc_omega(viewdict)\n",
    "mu = load_mean_views(viewdict)"
   ]
  },
  {
   "cell_type": "code",
   "execution_count": 37,
   "id": "e56efa29-c1fb-4485-93db-140edc6a4476",
   "metadata": {},
   "outputs": [
    {
     "data": {
      "text/plain": [
       "{'mhr': VOO     0.138762\n",
       " BND     0.016021\n",
       " VXUS    0.049935\n",
       " BNDX    0.023203\n",
       " dtype: float64,\n",
       " 'ehr': VOO     0.189257\n",
       " BND     0.007851\n",
       " VXUS    0.068014\n",
       " BNDX    0.019746\n",
       " Name: 2024-12-27 00:00:00, dtype: float64,\n",
       " 'capmr': VOO     0.110315\n",
       " BND     0.012544\n",
       " VXUS    0.108680\n",
       " BNDX    0.008677\n",
       " Name: mkt, dtype: float64,\n",
       " 'bl_post': VOO     0.063424\n",
       " BND     0.012422\n",
       " VXUS    0.060768\n",
       " BNDX    0.009598\n",
       " dtype: float64}"
      ]
     },
     "execution_count": 37,
     "metadata": {},
     "output_type": "execute_result"
    }
   ],
   "source": [
    "cov_matrix = covs['oracle_approx']\n",
    "bl = BlackLittermanModel(cov_matrix, pi=\"market\", market_caps=mcaps, risk_aversion=delta, absolute_views=mu, omega=omega)\n",
    "rets['bl_post'] = bl.bl_returns()\n",
    "covs['bl_post'] = bl.bl_cov()\n",
    "rets"
   ]
  },
  {
   "cell_type": "code",
   "execution_count": 38,
   "id": "668a5b10-a7eb-451b-8210-c554f8147c63",
   "metadata": {},
   "outputs": [
    {
     "name": "stdout",
     "output_type": "stream",
     "text": [
      "Expected annual return: 4.0%\n",
      "Annual volatility: 9.7%\n",
      "Sharpe Ratio: 0.36\n",
      "OrderedDict([('VOO', 0.28560484250276), ('BND', 0.218388706691424), ('VXUS', 0.2816554125343994), ('BNDX', 0.2143510382714166)])\n",
      "(0.04000000000000001, 0.09709030435425005, 0.36048913671438)\n"
     ]
    }
   ],
   "source": [
    "r = 0.04\n",
    "expected_return = rets['bl_post']\n",
    "cov_matrix = covs['bl_post']\n",
    "\n",
    "ef_bl = efficient_frontier.EfficientFrontier(expected_return, cov_matrix, weight_bounds=(0.05, 0.6))\n",
    "ef_bl.add_objective(objective_functions.L2_reg, gamma=1.0)\n",
    "#w = ef_bl.max_sharpe(risk_free_rate=0.005)\n",
    "w = ef_bl.efficient_return(r)\n",
    "perf_bst = ef_bl.portfolio_performance(verbose=True, risk_free_rate=0.005)\n",
    "\n",
    "print(w)\n",
    "print(perf_bst)"
   ]
  },
  {
   "cell_type": "code",
   "execution_count": 39,
   "id": "e5132152-f26e-44e4-b5bc-d617e63cb360",
   "metadata": {},
   "outputs": [
    {
     "name": "stdout",
     "output_type": "stream",
     "text": [
      "Expected annual return: 5.7%\n",
      "Annual volatility: 14.7%\n",
      "Sharpe Ratio: 0.35\n",
      "OrderedDict([('VOO', 0.4559886723071607), ('BND', 0.059279457711769), ('VXUS', 0.4347318699810701), ('BNDX', 0.05)])\n",
      "(0.05655466464393193, 0.1468623025992592, 0.35104083029808075)\n"
     ]
    },
    {
     "name": "stderr",
     "output_type": "stream",
     "text": [
      "/root/.pyenv/versions/3.10.1/lib/python3.10/site-packages/pypfopt/efficient_frontier/efficient_frontier.py:257: UserWarning: max_sharpe transforms the optimization problem so additional objectives may not work as expected.\n",
      "  warnings.warn(\n"
     ]
    }
   ],
   "source": [
    "expected_return = rets['bl_post']\n",
    "cov_matrix = covs['bl_post']\n",
    "\n",
    "ef_bl = efficient_frontier.EfficientFrontier(expected_return, cov_matrix, weight_bounds=(0.05, 0.6))\n",
    "ef_bl.add_objective(objective_functions.L2_reg, gamma=1.0)\n",
    "w = ef_bl.max_sharpe(risk_free_rate=0.005)\n",
    "perf_mshL2 = ef_bl.portfolio_performance(verbose=True, risk_free_rate=0.005)\n",
    "\n",
    "print(w)\n",
    "print(perf_mshL2)"
   ]
  },
  {
   "cell_type": "code",
   "execution_count": 40,
   "id": "5455c8cc-1210-4955-8612-7c5e61763a3e",
   "metadata": {},
   "outputs": [
    {
     "name": "stdout",
     "output_type": "stream",
     "text": [
      "Expected annual return: 3.6%\n",
      "Annual volatility: 8.7%\n",
      "Sharpe Ratio: 0.36\n",
      "OrderedDict([('VOO', 0.2976489370398625), ('BND', 0.4079133522152122), ('VXUS', 0.1895002512582719), ('BNDX', 0.1049374594866532)])\n",
      "(0.036467837488478205, 0.08670515448283242, 0.362929259236933)\n"
     ]
    }
   ],
   "source": [
    "expected_return = rets['bl_post']\n",
    "cov_matrix = covs['bl_post']\n",
    "\n",
    "ef_bl = efficient_frontier.EfficientFrontier(expected_return, cov_matrix)\n",
    "w = ef_bl.max_sharpe(risk_free_rate=0.005)\n",
    "perf_msh = ef_bl.portfolio_performance(verbose=True, risk_free_rate=0.005)\n",
    "\n",
    "print(w)\n",
    "print(perf_msh)"
   ]
  },
  {
   "cell_type": "code",
   "execution_count": 41,
   "id": "73d90a94-9067-43c5-81d6-5dccba3ad57b",
   "metadata": {},
   "outputs": [
    {
     "name": "stdout",
     "output_type": "stream",
     "text": [
      "0.035598357846543326:0.36172046876556385\n",
      "((0.03592807013133078, 0.08550268177213852, 0.36172046876556385), OrderedDict([('VOO', 0.2437845106891324), ('BND', 0.2558625898313382), ('VXUS', 0.244001723355271), ('BNDX', 0.2563511761242582)]))\n"
     ]
    }
   ],
   "source": [
    "expected_return = rets['bl_post']\n",
    "cov_matrix = covs['bl_post']\n",
    "\n",
    "min_ret = max(0, min(expected_return))\n",
    "max_ret = min(0.25, max(expected_return))\n",
    "rets_seq = list(np.arange(min_ret, max_ret, 0.001))\n",
    "\n",
    "weights = {}\n",
    "max_sr = -1\n",
    "max_r = 0.0\n",
    "for r in rets_seq:\n",
    "    _ef_bl = efficient_frontier.EfficientFrontier(expected_return, cov_matrix)\n",
    "    _ef_bl.add_objective(objective_functions.L2_reg, gamma=1.0)\n",
    "    _w = _ef_bl.efficient_return(r)\n",
    "    _perf = _ef_bl.portfolio_performance(verbose=False, risk_free_rate=0.005)\n",
    "    \n",
    "    weights[r] = (_perf, _w)\n",
    "    \n",
    "    if _perf[2] >= max_sr:\n",
    "        max_sr = _perf[2]\n",
    "        max_r = r\n",
    "print(\"{0}:{1}\".format(max_r, max_sr))\n",
    "print(weights[max_r])"
   ]
  },
  {
   "cell_type": "code",
   "execution_count": 42,
   "id": "bdd4c735-e572-4ef7-a980-86143de819e0",
   "metadata": {},
   "outputs": [
    {
     "data": {
      "image/png": "[encoded data removed]",
      "text/plain": [
       "<Figure size 432x288 with 1 Axes>"
      ]
     },
     "metadata": {
      "needs_background": "light"
     },
     "output_type": "display_data"
    }
   ],
   "source": [
    "expected_return = rets['bl_post']\n",
    "cov_matrix = covs['bl_post']\n",
    "\n",
    "ef_for_plot = efficient_frontier.EfficientFrontier(expected_return, cov_matrix)\n",
    "\n",
    "fig, ax = plt.subplots()\n",
    "plotting.plot_efficient_frontier(ef_for_plot, ax=ax, show_assets=True)\n",
    "\n",
    "# Generate random portfolios\n",
    "n_samples = 10000\n",
    "w = np.random.dirichlet(np.ones(len(expected_return)), n_samples)\n",
    "r = w.dot(expected_return)\n",
    "s = np.sqrt(np.diag(w @ cov_matrix @ w.T))\n",
    "sharpes = r / s\n",
    "ax.scatter(s, r, marker=\".\", c=sharpes, cmap=\"viridis_r\")\n",
    "\n",
    "ret_tangent, std_tangent, _ = weights[max_r][0]\n",
    "ax.scatter(std_tangent, ret_tangent, marker=\"*\", s=100, c=\"r\", label=\"Max Sharpe\")\n",
    "\n",
    "ret_bst, std_bst, _ = perf_bst\n",
    "ax.scatter(std_bst, ret_bst, marker=\"o\", s=100, c=\"y\", label=\"r=fix,L2,bounded\")\n",
    "\n",
    "ax.set_title(\"Efficient Frontier with random portfolios\")\n",
    "ax.legend()\n",
    "plt.tight_layout()\n",
    "plt.savefig(\"ef_scatter.png\", dpi=200)\n",
    "plt.show()"
   ]
  },
  {
   "cell_type": "code",
   "execution_count": 34,
   "id": "c8dfd187-ba77-49d5-92d8-6033d0fbcd9c",
   "metadata": {},
   "outputs": [],
   "source": [
    "from sklearn.model_selection import TimeSeriesSplit"
   ]
  },
  {
   "cell_type": "code",
   "execution_count": 35,
   "id": "0c4ed100-3c28-4c2a-96c6-cae9a260f19a",
   "metadata": {},
   "outputs": [
    {
     "name": "stdout",
     "output_type": "stream",
     "text": [
      "                   VOO        BND       VXUS       BNDX\n",
      "Date                                                   \n",
      "2016-12-22  180.638000  64.045486  35.671207  42.794945\n",
      "2016-12-23  180.795044  64.077438  35.773262  42.882046\n",
      "2016-12-27  181.240067  64.029541  35.781116  42.874123\n",
      "2016-12-28  179.809021  64.189232  35.757565  42.937473\n",
      "2016-12-29  179.774109  64.364815  35.953823  43.016617\n",
      "...                ...        ...        ...        ...\n",
      "2021-12-17  403.975281  77.582130  56.189278  50.461639\n",
      "2021-12-20  399.605988  77.454918  55.809109  50.417679\n",
      "2021-12-21  406.697815  77.373131  56.553112  50.162727\n",
      "2021-12-22  410.805908  77.454918  57.061207  50.197910\n",
      "2021-12-23  413.337769  77.337318  57.378769  50.087524\n",
      "\n",
      "[1260 rows x 4 columns]\n",
      "\n",
      "\n",
      "                   VOO        BND       VXUS       BNDX\n",
      "Date                                                   \n",
      "2017-12-22  218.639587  66.742180  45.630386  43.949669\n",
      "2017-12-26  218.385284  66.808792  45.654617  43.958580\n",
      "2017-12-27  218.509781  67.014412  45.735428  44.039509\n",
      "2017-12-28  218.918930  66.973335  45.816235  43.974800\n",
      "2017-12-29  218.162949  67.080200  45.905117  44.007141\n",
      "...                ...        ...        ...        ...\n",
      "2022-12-19  339.150879  68.289513  48.075798  44.332142\n",
      "2022-12-20  339.667694  67.842018  48.225544  44.003147\n",
      "2022-12-21  344.748108  68.000526  48.684120  44.003147\n",
      "2022-12-22  339.900818  67.991203  48.309772  43.902618\n",
      "2022-12-23  341.804749  67.778137  48.422077  43.806232\n",
      "\n",
      "[1260 rows x 4 columns]\n",
      "\n",
      "\n",
      "                   VOO        BND       VXUS       BNDX\n",
      "Date                                                   \n",
      "2018-12-26  204.844620  66.683174  38.964893  45.111290\n",
      "2018-12-27  206.748459  66.827324  38.973209  45.136314\n",
      "2018-12-28  206.485519  66.988426  39.189499  45.169655\n",
      "2018-12-31  208.344086  67.157997  39.280994  45.244732\n",
      "2019-01-02  208.507278  67.293671  39.206131  45.303108\n",
      "...                ...        ...        ...        ...\n",
      "2023-12-20  424.507751  70.802948  54.427013  47.480736\n",
      "2023-12-21  428.643402  70.793327  55.384930  47.415375\n",
      "2023-12-22  429.640289  70.746086  55.404282  47.393311\n",
      "2023-12-26  431.426788  70.813576  55.675205  47.412495\n",
      "2023-12-27  432.216370  71.266853  56.013866  47.690708\n",
      "\n",
      "[1260 rows x 4 columns]\n",
      "\n",
      "\n"
     ]
    }
   ],
   "source": [
    "tscv = TimeSeriesSplit(n_splits=3, max_train_size=252*5, test_size=252, gap=0)\n",
    "for train, test in tscv.split(prices):\n",
    "    print(prices.iloc[train, :])\n",
    "    print(\"\\n\")"
   ]
  },
  {
   "cell_type": "code",
   "execution_count": null,
   "id": "fa1ddec8-85cf-4772-826e-948ca95e44d8",
   "metadata": {},
   "outputs": [],
   "source": []
  }
 ],
 "metadata": {
  "kernelspec": {
   "display_name": "Python 3 (ipykernel)",
   "language": "python",
   "name": "python3"
  },
  "language_info": {
   "codemirror_mode": {
    "name": "ipython",
    "version": 3
   },
   "file_extension": ".py",
   "mimetype": "text/x-python",
   "name": "python",
   "nbconvert_exporter": "python",
   "pygments_lexer": "ipython3",
   "version": "3.13.1"
  }
 },
 "nbformat": 4,
 "nbformat_minor": 5
}
