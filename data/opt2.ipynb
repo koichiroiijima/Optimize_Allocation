{
 "cells": [
  {
   "cell_type": "code",
   "execution_count": 88,
   "id": "3690acab-29b8-4aef-b84e-92d3e353628c",
   "metadata": {},
   "outputs": [],
   "source": [
    "import numpy as np\n",
    "import pandas as pd\n",
    "import pandas_datareader as web\n",
    "import matplotlib.pyplot as plt\n",
    "import datetime\n",
    "import math"
   ]
  },
  {
   "cell_type": "code",
   "execution_count": 89,
   "id": "09009721-ad26-4060-87d5-eaa3e98144dc",
   "metadata": {},
   "outputs": [],
   "source": [
    "from pypfopt import expected_returns\n",
    "from pypfopt import risk_models\n",
    "from pypfopt import efficient_frontier\n",
    "from pypfopt import objective_functions\n",
    "from pypfopt import black_litterman, risk_models\n",
    "from pypfopt import BlackLittermanModel, plotting"
   ]
  },
  {
   "cell_type": "code",
   "execution_count": 90,
   "id": "c2ce6f3a-bc2e-4a46-b0af-d7b83e113325",
   "metadata": {},
   "outputs": [],
   "source": [
    "import pandas as pd\n",
    "import pandas_datareader as web\n",
    "import datetime\n",
    "\n",
    "def _load_prices(\n",
    "    ticker: str,\n",
    "    data_source: str = 'yahoo',\n",
    "    end: str = datetime.date.today()\n",
    ") -> pd.DataFrame:\n",
    "    return web.DataReader(name = ticker, data_source = data_source, start = '2000-01-01', end = end).loc[:, 'Adj Close']\n",
    "\n",
    "def load_prices_multitickers(\n",
    "    tickers: list,\n",
    "    data_source: str = 'yahoo',\n",
    "    end: str = datetime.date.today()\n",
    ") -> list:\n",
    "    prices = pd.DataFrame()\n",
    "    for t in tickers:\n",
    "        prices[t] = _load_prices(t, data_source, end)\n",
    "        \n",
    "    return prices.fillna(value=None, method=\"ffill\", axis=0, inplace=False).dropna(axis=0, how='any', inplace=False)"
   ]
  },
  {
   "cell_type": "code",
   "execution_count": 91,
   "id": "997e4006-41c6-4555-8dae-cfc2812d0614",
   "metadata": {},
   "outputs": [],
   "source": [
    "def calc_omega(views):\n",
    "    variances = []\n",
    "    for symbol, view in views.items():\n",
    "        lb, ub  = view[0], view[2]\n",
    "        std_dev = (ub - lb)/2\n",
    "        variances.append(std_dev ** 2)\n",
    "    omega = np.diag(variances)\n",
    "    return omega\n",
    "\n",
    "def load_mean_views(views):\n",
    "    mu = {}\n",
    "    for symbol, view in views.items():\n",
    "        mu[symbol] = view[1]\n",
    "    return mu"
   ]
  },
  {
   "cell_type": "code",
   "execution_count": 92,
   "id": "ad3ee39e-d9e9-48d0-a0bb-2f1df66525bc",
   "metadata": {},
   "outputs": [],
   "source": [
    "def load_gdp_data(fname: str) -> pd.DataFrame:\n",
    "    world_gdp = pd.read_csv(\n",
    "        fname, \n",
    "        sep=\",\", \n",
    "        header=2,\n",
    "        index_col=\"Country Code\", \n",
    "        #names=[\"Date\", \"mkt\"], \n",
    "        skipinitialspace=True,\n",
    "        skip_blank_lines=True,\n",
    "        parse_dates=True,\n",
    "        infer_datetime_format=True\n",
    "    ).loc[\"WLD\"].iloc[3:].dropna().astype('float64').reset_index()\n",
    "    \n",
    "    world_gdp.loc[:, 'index'] = pd.to_datetime(world_gdp.loc[:, 'index'])\n",
    "    return world_gdp.set_index('index')\n",
    "\n",
    "def interpolate_gdp_data(df_gdp : pd.DataFrame) -> pd.DataFrame:\n",
    "    temp = pd.DataFrame(\n",
    "        pd.date_range(start=g.index[0], end=g.index[-1], freq='D'),\n",
    "        columns=[\"date\"]\n",
    "    )\n",
    "    temp.loc[:, 'dmy'] = math.nan\n",
    "    i_gdp = temp.set_index('date').join(df_gdp).drop('dmy', axis=1).interpolate(method = 'akima', axis=0)\n",
    "    \n",
    "    return i_gdp"
   ]
  },
  {
   "cell_type": "code",
   "execution_count": 93,
   "id": "0b3a8efc-0064-4554-bf13-2256793eb150",
   "metadata": {},
   "outputs": [],
   "source": [
    "tickers = ['VOO', 'BND', 'VXUS', 'BNDX']\n",
    "prices=load_prices_multitickers(tickers, 'yahoo')"
   ]
  },
  {
   "cell_type": "code",
   "execution_count": 94,
   "id": "8be7dcea-1e5b-4c6e-a131-ef7c11fbdc24",
   "metadata": {},
   "outputs": [
    {
     "data": {
      "text/html": [
       "<div>\n",
       "<style scoped>\n",
       "    .dataframe tbody tr th:only-of-type {\n",
       "        vertical-align: middle;\n",
       "    }\n",
       "\n",
       "    .dataframe tbody tr th {\n",
       "        vertical-align: top;\n",
       "    }\n",
       "\n",
       "    .dataframe thead th {\n",
       "        text-align: right;\n",
       "    }\n",
       "</style>\n",
       "<table border=\"1\" class=\"dataframe\">\n",
       "  <thead>\n",
       "    <tr style=\"text-align: right;\">\n",
       "      <th></th>\n",
       "      <th>mkt</th>\n",
       "    </tr>\n",
       "    <tr>\n",
       "      <th>Date</th>\n",
       "      <th></th>\n",
       "    </tr>\n",
       "  </thead>\n",
       "  <tbody>\n",
       "    <tr>\n",
       "      <th>2007-11-30</th>\n",
       "      <td>1291.856</td>\n",
       "    </tr>\n",
       "    <tr>\n",
       "      <th>2007-12-31</th>\n",
       "      <td>1275.956</td>\n",
       "    </tr>\n",
       "    <tr>\n",
       "      <th>2008-01-31</th>\n",
       "      <td>1170.327</td>\n",
       "    </tr>\n",
       "    <tr>\n",
       "      <th>2008-02-29</th>\n",
       "      <td>1173.998</td>\n",
       "    </tr>\n",
       "    <tr>\n",
       "      <th>2008-03-31</th>\n",
       "      <td>1152.170</td>\n",
       "    </tr>\n",
       "    <tr>\n",
       "      <th>...</th>\n",
       "      <td>...</td>\n",
       "    </tr>\n",
       "    <tr>\n",
       "      <th>2021-01-29</th>\n",
       "      <td>2094.703</td>\n",
       "    </tr>\n",
       "    <tr>\n",
       "      <th>2021-02-26</th>\n",
       "      <td>2149.293</td>\n",
       "    </tr>\n",
       "    <tr>\n",
       "      <th>2021-03-31</th>\n",
       "      <td>2200.156</td>\n",
       "    </tr>\n",
       "    <tr>\n",
       "      <th>2021-04-30</th>\n",
       "      <td>2292.451</td>\n",
       "    </tr>\n",
       "    <tr>\n",
       "      <th>2021-05-31</th>\n",
       "      <td>2322.886</td>\n",
       "    </tr>\n",
       "  </tbody>\n",
       "</table>\n",
       "<p>163 rows × 1 columns</p>\n",
       "</div>"
      ],
      "text/plain": [
       "                 mkt\n",
       "Date                \n",
       "2007-11-30  1291.856\n",
       "2007-12-31  1275.956\n",
       "2008-01-31  1170.327\n",
       "2008-02-29  1173.998\n",
       "2008-03-31  1152.170\n",
       "...              ...\n",
       "2021-01-29  2094.703\n",
       "2021-02-26  2149.293\n",
       "2021-03-31  2200.156\n",
       "2021-04-30  2292.451\n",
       "2021-05-31  2322.886\n",
       "\n",
       "[163 rows x 1 columns]"
      ]
     },
     "execution_count": 94,
     "metadata": {},
     "output_type": "execute_result"
    }
   ],
   "source": [
    "msci = pd.read_csv(\"./data/msci.csv\", sep=\",\", header=0, index_col=\"Date\", names=[\"Date\", \"mkt\"], skipinitialspace=True, skip_blank_lines=True, parse_dates=True, infer_datetime_format=True, thousands=\",\")\n",
    "msci"
   ]
  },
  {
   "cell_type": "code",
   "execution_count": 95,
   "id": "06072487-b53f-4422-ad93-8595a64bba65",
   "metadata": {},
   "outputs": [
    {
     "data": {
      "text/html": [
       "<div>\n",
       "<style scoped>\n",
       "    .dataframe tbody tr th:only-of-type {\n",
       "        vertical-align: middle;\n",
       "    }\n",
       "\n",
       "    .dataframe tbody tr th {\n",
       "        vertical-align: top;\n",
       "    }\n",
       "\n",
       "    .dataframe thead th {\n",
       "        text-align: right;\n",
       "    }\n",
       "</style>\n",
       "<table border=\"1\" class=\"dataframe\">\n",
       "  <thead>\n",
       "    <tr style=\"text-align: right;\">\n",
       "      <th></th>\n",
       "      <th>mkt</th>\n",
       "    </tr>\n",
       "    <tr>\n",
       "      <th>date</th>\n",
       "      <th></th>\n",
       "    </tr>\n",
       "  </thead>\n",
       "  <tbody>\n",
       "    <tr>\n",
       "      <th>2013-06-04</th>\n",
       "      <td>7.849682e+13</td>\n",
       "    </tr>\n",
       "    <tr>\n",
       "      <th>2013-06-05</th>\n",
       "      <td>7.850259e+13</td>\n",
       "    </tr>\n",
       "    <tr>\n",
       "      <th>2013-06-06</th>\n",
       "      <td>7.850835e+13</td>\n",
       "    </tr>\n",
       "    <tr>\n",
       "      <th>2013-06-07</th>\n",
       "      <td>7.851412e+13</td>\n",
       "    </tr>\n",
       "    <tr>\n",
       "      <th>2013-06-10</th>\n",
       "      <td>7.853141e+13</td>\n",
       "    </tr>\n",
       "    <tr>\n",
       "      <th>...</th>\n",
       "      <td>...</td>\n",
       "    </tr>\n",
       "    <tr>\n",
       "      <th>2020-12-24</th>\n",
       "      <td>9.570453e+13</td>\n",
       "    </tr>\n",
       "    <tr>\n",
       "      <th>2020-12-28</th>\n",
       "      <td>9.590192e+13</td>\n",
       "    </tr>\n",
       "    <tr>\n",
       "      <th>2020-12-29</th>\n",
       "      <td>9.595139e+13</td>\n",
       "    </tr>\n",
       "    <tr>\n",
       "      <th>2020-12-30</th>\n",
       "      <td>9.600091e+13</td>\n",
       "    </tr>\n",
       "    <tr>\n",
       "      <th>2020-12-31</th>\n",
       "      <td>9.605048e+13</td>\n",
       "    </tr>\n",
       "  </tbody>\n",
       "</table>\n",
       "<p>1910 rows × 1 columns</p>\n",
       "</div>"
      ],
      "text/plain": [
       "                     mkt\n",
       "date                    \n",
       "2013-06-04  7.849682e+13\n",
       "2013-06-05  7.850259e+13\n",
       "2013-06-06  7.850835e+13\n",
       "2013-06-07  7.851412e+13\n",
       "2013-06-10  7.853141e+13\n",
       "...                  ...\n",
       "2020-12-24  9.570453e+13\n",
       "2020-12-28  9.590192e+13\n",
       "2020-12-29  9.595139e+13\n",
       "2020-12-30  9.600091e+13\n",
       "2020-12-31  9.605048e+13\n",
       "\n",
       "[1910 rows x 1 columns]"
      ]
     },
     "execution_count": 95,
     "metadata": {},
     "output_type": "execute_result"
    }
   ],
   "source": [
    "g = load_gdp_data(\"./data/API_NY.GDP.MKTP.CD_DS2_en_csv_v2_4251000.csv\")\n",
    "g = pd.DataFrame(interpolate_gdp_data(g).join(prices).dropna(axis=0, how='any', inplace=False).loc[:, \"WLD\"].rename(\"mkt\"))\n",
    "g"
   ]
  },
  {
   "cell_type": "code",
   "execution_count": 96,
   "id": "6d94ac1c-6af4-4b2d-9499-b799fedc2e43",
   "metadata": {},
   "outputs": [],
   "source": [
    "rets = {}\n",
    "covs = {}"
   ]
  },
  {
   "cell_type": "code",
   "execution_count": 97,
   "id": "8349691f-6294-4330-9d88-8062e5169eac",
   "metadata": {},
   "outputs": [
    {
     "data": {
      "text/plain": [
       "1.9792027252663047e-05"
      ]
     },
     "execution_count": 97,
     "metadata": {},
     "output_type": "execute_result"
    }
   ],
   "source": [
    "risk_free_rate=1.005**((1/252)) - 1\n",
    "risk_free_rate"
   ]
  },
  {
   "cell_type": "code",
   "execution_count": 98,
   "id": "f08a53b0-ddbc-417b-89fd-7e55db1d0e9d",
   "metadata": {},
   "outputs": [],
   "source": [
    "rets['mhr'] = expected_returns.mean_historical_return(prices, frequency=252)\n",
    "rets['ehr'] = expected_returns.ema_historical_return(prices, frequency=252, span=252*5)\n",
    "rets['capmr'] = expected_returns.capm_return(prices, market_prices=g, risk_free_rate=risk_free_rate, compounding=True, frequency=252)"
   ]
  },
  {
   "cell_type": "code",
   "execution_count": 99,
   "id": "4c23366f-4ed0-44d6-b424-5de2128a15bc",
   "metadata": {},
   "outputs": [],
   "source": [
    "covs['sample_cov'] = risk_models.risk_matrix(prices, method='sample_cov')\n",
    "covs['semicovariance'] = risk_models.risk_matrix(prices, method='semicovariance', benchmark=risk_free_rate, frequency=252, log_returns=False)\n",
    "covs['exp_cov'] = risk_models.risk_matrix(prices, method='exp_cov', span=252*5, frequency=252)"
   ]
  },
  {
   "cell_type": "code",
   "execution_count": 100,
   "id": "72052a5b-6aa4-4bbf-85d8-0a7573a43ecc",
   "metadata": {},
   "outputs": [],
   "source": [
    "covs['ledoiid_wolf_cc'] = risk_models.risk_matrix(prices, method='ledoit_wolf_constant_correlation', frequency=252)\n",
    "covs['ledoiid_wolf_sf'] = risk_models.risk_matrix(prices, method='ledoit_wolf_single_factor', frequency=252)\n",
    "covs['ledoiid_wolf_cv'] = risk_models.risk_matrix(prices, method='ledoit_wolf_constant_variance', frequency=252)\n",
    "covs['oracle_approx'] = risk_models.risk_matrix(prices, method='oracle_approximating', frequency=252)"
   ]
  },
  {
   "cell_type": "code",
   "execution_count": 101,
   "id": "ac5f82be-58b5-49cc-a24b-77851733ef97",
   "metadata": {},
   "outputs": [
    {
     "data": {
      "text/plain": [
       "{'mhr': VOO     0.129076\n",
       " BND     0.017749\n",
       " VXUS    0.042881\n",
       " BNDX    0.022882\n",
       " dtype: float64,\n",
       " 'ehr': VOO     0.140761\n",
       " BND    -0.009161\n",
       " VXUS    0.036891\n",
       " BNDX   -0.007814\n",
       " Name: 2022-08-11 00:00:00, dtype: float64,\n",
       " 'capmr': VOO     0.025676\n",
       " BND    -0.000957\n",
       " VXUS    0.039477\n",
       " BNDX   -0.005058\n",
       " Name: mkt, dtype: float64}"
      ]
     },
     "execution_count": 101,
     "metadata": {},
     "output_type": "execute_result"
    }
   ],
   "source": [
    "rets"
   ]
  },
  {
   "cell_type": "code",
   "execution_count": 102,
   "id": "b8972b33-56bb-46a4-abcd-abda8b19b307",
   "metadata": {},
   "outputs": [
    {
     "data": {
      "text/plain": [
       "{'sample_cov':            VOO       BND      VXUS      BNDX\n",
       " VOO   0.030530  0.000350  0.026093  0.000311\n",
       " BND   0.000350  0.002209  0.000541  0.001075\n",
       " VXUS  0.026093  0.000541  0.029519  0.000223\n",
       " BNDX  0.000311  0.001075  0.000223  0.001197,\n",
       " 'semicovariance':            VOO       BND      VXUS      BNDX\n",
       " VOO   0.015886  0.001615  0.014352  0.001199\n",
       " BND   0.001615  0.001231  0.001768  0.000687\n",
       " VXUS  0.014352  0.001768  0.016402  0.001232\n",
       " BNDX  0.001199  0.000687  0.001232  0.000658,\n",
       " 'exp_cov':            VOO       BND      VXUS      BNDX\n",
       " VOO   0.042458  0.001442  0.034218  0.001019\n",
       " BND   0.001442  0.003375  0.001282  0.001812\n",
       " VXUS  0.034218  0.001282  0.036067  0.000649\n",
       " BNDX  0.001019  0.001812  0.000649  0.001844,\n",
       " 'ledoiid_wolf_cc':            VOO       BND      VXUS      BNDX\n",
       " VOO   0.030530  0.000386  0.025784  0.000337\n",
       " BND   0.000386  0.002209  0.000572  0.001064\n",
       " VXUS  0.025784  0.000572  0.029519  0.000249\n",
       " BNDX  0.000337  0.001064  0.000249  0.001197,\n",
       " 'ledoiid_wolf_sf':            VOO       BND      VXUS      BNDX\n",
       " VOO   0.030517  0.000350  0.026082  0.000311\n",
       " BND   0.000350  0.002208  0.000540  0.001074\n",
       " VXUS  0.026082  0.000540  0.029506  0.000223\n",
       " BNDX  0.000311  0.001074  0.000223  0.001196,\n",
       " 'ledoiid_wolf_cv':            VOO       BND      VXUS      BNDX\n",
       " VOO   0.030314  0.000345  0.025721  0.000307\n",
       " BND   0.000345  0.002396  0.000533  0.001059\n",
       " VXUS  0.025721  0.000533  0.029318  0.000220\n",
       " BNDX  0.000307  0.001059  0.000220  0.001399,\n",
       " 'oracle_approx':            VOO       BND      VXUS      BNDX\n",
       " VOO   0.030496  0.000349  0.026044  0.000311\n",
       " BND   0.000349  0.002227  0.000540  0.001073\n",
       " VXUS  0.026044  0.000540  0.029487  0.000222\n",
       " BNDX  0.000311  0.001073  0.000222  0.001217}"
      ]
     },
     "execution_count": 102,
     "metadata": {},
     "output_type": "execute_result"
    }
   ],
   "source": [
    "covs"
   ]
  },
  {
   "cell_type": "code",
   "execution_count": 103,
   "id": "3ff408ae-917b-403b-a581-121ca98d032d",
   "metadata": {},
   "outputs": [
    {
     "data": {
      "text/plain": [
       "{'VOO': 52370474000000.01,\n",
       " 'BND': 49000000000000,\n",
       " 'VXUS': 41315525999999.99,\n",
       " 'BNDX': 70000000000000}"
      ]
     },
     "execution_count": 103,
     "metadata": {},
     "output_type": "execute_result"
    }
   ],
   "source": [
    "mcaps = {\n",
    "    'VOO': 52370474000000.01,\n",
    "    'BND': 49000000000000,\n",
    "    'VXUS': 41315525999999.99,\n",
    "    'BNDX': 70000000000000\n",
    "}\n",
    "mcaps"
   ]
  },
  {
   "cell_type": "code",
   "execution_count": 111,
   "id": "3567152e-bac5-495e-9f16-6f0dd4f38ab6",
   "metadata": {},
   "outputs": [
    {
     "data": {
      "text/plain": [
       "1045.9342499582585"
      ]
     },
     "execution_count": 111,
     "metadata": {},
     "output_type": "execute_result"
    }
   ],
   "source": [
    "delta = black_litterman.market_implied_risk_aversion(g.iloc[:, 0], frequency=252, risk_free_rate=0.005)\n",
    "delta"
   ]
  },
  {
   "cell_type": "code",
   "execution_count": 112,
   "id": "60f4d541-5d0e-494e-9dff-c546bef2f388",
   "metadata": {},
   "outputs": [
    {
     "data": {
      "text/plain": [
       "1.8249414447466508"
      ]
     },
     "execution_count": 112,
     "metadata": {},
     "output_type": "execute_result"
    }
   ],
   "source": [
    "delta = black_litterman.market_implied_risk_aversion(msci.iloc[:, 0], frequency=12, risk_free_rate=0.005)\n",
    "delta"
   ]
  },
  {
   "cell_type": "code",
   "execution_count": 113,
   "id": "5d8632ea-94b4-43c9-baa5-af4713b97fce",
   "metadata": {},
   "outputs": [],
   "source": [
    "viewdict = {\n",
    "    \"VOO\":[-0.04, 0.05, 0.05],\n",
    "    \"BND\":[-0.03, 0.02, 0.0],\n",
    "    \"VXUS\":[-0.02, 0.04, 0.05],\n",
    "    \"BNDX\":[-0.03, 0.01, 0.0]\n",
    "}\n",
    "omega = calc_omega(viewdict)\n",
    "mu = load_mean_views(viewdict)"
   ]
  },
  {
   "cell_type": "code",
   "execution_count": 114,
   "id": "e56efa29-c1fb-4485-93db-140edc6a4476",
   "metadata": {},
   "outputs": [
    {
     "data": {
      "text/plain": [
       "{'mhr': VOO     0.129076\n",
       " BND     0.017749\n",
       " VXUS    0.042881\n",
       " BNDX    0.022882\n",
       " dtype: float64,\n",
       " 'ehr': VOO     0.140761\n",
       " BND    -0.009161\n",
       " VXUS    0.036891\n",
       " BNDX   -0.007814\n",
       " Name: 2022-08-11 00:00:00, dtype: float64,\n",
       " 'capmr': VOO     0.025676\n",
       " BND    -0.000957\n",
       " VXUS    0.039477\n",
       " BNDX   -0.005058\n",
       " Name: mkt, dtype: float64,\n",
       " 'bl_post': VOO     0.037616\n",
       " BND     0.008764\n",
       " VXUS    0.036394\n",
       " BNDX    0.005440\n",
       " dtype: float64}"
      ]
     },
     "execution_count": 114,
     "metadata": {},
     "output_type": "execute_result"
    }
   ],
   "source": [
    "cov_matrix = covs['oracle_approx']\n",
    "bl = BlackLittermanModel(cov_matrix, pi=\"market\", market_caps=mcaps, risk_aversion=delta, absolute_views=mu, omega=omega)\n",
    "rets['bl_post'] = bl.bl_returns()\n",
    "rets"
   ]
  },
  {
   "cell_type": "code",
   "execution_count": 115,
   "id": "668a5b10-a7eb-451b-8210-c554f8147c63",
   "metadata": {},
   "outputs": [
    {
     "name": "stdout",
     "output_type": "stream",
     "text": [
      "Expected annual return: 3.0%\n",
      "Annual volatility: 12.9%\n",
      "Sharpe Ratio: 0.19\n",
      "OrderedDict([('VOO', 0.3874979983510486), ('BND', 0.1337966143606874), ('VXUS', 0.3762768532456064), ('BNDX', 0.1024285340426577)])\n",
      "(0.03, 0.12869796298548145, 0.194253268816852)\n"
     ]
    }
   ],
   "source": [
    "r = 0.03\n",
    "expected_return = rets['bl_post']\n",
    "cov_matrix = covs['oracle_approx']\n",
    "\n",
    "ef_bl = efficient_frontier.EfficientFrontier(expected_return, cov_matrix, weight_bounds=(0.05, 0.6))\n",
    "ef_bl.add_objective(objective_functions.L2_reg, gamma=1.0)\n",
    "#w = ef_bl.max_sharpe(risk_free_rate=0.005)\n",
    "w = ef_bl.efficient_return(r)\n",
    "perf_bst = ef_bl.portfolio_performance(verbose=True, risk_free_rate=0.005)\n",
    "\n",
    "print(w)\n",
    "print(perf_bst)"
   ]
  },
  {
   "cell_type": "code",
   "execution_count": 116,
   "id": "e5132152-f26e-44e4-b5bc-d617e63cb360",
   "metadata": {},
   "outputs": [
    {
     "name": "stdout",
     "output_type": "stream",
     "text": [
      "Expected annual return: 3.4%\n",
      "Annual volatility: 15.0%\n",
      "Sharpe Ratio: 0.19\n",
      "OrderedDict([('VOO', 0.457280260137712), ('BND', 0.053097490601693), ('VXUS', 0.439622249260595), ('BNDX', 0.05)])\n",
      "(0.03393783938892036, 0.15042656984394903, 0.1923718623574291)\n"
     ]
    },
    {
     "name": "stderr",
     "output_type": "stream",
     "text": [
      "/root/.pyenv/versions/3.10.1/lib/python3.10/site-packages/pypfopt/efficient_frontier/efficient_frontier.py:257: UserWarning: max_sharpe transforms the optimization problem so additional objectives may not work as expected.\n",
      "  warnings.warn(\n"
     ]
    }
   ],
   "source": [
    "expected_return = rets['bl_post']\n",
    "cov_matrix = covs['oracle_approx']\n",
    "\n",
    "ef_bl = efficient_frontier.EfficientFrontier(expected_return, cov_matrix, weight_bounds=(0.05, 0.6))\n",
    "ef_bl.add_objective(objective_functions.L2_reg, gamma=1.0)\n",
    "w = ef_bl.max_sharpe(risk_free_rate=0.005)\n",
    "perf_mshL2 = ef_bl.portfolio_performance(verbose=True, risk_free_rate=0.005)\n",
    "\n",
    "print(w)\n",
    "print(perf_mshL2)"
   ]
  },
  {
   "cell_type": "code",
   "execution_count": 117,
   "id": "5455c8cc-1210-4955-8612-7c5e61763a3e",
   "metadata": {},
   "outputs": [
    {
     "name": "stdout",
     "output_type": "stream",
     "text": [
      "Expected annual return: 2.1%\n",
      "Annual volatility: 7.8%\n",
      "Sharpe Ratio: 0.20\n",
      "OrderedDict([('VOO', 0.261161254645068), ('BND', 0.5694782040961412), ('VXUS', 0.1693605412587908), ('BNDX', 0.0)])\n",
      "(0.02097837522437207, 0.07848567521462768, 0.20358333136177334)\n"
     ]
    }
   ],
   "source": [
    "expected_return = rets['bl_post']\n",
    "cov_matrix = covs['oracle_approx']\n",
    "\n",
    "ef_bl = efficient_frontier.EfficientFrontier(expected_return, cov_matrix)\n",
    "w = ef_bl.max_sharpe(risk_free_rate=0.005)\n",
    "perf_msh = ef_bl.portfolio_performance(verbose=True, risk_free_rate=0.005)\n",
    "\n",
    "print(w)\n",
    "print(perf_msh)"
   ]
  },
  {
   "cell_type": "code",
   "execution_count": 118,
   "id": "73d90a94-9067-43c5-81d6-5dccba3ad57b",
   "metadata": {},
   "outputs": [
    {
     "name": "stdout",
     "output_type": "stream",
     "text": [
      "0.02143999480607678:0.1965206037942707\n",
      "((0.021665787067739403, 0.08480427367903941, 0.1965206037942707), OrderedDict([('VOO', 0.2434212426027899), ('BND', 0.2562965458301839), ('VXUS', 0.2436400485101734), ('BNDX', 0.256642163056853)]))\n"
     ]
    }
   ],
   "source": [
    "expected_return = rets['bl_post']\n",
    "cov_matrix = covs['oracle_approx']\n",
    "\n",
    "min_ret = max(0, min(expected_return))\n",
    "max_ret = min(0.25, max(expected_return))\n",
    "rets_seq = list(np.arange(min_ret, max_ret, 0.001))\n",
    "\n",
    "weights = {}\n",
    "max_sr = -1\n",
    "max_r = 0.0\n",
    "for r in rets_seq:\n",
    "    _ef_bl = efficient_frontier.EfficientFrontier(expected_return, cov_matrix)\n",
    "    _ef_bl.add_objective(objective_functions.L2_reg, gamma=1.0)\n",
    "    _w = _ef_bl.efficient_return(r)\n",
    "    _perf = _ef_bl.portfolio_performance(verbose=False, risk_free_rate=0.005)\n",
    "    \n",
    "    weights[r] = (_perf, _w)\n",
    "    \n",
    "    if _perf[2] >= max_sr:\n",
    "        max_sr = _perf[2]\n",
    "        max_r = r\n",
    "print(\"{0}:{1}\".format(max_r, max_sr))\n",
    "print(weights[max_r])"
   ]
  },
  {
   "cell_type": "code",
   "execution_count": 119,
   "id": "bdd4c735-e572-4ef7-a980-86143de819e0",
   "metadata": {},
   "outputs": [
    {
     "data": {
      "image/png": "[encoded data removed]",
      "text/plain": [
       "<Figure size 432x288 with 1 Axes>"
      ]
     },
     "metadata": {
      "needs_background": "light"
     },
     "output_type": "display_data"
    }
   ],
   "source": [
    "expected_return = rets['bl_post']\n",
    "cov_matrix = covs['oracle_approx']\n",
    "\n",
    "ef_for_plot = efficient_frontier.EfficientFrontier(expected_return, cov_matrix)\n",
    "\n",
    "fig, ax = plt.subplots()\n",
    "plotting.plot_efficient_frontier(ef_for_plot, ax=ax, show_assets=True)\n",
    "\n",
    "# Generate random portfolios\n",
    "n_samples = 10000\n",
    "w = np.random.dirichlet(np.ones(len(expected_return)), n_samples)\n",
    "r = w.dot(expected_return)\n",
    "s = np.sqrt(np.diag(w @ cov_matrix @ w.T))\n",
    "sharpes = r / s\n",
    "ax.scatter(s, r, marker=\".\", c=sharpes, cmap=\"viridis_r\")\n",
    "\n",
    "ret_tangent, std_tangent, _ = weights[max_r][0]\n",
    "ax.scatter(std_tangent, ret_tangent, marker=\"*\", s=100, c=\"r\", label=\"Max Sharpe\")\n",
    "\n",
    "ret_bst, std_bst, _ = perf_bst\n",
    "ax.scatter(std_bst, ret_bst, marker=\"o\", s=100, c=\"y\", label=\"r=fix,L2,bounded\")\n",
    "\n",
    "ax.set_title(\"Efficient Frontier with random portfolios\")\n",
    "ax.legend()\n",
    "plt.tight_layout()\n",
    "plt.savefig(\"ef_scatter.png\", dpi=200)\n",
    "plt.show()"
   ]
  },
  {
   "cell_type": "code",
   "execution_count": 120,
   "id": "c8dfd187-ba77-49d5-92d8-6033d0fbcd9c",
   "metadata": {},
   "outputs": [],
   "source": [
    "from sklearn.model_selection import TimeSeriesSplit"
   ]
  },
  {
   "cell_type": "code",
   "execution_count": 121,
   "id": "0c4ed100-3c28-4c2a-96c6-cae9a260f19a",
   "metadata": {},
   "outputs": [
    {
     "name": "stdout",
     "output_type": "stream",
     "text": [
      "                   VOO        BND       VXUS       BNDX\n",
      "Date                                                   \n",
      "2014-08-11  153.701431  66.679680  42.107735  43.138111\n",
      "2014-08-12  153.519730  66.622849  42.067913  43.138111\n",
      "2014-08-13  154.601181  66.744576  42.346661  43.204842\n",
      "2014-08-14  155.276031  66.809502  42.505959  43.263241\n",
      "2014-08-15  155.232727  66.931206  42.466122  43.254887\n",
      "...                ...        ...        ...        ...\n",
      "2019-08-06  251.585052  78.416100  45.886150  53.843861\n",
      "2019-08-07  251.756470  78.416100  46.088169  54.065281\n",
      "2019-08-08  256.669312  78.481369  46.620766  53.889996\n",
      "2019-08-09  254.879364  78.341415  46.262646  53.936127\n",
      "2019-08-12  251.889694  78.686630  45.812691  53.991474\n",
      "\n",
      "[1260 rows x 4 columns]\n",
      "\n",
      "\n",
      "                   VOO        BND       VXUS       BNDX\n",
      "Date                                                   \n",
      "2015-08-11  167.937332  68.188705  40.569569  44.883270\n",
      "2015-08-12  168.086548  68.163651  40.307732  44.891750\n",
      "2015-08-13  167.902222  68.021919  40.201355  44.866352\n",
      "2015-08-14  168.551758  67.996902  40.242256  44.807064\n",
      "2015-08-17  169.490997  68.121964  40.168621  44.883270\n",
      "...                ...        ...        ...        ...\n",
      "2020-08-05  296.242371  85.446541  49.579258  55.481117\n",
      "2020-08-06  298.232544  85.580414  49.729900  55.547863\n",
      "2020-08-07  298.387878  85.484779  49.287395  55.442986\n",
      "2020-08-10  299.339294  85.389168  49.438034  55.481117\n",
      "2020-08-11  296.921936  85.092659  49.551014  55.328571\n",
      "\n",
      "[1260 rows x 4 columns]\n",
      "\n",
      "\n",
      "                   VOO        BND       VXUS       BNDX\n",
      "Date                                                   \n",
      "2016-08-10  179.108398  72.134232  39.637093  48.289379\n",
      "2016-08-11  179.987442  71.946114  39.956955  48.246395\n",
      "2016-08-12  179.807999  72.108543  39.813858  48.237789\n",
      "2016-08-15  180.328232  71.988846  40.057957  48.160404\n",
      "2016-08-16  179.395416  71.954666  39.914864  48.143208\n",
      "...                ...        ...        ...        ...\n",
      "2021-08-05  400.359528  84.688240  63.587585  55.948792\n",
      "2021-08-06  401.049500  84.287521  63.287880  55.756058\n",
      "2021-08-09  400.665070  84.131142  63.297535  55.775333\n",
      "2021-08-10  401.167786  84.004097  63.413555  55.784977\n",
      "2021-08-11  402.133789  84.062729  63.800289  55.794609\n",
      "\n",
      "[1260 rows x 4 columns]\n",
      "\n",
      "\n"
     ]
    }
   ],
   "source": [
    "tscv = TimeSeriesSplit(n_splits=3, max_train_size=252*5, test_size=252, gap=0)\n",
    "for train, test in tscv.split(prices):\n",
    "    print(prices.iloc[train, :])\n",
    "    print(\"\\n\")"
   ]
  },
  {
   "cell_type": "code",
   "execution_count": null,
   "id": "fa1ddec8-85cf-4772-826e-948ca95e44d8",
   "metadata": {},
   "outputs": [],
   "source": []
  }
 ],
 "metadata": {
  "kernelspec": {
   "display_name": "Python 3 (ipykernel)",
   "language": "python",
   "name": "python3"
  },
  "language_info": {
   "codemirror_mode": {
    "name": "ipython",
    "version": 3
   },
   "file_extension": ".py",
   "mimetype": "text/x-python",
   "name": "python",
   "nbconvert_exporter": "python",
   "pygments_lexer": "ipython3",
   "version": "3.10.1"
  }
 },
 "nbformat": 4,
 "nbformat_minor": 5
}
