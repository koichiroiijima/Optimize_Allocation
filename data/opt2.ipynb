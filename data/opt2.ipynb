{
 "cells": [
  {
   "cell_type": "code",
   "execution_count": 1,
   "id": "3690acab-29b8-4aef-b84e-92d3e353628c",
   "metadata": {},
   "outputs": [],
   "source": [
    "import numpy as np\n",
    "import pandas as pd\n",
    "import pandas_datareader as web\n",
    "import matplotlib.pyplot as plt\n",
    "import datetime\n",
    "import math"
   ]
  },
  {
   "cell_type": "code",
   "execution_count": 2,
   "id": "09009721-ad26-4060-87d5-eaa3e98144dc",
   "metadata": {},
   "outputs": [],
   "source": [
    "from pypfopt import expected_returns\n",
    "from pypfopt import risk_models\n",
    "from pypfopt import efficient_frontier\n",
    "from pypfopt import objective_functions\n",
    "from pypfopt import black_litterman, risk_models\n",
    "from pypfopt import BlackLittermanModel, plotting"
   ]
  },
  {
   "cell_type": "code",
   "execution_count": 3,
   "id": "c2ce6f3a-bc2e-4a46-b0af-d7b83e113325",
   "metadata": {},
   "outputs": [],
   "source": [
    "import pandas as pd\n",
    "from pandas_datareader import data as pdr\n",
    "import datetime\n",
    "import yfinance as yfin\n",
    "yfin.pdr_override()\n",
    "\n",
    "def _load_prices(\n",
    "    ticker: str,\n",
    "    data_source: str = 'yahoo',\n",
    "    end: str = datetime.date.today()\n",
    ") -> pd.DataFrame:\n",
    "    return pdr.get_data_yahoo(ticker, start='2000-01-01', end=end).loc[:, 'Adj Close']\n",
    "\n",
    "def load_prices_multitickers(\n",
    "    tickers: list,\n",
    "    data_source: str = 'yahoo',\n",
    "    end: str = datetime.date.today()\n",
    ") -> list:\n",
    "    prices = pd.DataFrame()\n",
    "    for t in tickers:\n",
    "        prices[t] = _load_prices(t, data_source, end)\n",
    "        \n",
    "    return prices.fillna(value=None, method=\"ffill\", axis=0, inplace=False).dropna(axis=0, how='any', inplace=False)"
   ]
  },
  {
   "cell_type": "code",
   "execution_count": 4,
   "id": "997e4006-41c6-4555-8dae-cfc2812d0614",
   "metadata": {},
   "outputs": [],
   "source": [
    "def calc_omega(views):\n",
    "    variances = []\n",
    "    for symbol, view in views.items():\n",
    "        lb, ub  = view[0], view[2]\n",
    "        std_dev = (ub - lb)/2\n",
    "        variances.append(std_dev ** 2)\n",
    "    omega = np.diag(variances)\n",
    "    return omega\n",
    "\n",
    "def load_mean_views(views):\n",
    "    mu = {}\n",
    "    for symbol, view in views.items():\n",
    "        mu[symbol] = view[1]\n",
    "    return mu"
   ]
  },
  {
   "cell_type": "code",
   "execution_count": 5,
   "id": "ad3ee39e-d9e9-48d0-a0bb-2f1df66525bc",
   "metadata": {},
   "outputs": [],
   "source": [
    "def load_gdp_data(fname: str) -> pd.DataFrame:\n",
    "    world_gdp = pd.read_csv(\n",
    "        fname, \n",
    "        sep=\",\", \n",
    "        header=2,\n",
    "        index_col=\"Country Code\", \n",
    "        #names=[\"Date\", \"mkt\"], \n",
    "        skipinitialspace=True,\n",
    "        skip_blank_lines=True,\n",
    "        parse_dates=True,\n",
    "        infer_datetime_format=True\n",
    "    ).loc[\"WLD\"].iloc[3:].dropna().astype('float64').reset_index()\n",
    "    \n",
    "    world_gdp.loc[:, 'index'] = pd.to_datetime(world_gdp.loc[:, 'index'])\n",
    "    return world_gdp.set_index('index')\n",
    "\n",
    "def interpolate_gdp_data(df_gdp : pd.DataFrame) -> pd.DataFrame:\n",
    "    temp = pd.DataFrame(\n",
    "        pd.date_range(start=g.index[0], end=g.index[-1], freq='D'),\n",
    "        columns=[\"date\"]\n",
    "    )\n",
    "    temp.loc[:, 'dmy'] = math.nan\n",
    "    i_gdp = temp.set_index('date').join(df_gdp).drop('dmy', axis=1).interpolate(method = 'akima', axis=0)\n",
    "    \n",
    "    return i_gdp"
   ]
  },
  {
   "cell_type": "code",
   "execution_count": 6,
   "id": "0b3a8efc-0064-4554-bf13-2256793eb150",
   "metadata": {},
   "outputs": [
    {
     "name": "stdout",
     "output_type": "stream",
     "text": [
      "[*********************100%***********************]  1 of 1 completed\n",
      "[*********************100%***********************]  1 of 1 completed\n",
      "[*********************100%***********************]  1 of 1 completed\n",
      "[*********************100%***********************]  1 of 1 completed\n"
     ]
    }
   ],
   "source": [
    "tickers = ['VOO', 'BND', 'VXUS', 'BNDX']\n",
    "prices=load_prices_multitickers(tickers, 'yahoo')"
   ]
  },
  {
   "cell_type": "code",
   "execution_count": 7,
   "id": "8be7dcea-1e5b-4c6e-a131-ef7c11fbdc24",
   "metadata": {},
   "outputs": [
    {
     "data": {
      "text/html": [
       "<div>\n",
       "<style scoped>\n",
       "    .dataframe tbody tr th:only-of-type {\n",
       "        vertical-align: middle;\n",
       "    }\n",
       "\n",
       "    .dataframe tbody tr th {\n",
       "        vertical-align: top;\n",
       "    }\n",
       "\n",
       "    .dataframe thead th {\n",
       "        text-align: right;\n",
       "    }\n",
       "</style>\n",
       "<table border=\"1\" class=\"dataframe\">\n",
       "  <thead>\n",
       "    <tr style=\"text-align: right;\">\n",
       "      <th></th>\n",
       "      <th>mkt</th>\n",
       "    </tr>\n",
       "    <tr>\n",
       "      <th>Date</th>\n",
       "      <th></th>\n",
       "    </tr>\n",
       "  </thead>\n",
       "  <tbody>\n",
       "    <tr>\n",
       "      <th>1994-05-31</th>\n",
       "      <td>392.682</td>\n",
       "    </tr>\n",
       "    <tr>\n",
       "      <th>1994-06-30</th>\n",
       "      <td>392.593</td>\n",
       "    </tr>\n",
       "    <tr>\n",
       "      <th>1994-07-29</th>\n",
       "      <td>398.298</td>\n",
       "    </tr>\n",
       "    <tr>\n",
       "      <th>1994-08-31</th>\n",
       "      <td>410.747</td>\n",
       "    </tr>\n",
       "    <tr>\n",
       "      <th>1994-09-30</th>\n",
       "      <td>400.733</td>\n",
       "    </tr>\n",
       "    <tr>\n",
       "      <th>...</th>\n",
       "      <td>...</td>\n",
       "    </tr>\n",
       "    <tr>\n",
       "      <th>2023-08-31</th>\n",
       "      <td>1732.630</td>\n",
       "    </tr>\n",
       "    <tr>\n",
       "      <th>2023-09-29</th>\n",
       "      <td>1657.168</td>\n",
       "    </tr>\n",
       "    <tr>\n",
       "      <th>2023-10-31</th>\n",
       "      <td>1600.928</td>\n",
       "    </tr>\n",
       "    <tr>\n",
       "      <th>2023-11-30</th>\n",
       "      <td>1746.348</td>\n",
       "    </tr>\n",
       "    <tr>\n",
       "      <th>2023-12-29</th>\n",
       "      <td>1836.006</td>\n",
       "    </tr>\n",
       "  </tbody>\n",
       "</table>\n",
       "<p>356 rows × 1 columns</p>\n",
       "</div>"
      ],
      "text/plain": [
       "                 mkt\n",
       "Date                \n",
       "1994-05-31   392.682\n",
       "1994-06-30   392.593\n",
       "1994-07-29   398.298\n",
       "1994-08-31   410.747\n",
       "1994-09-30   400.733\n",
       "...              ...\n",
       "2023-08-31  1732.630\n",
       "2023-09-29  1657.168\n",
       "2023-10-31  1600.928\n",
       "2023-11-30  1746.348\n",
       "2023-12-29  1836.006\n",
       "\n",
       "[356 rows x 1 columns]"
      ]
     },
     "execution_count": 7,
     "metadata": {},
     "output_type": "execute_result"
    }
   ],
   "source": [
    "msci = pd.read_csv(\"./data/msci.csv\", sep=\",\", header=0, index_col=\"Date\", names=[\"Date\", \"mkt\"], skipinitialspace=True, skip_blank_lines=True, parse_dates=True, infer_datetime_format=True, thousands=\",\")\n",
    "msci"
   ]
  },
  {
   "cell_type": "code",
   "execution_count": 8,
   "id": "06072487-b53f-4422-ad93-8595a64bba65",
   "metadata": {},
   "outputs": [
    {
     "data": {
      "text/html": [
       "<div>\n",
       "<style scoped>\n",
       "    .dataframe tbody tr th:only-of-type {\n",
       "        vertical-align: middle;\n",
       "    }\n",
       "\n",
       "    .dataframe tbody tr th {\n",
       "        vertical-align: top;\n",
       "    }\n",
       "\n",
       "    .dataframe thead th {\n",
       "        text-align: right;\n",
       "    }\n",
       "</style>\n",
       "<table border=\"1\" class=\"dataframe\">\n",
       "  <thead>\n",
       "    <tr style=\"text-align: right;\">\n",
       "      <th></th>\n",
       "      <th>mkt</th>\n",
       "    </tr>\n",
       "    <tr>\n",
       "      <th>date</th>\n",
       "      <th></th>\n",
       "    </tr>\n",
       "  </thead>\n",
       "  <tbody>\n",
       "    <tr>\n",
       "      <th>2013-06-04</th>\n",
       "      <td>7.849682e+13</td>\n",
       "    </tr>\n",
       "    <tr>\n",
       "      <th>2013-06-05</th>\n",
       "      <td>7.850259e+13</td>\n",
       "    </tr>\n",
       "    <tr>\n",
       "      <th>2013-06-06</th>\n",
       "      <td>7.850835e+13</td>\n",
       "    </tr>\n",
       "    <tr>\n",
       "      <th>2013-06-07</th>\n",
       "      <td>7.851412e+13</td>\n",
       "    </tr>\n",
       "    <tr>\n",
       "      <th>2013-06-10</th>\n",
       "      <td>7.853141e+13</td>\n",
       "    </tr>\n",
       "    <tr>\n",
       "      <th>...</th>\n",
       "      <td>...</td>\n",
       "    </tr>\n",
       "    <tr>\n",
       "      <th>2020-12-24</th>\n",
       "      <td>9.570453e+13</td>\n",
       "    </tr>\n",
       "    <tr>\n",
       "      <th>2020-12-28</th>\n",
       "      <td>9.590192e+13</td>\n",
       "    </tr>\n",
       "    <tr>\n",
       "      <th>2020-12-29</th>\n",
       "      <td>9.595139e+13</td>\n",
       "    </tr>\n",
       "    <tr>\n",
       "      <th>2020-12-30</th>\n",
       "      <td>9.600091e+13</td>\n",
       "    </tr>\n",
       "    <tr>\n",
       "      <th>2020-12-31</th>\n",
       "      <td>9.605048e+13</td>\n",
       "    </tr>\n",
       "  </tbody>\n",
       "</table>\n",
       "<p>1910 rows × 1 columns</p>\n",
       "</div>"
      ],
      "text/plain": [
       "                     mkt\n",
       "date                    \n",
       "2013-06-04  7.849682e+13\n",
       "2013-06-05  7.850259e+13\n",
       "2013-06-06  7.850835e+13\n",
       "2013-06-07  7.851412e+13\n",
       "2013-06-10  7.853141e+13\n",
       "...                  ...\n",
       "2020-12-24  9.570453e+13\n",
       "2020-12-28  9.590192e+13\n",
       "2020-12-29  9.595139e+13\n",
       "2020-12-30  9.600091e+13\n",
       "2020-12-31  9.605048e+13\n",
       "\n",
       "[1910 rows x 1 columns]"
      ]
     },
     "execution_count": 8,
     "metadata": {},
     "output_type": "execute_result"
    }
   ],
   "source": [
    "g = load_gdp_data(\"./data/API_NY.GDP.MKTP.CD_DS2_en_csv_v2_4251000.csv\")\n",
    "g = pd.DataFrame(interpolate_gdp_data(g).join(prices).dropna(axis=0, how='any', inplace=False).loc[:, \"WLD\"].rename(\"mkt\"))\n",
    "g"
   ]
  },
  {
   "cell_type": "code",
   "execution_count": 9,
   "id": "6d94ac1c-6af4-4b2d-9499-b799fedc2e43",
   "metadata": {},
   "outputs": [],
   "source": [
    "rets = {}\n",
    "covs = {}"
   ]
  },
  {
   "cell_type": "code",
   "execution_count": 10,
   "id": "8349691f-6294-4330-9d88-8062e5169eac",
   "metadata": {},
   "outputs": [
    {
     "data": {
      "text/plain": [
       "1.9792027252663047e-05"
      ]
     },
     "execution_count": 10,
     "metadata": {},
     "output_type": "execute_result"
    }
   ],
   "source": [
    "risk_free_rate=1.005**((1/252)) - 1\n",
    "risk_free_rate"
   ]
  },
  {
   "cell_type": "code",
   "execution_count": 11,
   "id": "f08a53b0-ddbc-417b-89fd-7e55db1d0e9d",
   "metadata": {},
   "outputs": [],
   "source": [
    "rets['mhr'] = expected_returns.mean_historical_return(prices, frequency=252)\n",
    "rets['ehr'] = expected_returns.ema_historical_return(prices, frequency=252, span=252*5)\n",
    "rets['capmr'] = expected_returns.capm_return(prices,  risk_free_rate=risk_free_rate, compounding=True, frequency=252)"
   ]
  },
  {
   "cell_type": "code",
   "execution_count": 12,
   "id": "4c23366f-4ed0-44d6-b424-5de2128a15bc",
   "metadata": {},
   "outputs": [],
   "source": [
    "covs['sample_cov'] = risk_models.risk_matrix(prices, method='sample_cov')\n",
    "covs['semicovariance'] = risk_models.risk_matrix(prices, method='semicovariance', benchmark=risk_free_rate, frequency=252, log_returns=False)\n",
    "covs['exp_cov'] = risk_models.risk_matrix(prices, method='exp_cov', span=252*5, frequency=252)"
   ]
  },
  {
   "cell_type": "code",
   "execution_count": 13,
   "id": "72052a5b-6aa4-4bbf-85d8-0a7573a43ecc",
   "metadata": {},
   "outputs": [],
   "source": [
    "covs['ledoiid_wolf_cc'] = risk_models.risk_matrix(prices, method='ledoit_wolf_constant_correlation', frequency=252)\n",
    "covs['ledoiid_wolf_sf'] = risk_models.risk_matrix(prices, method='ledoit_wolf_single_factor', frequency=252)\n",
    "covs['ledoiid_wolf_cv'] = risk_models.risk_matrix(prices, method='ledoit_wolf_constant_variance', frequency=252)\n",
    "covs['oracle_approx'] = risk_models.risk_matrix(prices, method='oracle_approximating', frequency=252)"
   ]
  },
  {
   "cell_type": "code",
   "execution_count": 14,
   "id": "ac5f82be-58b5-49cc-a24b-77851733ef97",
   "metadata": {},
   "outputs": [
    {
     "data": {
      "text/plain": [
       "{'mhr': VOO     0.127043\n",
       " BND     0.016431\n",
       " VXUS    0.049026\n",
       " BNDX    0.022297\n",
       " dtype: float64,\n",
       " 'ehr': VOO     0.149110\n",
       " BND     0.005717\n",
       " VXUS    0.073422\n",
       " BNDX    0.011765\n",
       " Name: 2023-12-29 00:00:00, dtype: float64,\n",
       " 'capmr': VOO     0.105806\n",
       " BND     0.011185\n",
       " VXUS    0.103781\n",
       " BNDX    0.007743\n",
       " Name: mkt, dtype: float64}"
      ]
     },
     "execution_count": 14,
     "metadata": {},
     "output_type": "execute_result"
    }
   ],
   "source": [
    "rets"
   ]
  },
  {
   "cell_type": "code",
   "execution_count": 15,
   "id": "b8972b33-56bb-46a4-abcd-abda8b19b307",
   "metadata": {},
   "outputs": [
    {
     "data": {
      "text/plain": [
       "{'sample_cov':            VOO       BND      VXUS      BNDX\n",
       " VOO   0.030314  0.000849  0.025648  0.000631\n",
       " BND   0.000849  0.002687  0.001066  0.001461\n",
       " VXUS  0.025648  0.001066  0.029065  0.000564\n",
       " BNDX  0.000631  0.001461  0.000564  0.001538,\n",
       " 'semicovariance':            VOO       BND      VXUS      BNDX\n",
       " VOO   0.015523  0.001756  0.013816  0.001325\n",
       " BND   0.001756  0.001406  0.001896  0.000829\n",
       " VXUS  0.013816  0.001896  0.015742  0.001360\n",
       " BNDX  0.001325  0.000829  0.001360  0.000782,\n",
       " 'exp_cov':            VOO       BND      VXUS      BNDX\n",
       " VOO   0.035455  0.002438  0.028426  0.001599\n",
       " BND   0.002438  0.004405  0.002553  0.002724\n",
       " VXUS  0.028426  0.002553  0.031004  0.001441\n",
       " BNDX  0.001599  0.002724  0.001441  0.002619,\n",
       " 'ledoiid_wolf_cc':            VOO       BND      VXUS      BNDX\n",
       " VOO   0.030314  0.000882  0.025401  0.000656\n",
       " BND   0.000882  0.002687  0.001095  0.001449\n",
       " VXUS  0.025401  0.001095  0.029065  0.000589\n",
       " BNDX  0.000656  0.001449  0.000589  0.001538,\n",
       " 'ledoiid_wolf_sf':            VOO       BND      VXUS      BNDX\n",
       " VOO   0.030303  0.000848  0.025638  0.000631\n",
       " BND   0.000848  0.002686  0.001066  0.001461\n",
       " VXUS  0.025638  0.001066  0.029054  0.000563\n",
       " BNDX  0.000631  0.001461  0.000563  0.001537,\n",
       " 'ledoiid_wolf_cv':            VOO       BND      VXUS      BNDX\n",
       " VOO   0.030142  0.000839  0.025351  0.000624\n",
       " BND   0.000839  0.002833  0.001054  0.001444\n",
       " VXUS  0.025351  0.001054  0.028907  0.000557\n",
       " BNDX  0.000624  0.001444  0.000557  0.001698,\n",
       " 'oracle_approx':            VOO       BND      VXUS      BNDX\n",
       " VOO   0.030284  0.000847  0.025605  0.000630\n",
       " BND   0.000847  0.002703  0.001064  0.001459\n",
       " VXUS  0.025605  0.001064  0.029037  0.000563\n",
       " BNDX  0.000630  0.001459  0.000563  0.001555}"
      ]
     },
     "execution_count": 15,
     "metadata": {},
     "output_type": "execute_result"
    }
   ],
   "source": [
    "covs"
   ]
  },
  {
   "cell_type": "code",
   "execution_count": 16,
   "id": "3ff408ae-917b-403b-a581-121ca98d032d",
   "metadata": {},
   "outputs": [
    {
     "data": {
      "text/plain": [
       "{'VOO': 52370474000000.01,\n",
       " 'BND': 49000000000000,\n",
       " 'VXUS': 41315525999999.99,\n",
       " 'BNDX': 70000000000000}"
      ]
     },
     "execution_count": 16,
     "metadata": {},
     "output_type": "execute_result"
    }
   ],
   "source": [
    "mcaps = {\n",
    "    'VOO': 52370474000000.01,\n",
    "    'BND': 49000000000000,\n",
    "    'VXUS': 41315525999999.99,\n",
    "    'BNDX': 70000000000000\n",
    "}\n",
    "mcaps"
   ]
  },
  {
   "cell_type": "code",
   "execution_count": 17,
   "id": "3567152e-bac5-495e-9f16-6f0dd4f38ab6",
   "metadata": {},
   "outputs": [
    {
     "data": {
      "text/plain": [
       "844.8011584382269"
      ]
     },
     "execution_count": 17,
     "metadata": {},
     "output_type": "execute_result"
    }
   ],
   "source": [
    "delta = black_litterman.market_implied_risk_aversion(g.iloc[:-365, 0], frequency=252, risk_free_rate=0.005)\n",
    "delta"
   ]
  },
  {
   "cell_type": "code",
   "execution_count": 18,
   "id": "fe95d3be-0002-46d6-9913-cc50637eb365",
   "metadata": {},
   "outputs": [
    {
     "name": "stdout",
     "output_type": "stream",
     "text": [
      "4.598512213815003 15.944247493852936 2.2834567604302896 37.640899608796914\n"
     ]
    }
   ],
   "source": [
    "delta1 = black_litterman.market_implied_risk_aversion(prices[\"VOO\"][:-252*3], frequency=252, risk_free_rate=0.005)\n",
    "delta2 = black_litterman.market_implied_risk_aversion(prices[\"BND\"][:-252*3], frequency=252, risk_free_rate=0.005)\n",
    "delta3 = black_litterman.market_implied_risk_aversion(prices[\"VXUS\"][:-252*3], frequency=252, risk_free_rate=0.005)\n",
    "delta4 = black_litterman.market_implied_risk_aversion(prices[\"BNDX\"][:-252*3], frequency=252, risk_free_rate=0.005)\n",
    "print(delta1, delta2, delta3, delta4)\n",
    "delta=delta1"
   ]
  },
  {
   "cell_type": "code",
   "execution_count": 19,
   "id": "60f4d541-5d0e-494e-9dff-c546bef2f388",
   "metadata": {},
   "outputs": [
    {
     "data": {
      "text/plain": [
       "2.450249865843789"
      ]
     },
     "execution_count": 19,
     "metadata": {},
     "output_type": "execute_result"
    }
   ],
   "source": [
    "delta = black_litterman.market_implied_risk_aversion(msci.iloc[:, 0], frequency=12, risk_free_rate=0.005)\n",
    "delta"
   ]
  },
  {
   "cell_type": "code",
   "execution_count": 20,
   "id": "5d8632ea-94b4-43c9-baa5-af4713b97fce",
   "metadata": {},
   "outputs": [],
   "source": [
    "viewdict = {\n",
    "    \"VOO\":[0.02, 0.07, 0.09],\n",
    "    \"BND\":[0.0, 0.015, 0.02],\n",
    "    \"VXUS\":[0.01, 0.04, 0.07],\n",
    "    \"BNDX\":[-0.01, 0.015, 0.02]\n",
    "}\n",
    "omega = calc_omega(viewdict)\n",
    "mu = load_mean_views(viewdict)"
   ]
  },
  {
   "cell_type": "code",
   "execution_count": 21,
   "id": "e56efa29-c1fb-4485-93db-140edc6a4476",
   "metadata": {},
   "outputs": [
    {
     "data": {
      "text/plain": [
       "{'mhr': VOO     0.127043\n",
       " BND     0.016431\n",
       " VXUS    0.049026\n",
       " BNDX    0.022297\n",
       " dtype: float64,\n",
       " 'ehr': VOO     0.149110\n",
       " BND     0.005717\n",
       " VXUS    0.073422\n",
       " BNDX    0.011765\n",
       " Name: 2023-12-29 00:00:00, dtype: float64,\n",
       " 'capmr': VOO     0.105806\n",
       " BND     0.011185\n",
       " VXUS    0.103781\n",
       " BNDX    0.007743\n",
       " Name: mkt, dtype: float64,\n",
       " 'bl_post': VOO     0.050627\n",
       " BND     0.011306\n",
       " VXUS    0.045126\n",
       " BNDX    0.008133\n",
       " dtype: float64}"
      ]
     },
     "execution_count": 21,
     "metadata": {},
     "output_type": "execute_result"
    }
   ],
   "source": [
    "cov_matrix = covs['oracle_approx']\n",
    "bl = BlackLittermanModel(cov_matrix, pi=\"market\", market_caps=mcaps, risk_aversion=delta, absolute_views=mu, omega=omega)\n",
    "rets['bl_post'] = bl.bl_returns()\n",
    "covs['bl_post'] = bl.bl_cov()\n",
    "rets"
   ]
  },
  {
   "cell_type": "code",
   "execution_count": 22,
   "id": "668a5b10-a7eb-451b-8210-c554f8147c63",
   "metadata": {},
   "outputs": [
    {
     "name": "stdout",
     "output_type": "stream",
     "text": [
      "Expected annual return: 4.0%\n",
      "Annual volatility: 13.4%\n",
      "Sharpe Ratio: 0.26\n",
      "OrderedDict([('VOO', 0.4167205860221028), ('BND', 0.118035994024291), ('VXUS', 0.3726201194524268), ('BNDX', 0.0926233005011794)])\n",
      "(0.04, 0.1335283083582733, 0.2621167034191026)\n"
     ]
    }
   ],
   "source": [
    "r = 0.04\n",
    "expected_return = rets['bl_post']\n",
    "cov_matrix = covs['bl_post']\n",
    "\n",
    "ef_bl = efficient_frontier.EfficientFrontier(expected_return, cov_matrix, weight_bounds=(0.05, 0.6))\n",
    "ef_bl.add_objective(objective_functions.L2_reg, gamma=1.0)\n",
    "#w = ef_bl.max_sharpe(risk_free_rate=0.005)\n",
    "w = ef_bl.efficient_return(r)\n",
    "perf_bst = ef_bl.portfolio_performance(verbose=True, risk_free_rate=0.005)\n",
    "\n",
    "print(w)\n",
    "print(perf_bst)"
   ]
  },
  {
   "cell_type": "code",
   "execution_count": 23,
   "id": "e5132152-f26e-44e4-b5bc-d617e63cb360",
   "metadata": {},
   "outputs": [
    {
     "name": "stdout",
     "output_type": "stream",
     "text": [
      "Expected annual return: 4.4%\n",
      "Annual volatility: 14.9%\n",
      "Sharpe Ratio: 0.26\n",
      "OrderedDict([('VOO', 0.4711938729536276), ('BND', 0.0667576052271107), ('VXUS', 0.4120485218192616), ('BNDX', 0.05)])\n",
      "(0.04361070731797961, 0.14861077886203802, 0.25981094785744746)\n"
     ]
    },
    {
     "name": "stderr",
     "output_type": "stream",
     "text": [
      "/root/.pyenv/versions/3.10.1/lib/python3.10/site-packages/pypfopt/efficient_frontier/efficient_frontier.py:257: UserWarning: max_sharpe transforms the optimization problem so additional objectives may not work as expected.\n",
      "  warnings.warn(\n"
     ]
    }
   ],
   "source": [
    "expected_return = rets['bl_post']\n",
    "cov_matrix = covs['bl_post']\n",
    "\n",
    "ef_bl = efficient_frontier.EfficientFrontier(expected_return, cov_matrix, weight_bounds=(0.05, 0.6))\n",
    "ef_bl.add_objective(objective_functions.L2_reg, gamma=1.0)\n",
    "w = ef_bl.max_sharpe(risk_free_rate=0.005)\n",
    "perf_mshL2 = ef_bl.portfolio_performance(verbose=True, risk_free_rate=0.005)\n",
    "\n",
    "print(w)\n",
    "print(perf_mshL2)"
   ]
  },
  {
   "cell_type": "code",
   "execution_count": 24,
   "id": "5455c8cc-1210-4955-8612-7c5e61763a3e",
   "metadata": {},
   "outputs": [
    {
     "name": "stdout",
     "output_type": "stream",
     "text": [
      "Expected annual return: 2.8%\n",
      "Annual volatility: 8.5%\n",
      "Sharpe Ratio: 0.28\n",
      "OrderedDict([('VOO', 0.4003719590686772), ('BND', 0.55689003408922), ('VXUS', 0.0427380068421028), ('BNDX', 0.0)])\n",
      "(0.028494232988695044, 0.08460529093231653, 0.27769224276399235)\n"
     ]
    }
   ],
   "source": [
    "expected_return = rets['bl_post']\n",
    "cov_matrix = covs['bl_post']\n",
    "\n",
    "ef_bl = efficient_frontier.EfficientFrontier(expected_return, cov_matrix)\n",
    "w = ef_bl.max_sharpe(risk_free_rate=0.005)\n",
    "perf_msh = ef_bl.portfolio_performance(verbose=True, risk_free_rate=0.005)\n",
    "\n",
    "print(w)\n",
    "print(perf_msh)"
   ]
  },
  {
   "cell_type": "code",
   "execution_count": 25,
   "id": "73d90a94-9067-43c5-81d6-5dccba3ad57b",
   "metadata": {},
   "outputs": [
    {
     "name": "stdout",
     "output_type": "stream",
     "text": [
      "0.028132557626604514:0.2687791948458463\n",
      "((0.028310592986461804, 0.08672766878340861, 0.2687791948458463), OrderedDict([('VOO', 0.2434962768315132), ('BND', 0.2561289841327463), ('VXUS', 0.2437736545033764), ('BNDX', 0.2566010845323641)]))\n"
     ]
    }
   ],
   "source": [
    "expected_return = rets['bl_post']\n",
    "cov_matrix = covs['bl_post']\n",
    "\n",
    "min_ret = max(0, min(expected_return))\n",
    "max_ret = min(0.25, max(expected_return))\n",
    "rets_seq = list(np.arange(min_ret, max_ret, 0.001))\n",
    "\n",
    "weights = {}\n",
    "max_sr = -1\n",
    "max_r = 0.0\n",
    "for r in rets_seq:\n",
    "    _ef_bl = efficient_frontier.EfficientFrontier(expected_return, cov_matrix)\n",
    "    _ef_bl.add_objective(objective_functions.L2_reg, gamma=1.0)\n",
    "    _w = _ef_bl.efficient_return(r)\n",
    "    _perf = _ef_bl.portfolio_performance(verbose=False, risk_free_rate=0.005)\n",
    "    \n",
    "    weights[r] = (_perf, _w)\n",
    "    \n",
    "    if _perf[2] >= max_sr:\n",
    "        max_sr = _perf[2]\n",
    "        max_r = r\n",
    "print(\"{0}:{1}\".format(max_r, max_sr))\n",
    "print(weights[max_r])"
   ]
  },
  {
   "cell_type": "code",
   "execution_count": 26,
   "id": "bdd4c735-e572-4ef7-a980-86143de819e0",
   "metadata": {},
   "outputs": [
    {
     "data": {
      "image/png": "[encoded data removed]",
      "text/plain": [
       "<Figure size 432x288 with 1 Axes>"
      ]
     },
     "metadata": {
      "needs_background": "light"
     },
     "output_type": "display_data"
    }
   ],
   "source": [
    "expected_return = rets['bl_post']\n",
    "cov_matrix = covs['bl_post']\n",
    "\n",
    "ef_for_plot = efficient_frontier.EfficientFrontier(expected_return, cov_matrix)\n",
    "\n",
    "fig, ax = plt.subplots()\n",
    "plotting.plot_efficient_frontier(ef_for_plot, ax=ax, show_assets=True)\n",
    "\n",
    "# Generate random portfolios\n",
    "n_samples = 10000\n",
    "w = np.random.dirichlet(np.ones(len(expected_return)), n_samples)\n",
    "r = w.dot(expected_return)\n",
    "s = np.sqrt(np.diag(w @ cov_matrix @ w.T))\n",
    "sharpes = r / s\n",
    "ax.scatter(s, r, marker=\".\", c=sharpes, cmap=\"viridis_r\")\n",
    "\n",
    "ret_tangent, std_tangent, _ = weights[max_r][0]\n",
    "ax.scatter(std_tangent, ret_tangent, marker=\"*\", s=100, c=\"r\", label=\"Max Sharpe\")\n",
    "\n",
    "ret_bst, std_bst, _ = perf_bst\n",
    "ax.scatter(std_bst, ret_bst, marker=\"o\", s=100, c=\"y\", label=\"r=fix,L2,bounded\")\n",
    "\n",
    "ax.set_title(\"Efficient Frontier with random portfolios\")\n",
    "ax.legend()\n",
    "plt.tight_layout()\n",
    "plt.savefig(\"ef_scatter.png\", dpi=200)\n",
    "plt.show()"
   ]
  },
  {
   "cell_type": "code",
   "execution_count": 135,
   "id": "c8dfd187-ba77-49d5-92d8-6033d0fbcd9c",
   "metadata": {},
   "outputs": [],
   "source": [
    "from sklearn.model_selection import TimeSeriesSplit"
   ]
  },
  {
   "cell_type": "code",
   "execution_count": 111,
   "id": "0c4ed100-3c28-4c2a-96c6-cae9a260f19a",
   "metadata": {},
   "outputs": [
    {
     "name": "stdout",
     "output_type": "stream",
     "text": [
      "                   VOO        BND       VXUS       BNDX\n",
      "Date                                                   \n",
      "2015-01-13  159.647644  67.771652  37.904896  44.576054\n",
      "2015-01-14  158.708801  67.926086  37.746292  44.684330\n",
      "2015-01-15  157.227310  68.226822  38.015907  44.476151\n",
      "2015-01-16  159.173920  68.023613  38.388618  44.734303\n",
      "2015-01-20  159.570145  67.950439  38.436195  44.717632\n",
      "...                ...        ...        ...        ...\n",
      "2020-01-08  283.903381  78.317558  51.109058  53.276764\n",
      "2020-01-09  285.865570  78.410828  51.338451  53.286171\n",
      "2020-01-10  285.046417  78.541389  51.274227  53.380138\n",
      "2020-01-13  286.932404  78.494759  51.659607  53.267361\n",
      "2020-01-14  286.551361  78.606682  51.668781  53.295559\n",
      "\n",
      "[1260 rows x 4 columns]\n",
      "\n",
      "\n",
      "                   VOO        BND       VXUS       BNDX\n",
      "Date                                                   \n",
      "2016-01-13  152.268860  67.825180  33.962173  45.023346\n",
      "2016-01-14  154.740540  67.741852  34.418156  44.879463\n",
      "2016-01-15  151.424469  67.858566  33.090931  44.938705\n",
      "2016-01-19  151.591522  67.775200  33.481770  44.803318\n",
      "2016-01-20  149.814758  67.850235  32.659382  44.938705\n",
      "...                ...        ...        ...        ...\n",
      "2021-01-07  338.006744  83.446808  58.269844  55.523148\n",
      "2021-01-08  339.907959  83.370369  59.012424  55.485146\n",
      "2021-01-11  337.686615  83.284424  58.232243  55.371109\n",
      "2021-01-12  337.715729  83.265289  58.533039  55.314091\n",
      "2021-01-13  338.559631  83.485016  58.523640  55.532661\n",
      "\n",
      "[1260 rows x 4 columns]\n",
      "\n",
      "\n",
      "                   VOO        BND       VXUS       BNDX\n",
      "Date                                                   \n",
      "2017-01-12  186.891525  69.364395  39.742722  46.644253\n",
      "2017-01-13  187.259857  69.253311  39.860157  46.592518\n",
      "2017-01-17  186.595108  69.466881  39.759499  46.635612\n",
      "2017-01-18  186.990341  69.108063  39.549801  46.592518\n",
      "2017-01-19  186.361526  68.988464  39.516239  46.497646\n",
      "...                ...        ...        ...        ...\n",
      "2022-01-06  422.991699  81.744751  61.310417  53.980976\n",
      "2022-01-07  421.526215  81.520355  61.581875  53.990829\n",
      "2022-01-10  420.975464  81.452065  61.126213  53.941555\n",
      "2022-01-11  424.663666  81.617928  61.998753  53.961266\n",
      "2022-01-12  425.932404  81.588654  62.725868  54.030258\n",
      "\n",
      "[1260 rows x 4 columns]\n",
      "\n",
      "\n"
     ]
    }
   ],
   "source": [
    "tscv = TimeSeriesSplit(n_splits=3, max_train_size=252*5, test_size=252, gap=0)\n",
    "for train, test in tscv.split(prices):\n",
    "    print(prices.iloc[train, :])\n",
    "    print(\"\\n\")"
   ]
  },
  {
   "cell_type": "code",
   "execution_count": null,
   "id": "fa1ddec8-85cf-4772-826e-948ca95e44d8",
   "metadata": {},
   "outputs": [],
   "source": []
  }
 ],
 "metadata": {
  "kernelspec": {
   "display_name": "Python 3 (ipykernel)",
   "language": "python",
   "name": "python3"
  },
  "language_info": {
   "codemirror_mode": {
    "name": "ipython",
    "version": 3
   },
   "file_extension": ".py",
   "mimetype": "text/x-python",
   "name": "python",
   "nbconvert_exporter": "python",
   "pygments_lexer": "ipython3",
   "version": "3.10.1"
  }
 },
 "nbformat": 4,
 "nbformat_minor": 5
}
