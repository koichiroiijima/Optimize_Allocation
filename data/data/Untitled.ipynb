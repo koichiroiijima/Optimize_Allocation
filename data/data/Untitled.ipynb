{
 "cells": [
  {
   "cell_type": "code",
   "execution_count": 49,
   "id": "3d12d4a5-1433-4a6d-be35-0fbf781d38c6",
   "metadata": {},
   "outputs": [],
   "source": [
    "import pandas as pd\n",
    "import math\n",
    "\n",
    "def load_gdp_data(fname: str) -> pd.DataFrame:\n",
    "    world_gdp = pd.read_csv(\n",
    "        fname, \n",
    "        sep=\",\", \n",
    "        header=2,\n",
    "        index_col=\"Country Code\", \n",
    "        #names=[\"Date\", \"mkt\"], \n",
    "        skipinitialspace=True,\n",
    "        skip_blank_lines=True,\n",
    "        parse_dates=True,\n",
    "        infer_datetime_format=True\n",
    "    ).loc[\"WLD\"].iloc[3:].dropna().astype('float64').reset_index()\n",
    "    \n",
    "    world_gdp.loc[:, 'index'] = pd.to_datetime(world_gdp.loc[:, 'index'])\n",
    "    return world_gdp.set_index('index')\n",
    "\n",
    "def interpolate_gdp_data(df_gdp : pd.DataFrame) -> pd.DataFrame:\n",
    "    temp = pd.DataFrame(\n",
    "        pd.date_range(start=g.index[0], end=g.index[-1], freq='D'),\n",
    "        columns=[\"date\"]\n",
    "    )\n",
    "    temp.loc[:, 'dmy'] = math.nan\n",
    "    i_gdp = temp.set_index('date').join(df_gdp).drop('dmy', axis=1).interpolate(method = 'akima', axis=0)\n",
    "    \n",
    "    return i_gdp"
   ]
  },
  {
   "cell_type": "code",
   "execution_count": 50,
   "id": "f29e0e85-9327-4520-9c55-d48a03c82ea4",
   "metadata": {},
   "outputs": [
    {
     "data": {
      "text/html": [
       "<div>\n",
       "<style scoped>\n",
       "    .dataframe tbody tr th:only-of-type {\n",
       "        vertical-align: middle;\n",
       "    }\n",
       "\n",
       "    .dataframe tbody tr th {\n",
       "        vertical-align: top;\n",
       "    }\n",
       "\n",
       "    .dataframe thead th {\n",
       "        text-align: right;\n",
       "    }\n",
       "</style>\n",
       "<table border=\"1\" class=\"dataframe\">\n",
       "  <thead>\n",
       "    <tr style=\"text-align: right;\">\n",
       "      <th></th>\n",
       "      <th>WLD</th>\n",
       "    </tr>\n",
       "    <tr>\n",
       "      <th>date</th>\n",
       "      <th></th>\n",
       "    </tr>\n",
       "  </thead>\n",
       "  <tbody>\n",
       "    <tr>\n",
       "      <th>1960-01-01</th>\n",
       "      <td>1.392053e+12</td>\n",
       "    </tr>\n",
       "    <tr>\n",
       "      <th>1960-01-02</th>\n",
       "      <td>1.392144e+12</td>\n",
       "    </tr>\n",
       "    <tr>\n",
       "      <th>1960-01-03</th>\n",
       "      <td>1.392236e+12</td>\n",
       "    </tr>\n",
       "    <tr>\n",
       "      <th>1960-01-04</th>\n",
       "      <td>1.392328e+12</td>\n",
       "    </tr>\n",
       "    <tr>\n",
       "      <th>1960-01-05</th>\n",
       "      <td>1.392420e+12</td>\n",
       "    </tr>\n",
       "    <tr>\n",
       "      <th>...</th>\n",
       "      <td>...</td>\n",
       "    </tr>\n",
       "    <tr>\n",
       "      <th>2020-12-28</th>\n",
       "      <td>9.590192e+13</td>\n",
       "    </tr>\n",
       "    <tr>\n",
       "      <th>2020-12-29</th>\n",
       "      <td>9.595139e+13</td>\n",
       "    </tr>\n",
       "    <tr>\n",
       "      <th>2020-12-30</th>\n",
       "      <td>9.600091e+13</td>\n",
       "    </tr>\n",
       "    <tr>\n",
       "      <th>2020-12-31</th>\n",
       "      <td>9.605048e+13</td>\n",
       "    </tr>\n",
       "    <tr>\n",
       "      <th>2021-01-01</th>\n",
       "      <td>9.610009e+13</td>\n",
       "    </tr>\n",
       "  </tbody>\n",
       "</table>\n",
       "<p>22282 rows × 1 columns</p>\n",
       "</div>"
      ],
      "text/plain": [
       "                     WLD\n",
       "date                    \n",
       "1960-01-01  1.392053e+12\n",
       "1960-01-02  1.392144e+12\n",
       "1960-01-03  1.392236e+12\n",
       "1960-01-04  1.392328e+12\n",
       "1960-01-05  1.392420e+12\n",
       "...                  ...\n",
       "2020-12-28  9.590192e+13\n",
       "2020-12-29  9.595139e+13\n",
       "2020-12-30  9.600091e+13\n",
       "2020-12-31  9.605048e+13\n",
       "2021-01-01  9.610009e+13\n",
       "\n",
       "[22282 rows x 1 columns]"
      ]
     },
     "execution_count": 50,
     "metadata": {},
     "output_type": "execute_result"
    }
   ],
   "source": [
    "g = load_gdp_data(\"./API_NY.GDP.MKTP.CD_DS2_en_csv_v2_4251000.csv\")\n",
    "g = interpolate_gdp_data(g)\n",
    "g"
   ]
  },
  {
   "cell_type": "code",
   "execution_count": 51,
   "id": "2328db5c-83cc-4e4c-bcff-436c735301f9",
   "metadata": {},
   "outputs": [
    {
     "data": {
      "text/plain": [
       "[<matplotlib.lines.Line2D at 0x7fc667925a80>]"
      ]
     },
     "execution_count": 51,
     "metadata": {},
     "output_type": "execute_result"
    },
    {
     "data": {
      "image/png": "[encoded data removed]",
      "text/plain": [
       "<Figure size 432x288 with 1 Axes>"
      ]
     },
     "metadata": {
      "needs_background": "light"
     },
     "output_type": "display_data"
    }
   ],
   "source": [
    "import matplotlib.pyplot as plt\n",
    "plt.plot(g)"
   ]
  },
  {
   "cell_type": "code",
   "execution_count": null,
   "id": "01fad528-4aff-408c-9d67-8295771eeb74",
   "metadata": {},
   "outputs": [],
   "source": []
  }
 ],
 "metadata": {
  "kernelspec": {
   "display_name": "Python 3 (ipykernel)",
   "language": "python",
   "name": "python3"
  },
  "language_info": {
   "codemirror_mode": {
    "name": "ipython",
    "version": 3
   },
   "file_extension": ".py",
   "mimetype": "text/x-python",
   "name": "python",
   "nbconvert_exporter": "python",
   "pygments_lexer": "ipython3",
   "version": "3.10.1"
  }
 },
 "nbformat": 4,
 "nbformat_minor": 5
}
