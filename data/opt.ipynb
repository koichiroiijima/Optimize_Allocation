{
 "cells": [
  {
   "cell_type": "code",
   "execution_count": 1,
   "id": "82349ce8-1b79-4d6d-984d-4bba5ba28cdd",
   "metadata": {},
   "outputs": [],
   "source": [
    "import pandas as pd\n",
    "import pandas_datareader as web\n",
    "import datetime"
   ]
  },
  {
   "cell_type": "code",
   "execution_count": 2,
   "id": "feef723e-c981-4a52-bd18-7e6339124939",
   "metadata": {},
   "outputs": [],
   "source": [
    "voo = web.DataReader(name='VOO', \n",
    "    data_source='yahoo', \n",
    "    start='2011-01-01',\n",
    "    end=datetime.date.today()\n",
    ")"
   ]
  },
  {
   "cell_type": "code",
   "execution_count": 3,
   "id": "b8b229ff-26b4-476a-ab43-bac6caeb185e",
   "metadata": {
    "tags": []
   },
   "outputs": [
    {
     "data": {
      "text/html": [
       "<div>\n",
       "<style scoped>\n",
       "    .dataframe tbody tr th:only-of-type {\n",
       "        vertical-align: middle;\n",
       "    }\n",
       "\n",
       "    .dataframe tbody tr th {\n",
       "        vertical-align: top;\n",
       "    }\n",
       "\n",
       "    .dataframe thead th {\n",
       "        text-align: right;\n",
       "    }\n",
       "</style>\n",
       "<table border=\"1\" class=\"dataframe\">\n",
       "  <thead>\n",
       "    <tr style=\"text-align: right;\">\n",
       "      <th></th>\n",
       "      <th>High</th>\n",
       "      <th>Low</th>\n",
       "      <th>Open</th>\n",
       "      <th>Close</th>\n",
       "      <th>Volume</th>\n",
       "      <th>Adj Close</th>\n",
       "    </tr>\n",
       "    <tr>\n",
       "      <th>Date</th>\n",
       "      <th></th>\n",
       "      <th></th>\n",
       "      <th></th>\n",
       "      <th></th>\n",
       "      <th></th>\n",
       "      <th></th>\n",
       "    </tr>\n",
       "  </thead>\n",
       "  <tbody>\n",
       "    <tr>\n",
       "      <th>2010-12-31</th>\n",
       "      <td>115.139999</td>\n",
       "      <td>114.680000</td>\n",
       "      <td>114.860001</td>\n",
       "      <td>115.139999</td>\n",
       "      <td>145750.0</td>\n",
       "      <td>93.374634</td>\n",
       "    </tr>\n",
       "    <tr>\n",
       "      <th>2011-01-03</th>\n",
       "      <td>116.660004</td>\n",
       "      <td>115.900002</td>\n",
       "      <td>115.940002</td>\n",
       "      <td>116.220001</td>\n",
       "      <td>119200.0</td>\n",
       "      <td>94.250473</td>\n",
       "    </tr>\n",
       "    <tr>\n",
       "      <th>2011-01-04</th>\n",
       "      <td>116.559998</td>\n",
       "      <td>115.500000</td>\n",
       "      <td>116.559998</td>\n",
       "      <td>116.120003</td>\n",
       "      <td>108350.0</td>\n",
       "      <td>94.169365</td>\n",
       "    </tr>\n",
       "    <tr>\n",
       "      <th>2011-01-05</th>\n",
       "      <td>116.800003</td>\n",
       "      <td>115.720001</td>\n",
       "      <td>115.860001</td>\n",
       "      <td>116.739998</td>\n",
       "      <td>717750.0</td>\n",
       "      <td>94.672165</td>\n",
       "    </tr>\n",
       "    <tr>\n",
       "      <th>2011-01-06</th>\n",
       "      <td>116.919998</td>\n",
       "      <td>116.220001</td>\n",
       "      <td>116.839996</td>\n",
       "      <td>116.540001</td>\n",
       "      <td>72450.0</td>\n",
       "      <td>94.509987</td>\n",
       "    </tr>\n",
       "    <tr>\n",
       "      <th>...</th>\n",
       "      <td>...</td>\n",
       "      <td>...</td>\n",
       "      <td>...</td>\n",
       "      <td>...</td>\n",
       "      <td>...</td>\n",
       "      <td>...</td>\n",
       "    </tr>\n",
       "    <tr>\n",
       "      <th>2022-02-16</th>\n",
       "      <td>411.890015</td>\n",
       "      <td>406.320007</td>\n",
       "      <td>408.200012</td>\n",
       "      <td>410.589996</td>\n",
       "      <td>7743800.0</td>\n",
       "      <td>410.589996</td>\n",
       "    </tr>\n",
       "    <tr>\n",
       "      <th>2022-02-17</th>\n",
       "      <td>407.980011</td>\n",
       "      <td>401.230011</td>\n",
       "      <td>407.489990</td>\n",
       "      <td>401.859985</td>\n",
       "      <td>7541000.0</td>\n",
       "      <td>401.859985</td>\n",
       "    </tr>\n",
       "    <tr>\n",
       "      <th>2022-02-18</th>\n",
       "      <td>403.309998</td>\n",
       "      <td>397.000000</td>\n",
       "      <td>402.149994</td>\n",
       "      <td>399.290009</td>\n",
       "      <td>10565400.0</td>\n",
       "      <td>399.290009</td>\n",
       "    </tr>\n",
       "    <tr>\n",
       "      <th>2022-02-22</th>\n",
       "      <td>400.369995</td>\n",
       "      <td>391.510010</td>\n",
       "      <td>397.049988</td>\n",
       "      <td>394.920013</td>\n",
       "      <td>10414700.0</td>\n",
       "      <td>394.920013</td>\n",
       "    </tr>\n",
       "    <tr>\n",
       "      <th>2022-02-23</th>\n",
       "      <td>398.320007</td>\n",
       "      <td>387.380005</td>\n",
       "      <td>397.739990</td>\n",
       "      <td>387.809998</td>\n",
       "      <td>12124000.0</td>\n",
       "      <td>387.809998</td>\n",
       "    </tr>\n",
       "  </tbody>\n",
       "</table>\n",
       "<p>2806 rows × 6 columns</p>\n",
       "</div>"
      ],
      "text/plain": [
       "                  High         Low        Open       Close      Volume  \\\n",
       "Date                                                                     \n",
       "2010-12-31  115.139999  114.680000  114.860001  115.139999    145750.0   \n",
       "2011-01-03  116.660004  115.900002  115.940002  116.220001    119200.0   \n",
       "2011-01-04  116.559998  115.500000  116.559998  116.120003    108350.0   \n",
       "2011-01-05  116.800003  115.720001  115.860001  116.739998    717750.0   \n",
       "2011-01-06  116.919998  116.220001  116.839996  116.540001     72450.0   \n",
       "...                ...         ...         ...         ...         ...   \n",
       "2022-02-16  411.890015  406.320007  408.200012  410.589996   7743800.0   \n",
       "2022-02-17  407.980011  401.230011  407.489990  401.859985   7541000.0   \n",
       "2022-02-18  403.309998  397.000000  402.149994  399.290009  10565400.0   \n",
       "2022-02-22  400.369995  391.510010  397.049988  394.920013  10414700.0   \n",
       "2022-02-23  398.320007  387.380005  397.739990  387.809998  12124000.0   \n",
       "\n",
       "             Adj Close  \n",
       "Date                    \n",
       "2010-12-31   93.374634  \n",
       "2011-01-03   94.250473  \n",
       "2011-01-04   94.169365  \n",
       "2011-01-05   94.672165  \n",
       "2011-01-06   94.509987  \n",
       "...                ...  \n",
       "2022-02-16  410.589996  \n",
       "2022-02-17  401.859985  \n",
       "2022-02-18  399.290009  \n",
       "2022-02-22  394.920013  \n",
       "2022-02-23  387.809998  \n",
       "\n",
       "[2806 rows x 6 columns]"
      ]
     },
     "execution_count": 3,
     "metadata": {},
     "output_type": "execute_result"
    }
   ],
   "source": [
    "voo"
   ]
  },
  {
   "cell_type": "code",
   "execution_count": 4,
   "id": "7f13ca68-1d6b-4e89-9dec-2876b8e82389",
   "metadata": {},
   "outputs": [],
   "source": [
    "bnd = web.DataReader(name='BND', \n",
    "    data_source='yahoo', \n",
    "    start='2011-01-01',\n",
    "    end=datetime.date.today()\n",
    ")"
   ]
  },
  {
   "cell_type": "code",
   "execution_count": 5,
   "id": "5aebd362-1388-4382-afc8-3db1ce5588ae",
   "metadata": {
    "tags": []
   },
   "outputs": [
    {
     "data": {
      "text/html": [
       "<div>\n",
       "<style scoped>\n",
       "    .dataframe tbody tr th:only-of-type {\n",
       "        vertical-align: middle;\n",
       "    }\n",
       "\n",
       "    .dataframe tbody tr th {\n",
       "        vertical-align: top;\n",
       "    }\n",
       "\n",
       "    .dataframe thead th {\n",
       "        text-align: right;\n",
       "    }\n",
       "</style>\n",
       "<table border=\"1\" class=\"dataframe\">\n",
       "  <thead>\n",
       "    <tr style=\"text-align: right;\">\n",
       "      <th></th>\n",
       "      <th>High</th>\n",
       "      <th>Low</th>\n",
       "      <th>Open</th>\n",
       "      <th>Close</th>\n",
       "      <th>Volume</th>\n",
       "      <th>Adj Close</th>\n",
       "    </tr>\n",
       "    <tr>\n",
       "      <th>Date</th>\n",
       "      <th></th>\n",
       "      <th></th>\n",
       "      <th></th>\n",
       "      <th></th>\n",
       "      <th></th>\n",
       "      <th></th>\n",
       "    </tr>\n",
       "  </thead>\n",
       "  <tbody>\n",
       "    <tr>\n",
       "      <th>2010-12-31</th>\n",
       "      <td>80.309998</td>\n",
       "      <td>80.000000</td>\n",
       "      <td>80.000000</td>\n",
       "      <td>80.269997</td>\n",
       "      <td>534500.0</td>\n",
       "      <td>59.529610</td>\n",
       "    </tr>\n",
       "    <tr>\n",
       "      <th>2011-01-03</th>\n",
       "      <td>80.230003</td>\n",
       "      <td>79.959999</td>\n",
       "      <td>80.029999</td>\n",
       "      <td>80.169998</td>\n",
       "      <td>936500.0</td>\n",
       "      <td>59.455433</td>\n",
       "    </tr>\n",
       "    <tr>\n",
       "      <th>2011-01-04</th>\n",
       "      <td>80.330002</td>\n",
       "      <td>80.080002</td>\n",
       "      <td>80.220001</td>\n",
       "      <td>80.180000</td>\n",
       "      <td>1784100.0</td>\n",
       "      <td>59.462883</td>\n",
       "    </tr>\n",
       "    <tr>\n",
       "      <th>2011-01-05</th>\n",
       "      <td>79.980003</td>\n",
       "      <td>79.680000</td>\n",
       "      <td>79.930000</td>\n",
       "      <td>79.830002</td>\n",
       "      <td>837300.0</td>\n",
       "      <td>59.203281</td>\n",
       "    </tr>\n",
       "    <tr>\n",
       "      <th>2011-01-06</th>\n",
       "      <td>79.959999</td>\n",
       "      <td>79.769997</td>\n",
       "      <td>79.900002</td>\n",
       "      <td>79.900002</td>\n",
       "      <td>591000.0</td>\n",
       "      <td>59.255177</td>\n",
       "    </tr>\n",
       "    <tr>\n",
       "      <th>...</th>\n",
       "      <td>...</td>\n",
       "      <td>...</td>\n",
       "      <td>...</td>\n",
       "      <td>...</td>\n",
       "      <td>...</td>\n",
       "      <td>...</td>\n",
       "    </tr>\n",
       "    <tr>\n",
       "      <th>2022-02-16</th>\n",
       "      <td>81.260002</td>\n",
       "      <td>80.959999</td>\n",
       "      <td>81.239998</td>\n",
       "      <td>81.209999</td>\n",
       "      <td>7142400.0</td>\n",
       "      <td>81.209999</td>\n",
       "    </tr>\n",
       "    <tr>\n",
       "      <th>2022-02-17</th>\n",
       "      <td>81.489998</td>\n",
       "      <td>81.250000</td>\n",
       "      <td>81.300003</td>\n",
       "      <td>81.389999</td>\n",
       "      <td>6833600.0</td>\n",
       "      <td>81.389999</td>\n",
       "    </tr>\n",
       "    <tr>\n",
       "      <th>2022-02-18</th>\n",
       "      <td>81.550003</td>\n",
       "      <td>81.410004</td>\n",
       "      <td>81.500000</td>\n",
       "      <td>81.529999</td>\n",
       "      <td>4744100.0</td>\n",
       "      <td>81.529999</td>\n",
       "    </tr>\n",
       "    <tr>\n",
       "      <th>2022-02-22</th>\n",
       "      <td>81.480003</td>\n",
       "      <td>81.300003</td>\n",
       "      <td>81.389999</td>\n",
       "      <td>81.480003</td>\n",
       "      <td>7058800.0</td>\n",
       "      <td>81.480003</td>\n",
       "    </tr>\n",
       "    <tr>\n",
       "      <th>2022-02-23</th>\n",
       "      <td>81.320000</td>\n",
       "      <td>81.070000</td>\n",
       "      <td>81.300003</td>\n",
       "      <td>81.070000</td>\n",
       "      <td>7938900.0</td>\n",
       "      <td>81.070000</td>\n",
       "    </tr>\n",
       "  </tbody>\n",
       "</table>\n",
       "<p>2806 rows × 6 columns</p>\n",
       "</div>"
      ],
      "text/plain": [
       "                 High        Low       Open      Close     Volume  Adj Close\n",
       "Date                                                                        \n",
       "2010-12-31  80.309998  80.000000  80.000000  80.269997   534500.0  59.529610\n",
       "2011-01-03  80.230003  79.959999  80.029999  80.169998   936500.0  59.455433\n",
       "2011-01-04  80.330002  80.080002  80.220001  80.180000  1784100.0  59.462883\n",
       "2011-01-05  79.980003  79.680000  79.930000  79.830002   837300.0  59.203281\n",
       "2011-01-06  79.959999  79.769997  79.900002  79.900002   591000.0  59.255177\n",
       "...               ...        ...        ...        ...        ...        ...\n",
       "2022-02-16  81.260002  80.959999  81.239998  81.209999  7142400.0  81.209999\n",
       "2022-02-17  81.489998  81.250000  81.300003  81.389999  6833600.0  81.389999\n",
       "2022-02-18  81.550003  81.410004  81.500000  81.529999  4744100.0  81.529999\n",
       "2022-02-22  81.480003  81.300003  81.389999  81.480003  7058800.0  81.480003\n",
       "2022-02-23  81.320000  81.070000  81.300003  81.070000  7938900.0  81.070000\n",
       "\n",
       "[2806 rows x 6 columns]"
      ]
     },
     "execution_count": 5,
     "metadata": {},
     "output_type": "execute_result"
    }
   ],
   "source": [
    "bnd"
   ]
  },
  {
   "cell_type": "code",
   "execution_count": 6,
   "id": "73e870f5-6a94-4add-b300-22a1c8f90e56",
   "metadata": {},
   "outputs": [],
   "source": [
    "vxus = web.DataReader(name='VXUS', \n",
    "    data_source='yahoo', \n",
    "    start='2011-01-01',\n",
    "    end=datetime.date.today()\n",
    ")"
   ]
  },
  {
   "cell_type": "code",
   "execution_count": 7,
   "id": "f45a8b7e-ad22-4363-aa65-d153ad3fa80a",
   "metadata": {
    "tags": []
   },
   "outputs": [
    {
     "data": {
      "text/html": [
       "<div>\n",
       "<style scoped>\n",
       "    .dataframe tbody tr th:only-of-type {\n",
       "        vertical-align: middle;\n",
       "    }\n",
       "\n",
       "    .dataframe tbody tr th {\n",
       "        vertical-align: top;\n",
       "    }\n",
       "\n",
       "    .dataframe thead th {\n",
       "        text-align: right;\n",
       "    }\n",
       "</style>\n",
       "<table border=\"1\" class=\"dataframe\">\n",
       "  <thead>\n",
       "    <tr style=\"text-align: right;\">\n",
       "      <th></th>\n",
       "      <th>High</th>\n",
       "      <th>Low</th>\n",
       "      <th>Open</th>\n",
       "      <th>Close</th>\n",
       "      <th>Volume</th>\n",
       "      <th>Adj Close</th>\n",
       "    </tr>\n",
       "    <tr>\n",
       "      <th>Date</th>\n",
       "      <th></th>\n",
       "      <th></th>\n",
       "      <th></th>\n",
       "      <th></th>\n",
       "      <th></th>\n",
       "      <th></th>\n",
       "    </tr>\n",
       "  </thead>\n",
       "  <tbody>\n",
       "    <tr>\n",
       "      <th>2011-01-28</th>\n",
       "      <td>53.830002</td>\n",
       "      <td>49.259998</td>\n",
       "      <td>50.070000</td>\n",
       "      <td>49.330002</td>\n",
       "      <td>40800.0</td>\n",
       "      <td>35.691986</td>\n",
       "    </tr>\n",
       "    <tr>\n",
       "      <th>2011-01-31</th>\n",
       "      <td>50.000000</td>\n",
       "      <td>49.630001</td>\n",
       "      <td>49.750000</td>\n",
       "      <td>49.880001</td>\n",
       "      <td>46200.0</td>\n",
       "      <td>36.089939</td>\n",
       "    </tr>\n",
       "    <tr>\n",
       "      <th>2011-02-01</th>\n",
       "      <td>50.950001</td>\n",
       "      <td>50.150002</td>\n",
       "      <td>50.619999</td>\n",
       "      <td>50.950001</td>\n",
       "      <td>26300.0</td>\n",
       "      <td>36.864120</td>\n",
       "    </tr>\n",
       "    <tr>\n",
       "      <th>2011-02-02</th>\n",
       "      <td>51.000000</td>\n",
       "      <td>50.540001</td>\n",
       "      <td>51.000000</td>\n",
       "      <td>50.689999</td>\n",
       "      <td>47700.0</td>\n",
       "      <td>36.676003</td>\n",
       "    </tr>\n",
       "    <tr>\n",
       "      <th>2011-02-03</th>\n",
       "      <td>50.990002</td>\n",
       "      <td>50.360001</td>\n",
       "      <td>50.990002</td>\n",
       "      <td>50.779999</td>\n",
       "      <td>51100.0</td>\n",
       "      <td>36.741119</td>\n",
       "    </tr>\n",
       "    <tr>\n",
       "      <th>...</th>\n",
       "      <td>...</td>\n",
       "      <td>...</td>\n",
       "      <td>...</td>\n",
       "      <td>...</td>\n",
       "      <td>...</td>\n",
       "      <td>...</td>\n",
       "    </tr>\n",
       "    <tr>\n",
       "      <th>2022-02-16</th>\n",
       "      <td>62.970001</td>\n",
       "      <td>62.310001</td>\n",
       "      <td>62.320000</td>\n",
       "      <td>62.799999</td>\n",
       "      <td>4709900.0</td>\n",
       "      <td>62.799999</td>\n",
       "    </tr>\n",
       "    <tr>\n",
       "      <th>2022-02-17</th>\n",
       "      <td>62.480000</td>\n",
       "      <td>61.869999</td>\n",
       "      <td>62.439999</td>\n",
       "      <td>61.930000</td>\n",
       "      <td>4655500.0</td>\n",
       "      <td>61.930000</td>\n",
       "    </tr>\n",
       "    <tr>\n",
       "      <th>2022-02-18</th>\n",
       "      <td>61.990002</td>\n",
       "      <td>61.389999</td>\n",
       "      <td>61.840000</td>\n",
       "      <td>61.540001</td>\n",
       "      <td>5668900.0</td>\n",
       "      <td>61.540001</td>\n",
       "    </tr>\n",
       "    <tr>\n",
       "      <th>2022-02-22</th>\n",
       "      <td>61.299999</td>\n",
       "      <td>60.410000</td>\n",
       "      <td>60.959999</td>\n",
       "      <td>60.810001</td>\n",
       "      <td>6423500.0</td>\n",
       "      <td>60.810001</td>\n",
       "    </tr>\n",
       "    <tr>\n",
       "      <th>2022-02-23</th>\n",
       "      <td>61.389999</td>\n",
       "      <td>60.169998</td>\n",
       "      <td>61.360001</td>\n",
       "      <td>60.209999</td>\n",
       "      <td>6576100.0</td>\n",
       "      <td>60.209999</td>\n",
       "    </tr>\n",
       "  </tbody>\n",
       "</table>\n",
       "<p>2787 rows × 6 columns</p>\n",
       "</div>"
      ],
      "text/plain": [
       "                 High        Low       Open      Close     Volume  Adj Close\n",
       "Date                                                                        \n",
       "2011-01-28  53.830002  49.259998  50.070000  49.330002    40800.0  35.691986\n",
       "2011-01-31  50.000000  49.630001  49.750000  49.880001    46200.0  36.089939\n",
       "2011-02-01  50.950001  50.150002  50.619999  50.950001    26300.0  36.864120\n",
       "2011-02-02  51.000000  50.540001  51.000000  50.689999    47700.0  36.676003\n",
       "2011-02-03  50.990002  50.360001  50.990002  50.779999    51100.0  36.741119\n",
       "...               ...        ...        ...        ...        ...        ...\n",
       "2022-02-16  62.970001  62.310001  62.320000  62.799999  4709900.0  62.799999\n",
       "2022-02-17  62.480000  61.869999  62.439999  61.930000  4655500.0  61.930000\n",
       "2022-02-18  61.990002  61.389999  61.840000  61.540001  5668900.0  61.540001\n",
       "2022-02-22  61.299999  60.410000  60.959999  60.810001  6423500.0  60.810001\n",
       "2022-02-23  61.389999  60.169998  61.360001  60.209999  6576100.0  60.209999\n",
       "\n",
       "[2787 rows x 6 columns]"
      ]
     },
     "execution_count": 7,
     "metadata": {},
     "output_type": "execute_result"
    }
   ],
   "source": [
    "vxus"
   ]
  },
  {
   "cell_type": "code",
   "execution_count": 8,
   "id": "43aa88c6-8660-4993-ac3d-5934fdd5b882",
   "metadata": {},
   "outputs": [],
   "source": [
    "bndx = web.DataReader(name='BNDX', \n",
    "    data_source='yahoo', \n",
    "    start='2011-01-01',\n",
    "    end=datetime.date.today()\n",
    ")"
   ]
  },
  {
   "cell_type": "code",
   "execution_count": 9,
   "id": "dcd05807-4eb6-43a3-be9b-ca2b7154c6be",
   "metadata": {
    "tags": []
   },
   "outputs": [
    {
     "data": {
      "text/html": [
       "<div>\n",
       "<style scoped>\n",
       "    .dataframe tbody tr th:only-of-type {\n",
       "        vertical-align: middle;\n",
       "    }\n",
       "\n",
       "    .dataframe tbody tr th {\n",
       "        vertical-align: top;\n",
       "    }\n",
       "\n",
       "    .dataframe thead th {\n",
       "        text-align: right;\n",
       "    }\n",
       "</style>\n",
       "<table border=\"1\" class=\"dataframe\">\n",
       "  <thead>\n",
       "    <tr style=\"text-align: right;\">\n",
       "      <th></th>\n",
       "      <th>High</th>\n",
       "      <th>Low</th>\n",
       "      <th>Open</th>\n",
       "      <th>Close</th>\n",
       "      <th>Volume</th>\n",
       "      <th>Adj Close</th>\n",
       "    </tr>\n",
       "    <tr>\n",
       "      <th>Date</th>\n",
       "      <th></th>\n",
       "      <th></th>\n",
       "      <th></th>\n",
       "      <th></th>\n",
       "      <th></th>\n",
       "      <th></th>\n",
       "    </tr>\n",
       "  </thead>\n",
       "  <tbody>\n",
       "    <tr>\n",
       "      <th>2013-06-04</th>\n",
       "      <td>50.599998</td>\n",
       "      <td>50.240002</td>\n",
       "      <td>50.599998</td>\n",
       "      <td>50.299999</td>\n",
       "      <td>44300.0</td>\n",
       "      <td>41.435829</td>\n",
       "    </tr>\n",
       "    <tr>\n",
       "      <th>2013-06-05</th>\n",
       "      <td>50.400002</td>\n",
       "      <td>50.299999</td>\n",
       "      <td>50.400002</td>\n",
       "      <td>50.360001</td>\n",
       "      <td>62500.0</td>\n",
       "      <td>41.485252</td>\n",
       "    </tr>\n",
       "    <tr>\n",
       "      <th>2013-06-06</th>\n",
       "      <td>50.349998</td>\n",
       "      <td>50.270000</td>\n",
       "      <td>50.340000</td>\n",
       "      <td>50.290001</td>\n",
       "      <td>106800.0</td>\n",
       "      <td>41.427589</td>\n",
       "    </tr>\n",
       "    <tr>\n",
       "      <th>2013-06-07</th>\n",
       "      <td>50.330002</td>\n",
       "      <td>50.189999</td>\n",
       "      <td>50.330002</td>\n",
       "      <td>50.189999</td>\n",
       "      <td>70800.0</td>\n",
       "      <td>41.345203</td>\n",
       "    </tr>\n",
       "    <tr>\n",
       "      <th>2013-06-10</th>\n",
       "      <td>50.259998</td>\n",
       "      <td>49.799999</td>\n",
       "      <td>50.259998</td>\n",
       "      <td>49.830002</td>\n",
       "      <td>128800.0</td>\n",
       "      <td>41.048637</td>\n",
       "    </tr>\n",
       "    <tr>\n",
       "      <th>...</th>\n",
       "      <td>...</td>\n",
       "      <td>...</td>\n",
       "      <td>...</td>\n",
       "      <td>...</td>\n",
       "      <td>...</td>\n",
       "      <td>...</td>\n",
       "    </tr>\n",
       "    <tr>\n",
       "      <th>2022-02-16</th>\n",
       "      <td>53.349998</td>\n",
       "      <td>53.240002</td>\n",
       "      <td>53.320000</td>\n",
       "      <td>53.330002</td>\n",
       "      <td>3462500.0</td>\n",
       "      <td>53.330002</td>\n",
       "    </tr>\n",
       "    <tr>\n",
       "      <th>2022-02-17</th>\n",
       "      <td>53.450001</td>\n",
       "      <td>53.310001</td>\n",
       "      <td>53.310001</td>\n",
       "      <td>53.419998</td>\n",
       "      <td>2509500.0</td>\n",
       "      <td>53.419998</td>\n",
       "    </tr>\n",
       "    <tr>\n",
       "      <th>2022-02-18</th>\n",
       "      <td>53.599998</td>\n",
       "      <td>53.490002</td>\n",
       "      <td>53.509998</td>\n",
       "      <td>53.590000</td>\n",
       "      <td>2146900.0</td>\n",
       "      <td>53.590000</td>\n",
       "    </tr>\n",
       "    <tr>\n",
       "      <th>2022-02-22</th>\n",
       "      <td>53.380001</td>\n",
       "      <td>53.259998</td>\n",
       "      <td>53.259998</td>\n",
       "      <td>53.360001</td>\n",
       "      <td>3574900.0</td>\n",
       "      <td>53.360001</td>\n",
       "    </tr>\n",
       "    <tr>\n",
       "      <th>2022-02-23</th>\n",
       "      <td>53.349998</td>\n",
       "      <td>53.270000</td>\n",
       "      <td>53.310001</td>\n",
       "      <td>53.340000</td>\n",
       "      <td>3052700.0</td>\n",
       "      <td>53.340000</td>\n",
       "    </tr>\n",
       "  </tbody>\n",
       "</table>\n",
       "<p>2198 rows × 6 columns</p>\n",
       "</div>"
      ],
      "text/plain": [
       "                 High        Low       Open      Close     Volume  Adj Close\n",
       "Date                                                                        \n",
       "2013-06-04  50.599998  50.240002  50.599998  50.299999    44300.0  41.435829\n",
       "2013-06-05  50.400002  50.299999  50.400002  50.360001    62500.0  41.485252\n",
       "2013-06-06  50.349998  50.270000  50.340000  50.290001   106800.0  41.427589\n",
       "2013-06-07  50.330002  50.189999  50.330002  50.189999    70800.0  41.345203\n",
       "2013-06-10  50.259998  49.799999  50.259998  49.830002   128800.0  41.048637\n",
       "...               ...        ...        ...        ...        ...        ...\n",
       "2022-02-16  53.349998  53.240002  53.320000  53.330002  3462500.0  53.330002\n",
       "2022-02-17  53.450001  53.310001  53.310001  53.419998  2509500.0  53.419998\n",
       "2022-02-18  53.599998  53.490002  53.509998  53.590000  2146900.0  53.590000\n",
       "2022-02-22  53.380001  53.259998  53.259998  53.360001  3574900.0  53.360001\n",
       "2022-02-23  53.349998  53.270000  53.310001  53.340000  3052700.0  53.340000\n",
       "\n",
       "[2198 rows x 6 columns]"
      ]
     },
     "execution_count": 9,
     "metadata": {},
     "output_type": "execute_result"
    }
   ],
   "source": [
    "bndx"
   ]
  },
  {
   "cell_type": "code",
   "execution_count": 10,
   "id": "b19cc50a-8b11-4639-baa0-3e4e3b8657e3",
   "metadata": {},
   "outputs": [],
   "source": [
    "prices = pd.DataFrame()"
   ]
  },
  {
   "cell_type": "code",
   "execution_count": 11,
   "id": "a73b65ab-b0e4-4b8b-99f8-4ed4c9e58ec1",
   "metadata": {},
   "outputs": [
    {
     "data": {
      "text/html": [
       "<div>\n",
       "<style scoped>\n",
       "    .dataframe tbody tr th:only-of-type {\n",
       "        vertical-align: middle;\n",
       "    }\n",
       "\n",
       "    .dataframe tbody tr th {\n",
       "        vertical-align: top;\n",
       "    }\n",
       "\n",
       "    .dataframe thead th {\n",
       "        text-align: right;\n",
       "    }\n",
       "</style>\n",
       "<table border=\"1\" class=\"dataframe\">\n",
       "  <thead>\n",
       "    <tr style=\"text-align: right;\">\n",
       "      <th></th>\n",
       "      <th>VOO</th>\n",
       "      <th>BND</th>\n",
       "      <th>VXUS</th>\n",
       "      <th>BNDX</th>\n",
       "    </tr>\n",
       "    <tr>\n",
       "      <th>Date</th>\n",
       "      <th></th>\n",
       "      <th></th>\n",
       "      <th></th>\n",
       "      <th></th>\n",
       "    </tr>\n",
       "  </thead>\n",
       "  <tbody>\n",
       "    <tr>\n",
       "      <th>2013-06-04</th>\n",
       "      <td>127.572563</td>\n",
       "      <td>65.388741</td>\n",
       "      <td>37.280704</td>\n",
       "      <td>41.435829</td>\n",
       "    </tr>\n",
       "    <tr>\n",
       "      <th>2013-06-05</th>\n",
       "      <td>125.616440</td>\n",
       "      <td>65.364822</td>\n",
       "      <td>36.601749</td>\n",
       "      <td>41.485252</td>\n",
       "    </tr>\n",
       "    <tr>\n",
       "      <th>2013-06-06</th>\n",
       "      <td>126.602974</td>\n",
       "      <td>65.452408</td>\n",
       "      <td>36.825500</td>\n",
       "      <td>41.427589</td>\n",
       "    </tr>\n",
       "    <tr>\n",
       "      <th>2013-06-07</th>\n",
       "      <td>128.372025</td>\n",
       "      <td>65.285202</td>\n",
       "      <td>37.049244</td>\n",
       "      <td>41.345203</td>\n",
       "    </tr>\n",
       "    <tr>\n",
       "      <th>2013-06-10</th>\n",
       "      <td>128.320969</td>\n",
       "      <td>65.118042</td>\n",
       "      <td>37.018375</td>\n",
       "      <td>41.048637</td>\n",
       "    </tr>\n",
       "    <tr>\n",
       "      <th>...</th>\n",
       "      <td>...</td>\n",
       "      <td>...</td>\n",
       "      <td>...</td>\n",
       "      <td>...</td>\n",
       "    </tr>\n",
       "    <tr>\n",
       "      <th>2022-02-16</th>\n",
       "      <td>410.589996</td>\n",
       "      <td>81.209999</td>\n",
       "      <td>62.799999</td>\n",
       "      <td>53.330002</td>\n",
       "    </tr>\n",
       "    <tr>\n",
       "      <th>2022-02-17</th>\n",
       "      <td>401.859985</td>\n",
       "      <td>81.389999</td>\n",
       "      <td>61.930000</td>\n",
       "      <td>53.419998</td>\n",
       "    </tr>\n",
       "    <tr>\n",
       "      <th>2022-02-18</th>\n",
       "      <td>399.290009</td>\n",
       "      <td>81.529999</td>\n",
       "      <td>61.540001</td>\n",
       "      <td>53.590000</td>\n",
       "    </tr>\n",
       "    <tr>\n",
       "      <th>2022-02-22</th>\n",
       "      <td>394.920013</td>\n",
       "      <td>81.480003</td>\n",
       "      <td>60.810001</td>\n",
       "      <td>53.360001</td>\n",
       "    </tr>\n",
       "    <tr>\n",
       "      <th>2022-02-23</th>\n",
       "      <td>387.809998</td>\n",
       "      <td>81.070000</td>\n",
       "      <td>60.209999</td>\n",
       "      <td>53.340000</td>\n",
       "    </tr>\n",
       "  </tbody>\n",
       "</table>\n",
       "<p>2198 rows × 4 columns</p>\n",
       "</div>"
      ],
      "text/plain": [
       "                   VOO        BND       VXUS       BNDX\n",
       "Date                                                   \n",
       "2013-06-04  127.572563  65.388741  37.280704  41.435829\n",
       "2013-06-05  125.616440  65.364822  36.601749  41.485252\n",
       "2013-06-06  126.602974  65.452408  36.825500  41.427589\n",
       "2013-06-07  128.372025  65.285202  37.049244  41.345203\n",
       "2013-06-10  128.320969  65.118042  37.018375  41.048637\n",
       "...                ...        ...        ...        ...\n",
       "2022-02-16  410.589996  81.209999  62.799999  53.330002\n",
       "2022-02-17  401.859985  81.389999  61.930000  53.419998\n",
       "2022-02-18  399.290009  81.529999  61.540001  53.590000\n",
       "2022-02-22  394.920013  81.480003  60.810001  53.360001\n",
       "2022-02-23  387.809998  81.070000  60.209999  53.340000\n",
       "\n",
       "[2198 rows x 4 columns]"
      ]
     },
     "execution_count": 11,
     "metadata": {},
     "output_type": "execute_result"
    }
   ],
   "source": [
    "prices['VOO'] = voo['Adj Close']\n",
    "prices['BND'] = bnd['Adj Close']\n",
    "prices['VXUS'] = vxus['Adj Close']\n",
    "prices['BNDX'] = bndx['Adj Close']\n",
    "prices = prices.fillna(value=None, method=\"ffill\", axis=0, inplace=False).dropna(axis=0, how='any', inplace=False)\n",
    "prices"
   ]
  },
  {
   "cell_type": "code",
   "execution_count": 12,
   "id": "10703863-61a0-4ea6-9ec8-b83eca74f10f",
   "metadata": {},
   "outputs": [
    {
     "data": {
      "text/plain": [
       "Date\n",
       "2007-11-30    1291.856\n",
       "2007-12-31    1275.956\n",
       "2008-01-31    1170.327\n",
       "2008-02-29    1173.998\n",
       "2008-03-31    1152.170\n",
       "                ...   \n",
       "2021-01-29    2094.703\n",
       "2021-02-26    2149.293\n",
       "2021-03-31    2200.156\n",
       "2021-04-30    2292.451\n",
       "2021-05-31    2322.886\n",
       "Name: ACWI + FRONTIER MARKETS(ACWI FM) ALL CAP All Cap (Large+Mid+Small+Micro Cap), Length: 163, dtype: float64"
      ]
     },
     "execution_count": 12,
     "metadata": {},
     "output_type": "execute_result"
    }
   ],
   "source": [
    "msci = pd.read_csv(\"./data/msci.csv\", sep=\",\", header=0, index_col=\"Date\", skipinitialspace=True, skip_blank_lines=True, parse_dates=True, infer_datetime_format=True, thousands=\",\")\n",
    "msci.iloc[:, 0]"
   ]
  },
  {
   "cell_type": "code",
   "execution_count": 13,
   "id": "a5f3bbda-8f74-47d9-b9c6-101365f554c6",
   "metadata": {},
   "outputs": [],
   "source": [
    "from pypfopt import expected_returns\n",
    "from pypfopt import risk_models\n",
    "from pypfopt import efficient_frontier"
   ]
  },
  {
   "cell_type": "code",
   "execution_count": 14,
   "id": "eb9bff0d-a3d7-4332-8031-3def9fc79a65",
   "metadata": {},
   "outputs": [
    {
     "data": {
      "text/plain": [
       "VOO     0.136018\n",
       "BND     0.024963\n",
       "VXUS    0.056523\n",
       "BNDX    0.029390\n",
       "dtype: float64"
      ]
     },
     "execution_count": 14,
     "metadata": {},
     "output_type": "execute_result"
    }
   ],
   "source": [
    "mhr = expected_returns.mean_historical_return(prices, frequency=252)\n",
    "mhr"
   ]
  },
  {
   "cell_type": "code",
   "execution_count": 15,
   "id": "28279bf9-09b4-4c1e-bb7e-1a70d10a0723",
   "metadata": {},
   "outputs": [
    {
     "data": {
      "text/plain": [
       "VOO     0.114836\n",
       "BND    -0.025955\n",
       "VXUS    0.050141\n",
       "BNDX   -0.025619\n",
       "Name: 2022-02-23 00:00:00, dtype: float64"
      ]
     },
     "execution_count": 15,
     "metadata": {},
     "output_type": "execute_result"
    }
   ],
   "source": [
    "ehr = expected_returns.ema_historical_return(prices, frequency=252, span=500)\n",
    "ehr"
   ]
  },
  {
   "cell_type": "code",
   "execution_count": 16,
   "id": "bc90f36c-6e35-46f2-860a-d9d3cbe66339",
   "metadata": {},
   "outputs": [
    {
     "data": {
      "text/plain": [
       "1.9792027252663047e-05"
      ]
     },
     "execution_count": 16,
     "metadata": {},
     "output_type": "execute_result"
    }
   ],
   "source": [
    "risk_free_rate=1.005**((1/252)) - 1\n",
    "risk_free_rate"
   ]
  },
  {
   "cell_type": "code",
   "execution_count": 17,
   "id": "7e966d3a-ffb9-4177-8415-cc5da7c236b4",
   "metadata": {},
   "outputs": [
    {
     "data": {
      "text/plain": [
       "VOO     0.123673\n",
       "BND     0.007918\n",
       "VXUS    0.123490\n",
       "BNDX    0.005168\n",
       "Name: mkt, dtype: float64"
      ]
     },
     "execution_count": 17,
     "metadata": {},
     "output_type": "execute_result"
    }
   ],
   "source": [
    "capmr = expected_returns.capm_return(prices, market_prices=None, returns_data=False, risk_free_rate=risk_free_rate, compounding=True, frequency=252, log_returns=False)\n",
    "capmr"
   ]
  },
  {
   "cell_type": "code",
   "execution_count": 18,
   "id": "0c1ddefa-e769-4680-90b6-3f6c036bced9",
   "metadata": {},
   "outputs": [
    {
     "data": {
      "text/html": [
       "<div>\n",
       "<style scoped>\n",
       "    .dataframe tbody tr th:only-of-type {\n",
       "        vertical-align: middle;\n",
       "    }\n",
       "\n",
       "    .dataframe tbody tr th {\n",
       "        vertical-align: top;\n",
       "    }\n",
       "\n",
       "    .dataframe thead th {\n",
       "        text-align: right;\n",
       "    }\n",
       "</style>\n",
       "<table border=\"1\" class=\"dataframe\">\n",
       "  <thead>\n",
       "    <tr style=\"text-align: right;\">\n",
       "      <th></th>\n",
       "      <th>VOO</th>\n",
       "      <th>BND</th>\n",
       "      <th>VXUS</th>\n",
       "      <th>BNDX</th>\n",
       "    </tr>\n",
       "  </thead>\n",
       "  <tbody>\n",
       "    <tr>\n",
       "      <th>VOO</th>\n",
       "      <td>0.028771</td>\n",
       "      <td>0.000164</td>\n",
       "      <td>0.024910</td>\n",
       "      <td>0.000184</td>\n",
       "    </tr>\n",
       "    <tr>\n",
       "      <th>BND</th>\n",
       "      <td>0.000164</td>\n",
       "      <td>0.001968</td>\n",
       "      <td>0.000443</td>\n",
       "      <td>0.000877</td>\n",
       "    </tr>\n",
       "    <tr>\n",
       "      <th>VXUS</th>\n",
       "      <td>0.024910</td>\n",
       "      <td>0.000443</td>\n",
       "      <td>0.028396</td>\n",
       "      <td>0.000201</td>\n",
       "    </tr>\n",
       "    <tr>\n",
       "      <th>BNDX</th>\n",
       "      <td>0.000184</td>\n",
       "      <td>0.000877</td>\n",
       "      <td>0.000201</td>\n",
       "      <td>0.000988</td>\n",
       "    </tr>\n",
       "  </tbody>\n",
       "</table>\n",
       "</div>"
      ],
      "text/plain": [
       "           VOO       BND      VXUS      BNDX\n",
       "VOO   0.028771  0.000164  0.024910  0.000184\n",
       "BND   0.000164  0.001968  0.000443  0.000877\n",
       "VXUS  0.024910  0.000443  0.028396  0.000201\n",
       "BNDX  0.000184  0.000877  0.000201  0.000988"
      ]
     },
     "execution_count": 18,
     "metadata": {},
     "output_type": "execute_result"
    }
   ],
   "source": [
    "sample_cov = risk_models.risk_matrix(prices, method='sample_cov')\n",
    "sample_cov"
   ]
  },
  {
   "cell_type": "code",
   "execution_count": 19,
   "id": "be323999-fed6-4e10-8b87-6007dbb50646",
   "metadata": {},
   "outputs": [
    {
     "data": {
      "text/html": [
       "<div>\n",
       "<style scoped>\n",
       "    .dataframe tbody tr th:only-of-type {\n",
       "        vertical-align: middle;\n",
       "    }\n",
       "\n",
       "    .dataframe tbody tr th {\n",
       "        vertical-align: top;\n",
       "    }\n",
       "\n",
       "    .dataframe thead th {\n",
       "        text-align: right;\n",
       "    }\n",
       "</style>\n",
       "<table border=\"1\" class=\"dataframe\">\n",
       "  <thead>\n",
       "    <tr style=\"text-align: right;\">\n",
       "      <th></th>\n",
       "      <th>VOO</th>\n",
       "      <th>BND</th>\n",
       "      <th>VXUS</th>\n",
       "      <th>BNDX</th>\n",
       "    </tr>\n",
       "  </thead>\n",
       "  <tbody>\n",
       "    <tr>\n",
       "      <th>VOO</th>\n",
       "      <td>0.014933</td>\n",
       "      <td>0.001407</td>\n",
       "      <td>0.013733</td>\n",
       "      <td>0.000986</td>\n",
       "    </tr>\n",
       "    <tr>\n",
       "      <th>BND</th>\n",
       "      <td>0.001407</td>\n",
       "      <td>0.001073</td>\n",
       "      <td>0.001603</td>\n",
       "      <td>0.000564</td>\n",
       "    </tr>\n",
       "    <tr>\n",
       "      <th>VXUS</th>\n",
       "      <td>0.013733</td>\n",
       "      <td>0.001603</td>\n",
       "      <td>0.015871</td>\n",
       "      <td>0.001068</td>\n",
       "    </tr>\n",
       "    <tr>\n",
       "      <th>BNDX</th>\n",
       "      <td>0.000986</td>\n",
       "      <td>0.000564</td>\n",
       "      <td>0.001068</td>\n",
       "      <td>0.000545</td>\n",
       "    </tr>\n",
       "  </tbody>\n",
       "</table>\n",
       "</div>"
      ],
      "text/plain": [
       "           VOO       BND      VXUS      BNDX\n",
       "VOO   0.014933  0.001407  0.013733  0.000986\n",
       "BND   0.001407  0.001073  0.001603  0.000564\n",
       "VXUS  0.013733  0.001603  0.015871  0.001068\n",
       "BNDX  0.000986  0.000564  0.001068  0.000545"
      ]
     },
     "execution_count": 19,
     "metadata": {},
     "output_type": "execute_result"
    }
   ],
   "source": [
    "semicovariance = risk_models.risk_matrix(prices, method='semicovariance', benchmark=risk_free_rate, frequency=252, log_returns=False)\n",
    "semicovariance"
   ]
  },
  {
   "cell_type": "code",
   "execution_count": 20,
   "id": "a9e9fae4-f583-4197-ad09-ec7fa2427baf",
   "metadata": {},
   "outputs": [
    {
     "data": {
      "text/html": [
       "<div>\n",
       "<style scoped>\n",
       "    .dataframe tbody tr th:only-of-type {\n",
       "        vertical-align: middle;\n",
       "    }\n",
       "\n",
       "    .dataframe tbody tr th {\n",
       "        vertical-align: top;\n",
       "    }\n",
       "\n",
       "    .dataframe thead th {\n",
       "        text-align: right;\n",
       "    }\n",
       "</style>\n",
       "<table border=\"1\" class=\"dataframe\">\n",
       "  <thead>\n",
       "    <tr style=\"text-align: right;\">\n",
       "      <th></th>\n",
       "      <th>VOO</th>\n",
       "      <th>BND</th>\n",
       "      <th>VXUS</th>\n",
       "      <th>BNDX</th>\n",
       "    </tr>\n",
       "  </thead>\n",
       "  <tbody>\n",
       "    <tr>\n",
       "      <th>VOO</th>\n",
       "      <td>0.035348</td>\n",
       "      <td>0.000873</td>\n",
       "      <td>0.028081</td>\n",
       "      <td>0.000580</td>\n",
       "    </tr>\n",
       "    <tr>\n",
       "      <th>BND</th>\n",
       "      <td>0.000873</td>\n",
       "      <td>0.002591</td>\n",
       "      <td>0.000756</td>\n",
       "      <td>0.001332</td>\n",
       "    </tr>\n",
       "    <tr>\n",
       "      <th>VXUS</th>\n",
       "      <td>0.028081</td>\n",
       "      <td>0.000756</td>\n",
       "      <td>0.029700</td>\n",
       "      <td>0.000454</td>\n",
       "    </tr>\n",
       "    <tr>\n",
       "      <th>BNDX</th>\n",
       "      <td>0.000580</td>\n",
       "      <td>0.001332</td>\n",
       "      <td>0.000454</td>\n",
       "      <td>0.001312</td>\n",
       "    </tr>\n",
       "  </tbody>\n",
       "</table>\n",
       "</div>"
      ],
      "text/plain": [
       "           VOO       BND      VXUS      BNDX\n",
       "VOO   0.035348  0.000873  0.028081  0.000580\n",
       "BND   0.000873  0.002591  0.000756  0.001332\n",
       "VXUS  0.028081  0.000756  0.029700  0.000454\n",
       "BNDX  0.000580  0.001332  0.000454  0.001312"
      ]
     },
     "execution_count": 20,
     "metadata": {},
     "output_type": "execute_result"
    }
   ],
   "source": [
    "exp_cov = risk_models.risk_matrix(prices, method='exp_cov', span=500, frequency=252)\n",
    "exp_cov"
   ]
  },
  {
   "cell_type": "code",
   "execution_count": 21,
   "id": "e6bed6a6-e213-4561-88b2-f0c2b5eab815",
   "metadata": {},
   "outputs": [
    {
     "data": {
      "text/html": [
       "<div>\n",
       "<style scoped>\n",
       "    .dataframe tbody tr th:only-of-type {\n",
       "        vertical-align: middle;\n",
       "    }\n",
       "\n",
       "    .dataframe tbody tr th {\n",
       "        vertical-align: top;\n",
       "    }\n",
       "\n",
       "    .dataframe thead th {\n",
       "        text-align: right;\n",
       "    }\n",
       "</style>\n",
       "<table border=\"1\" class=\"dataframe\">\n",
       "  <thead>\n",
       "    <tr style=\"text-align: right;\">\n",
       "      <th></th>\n",
       "      <th>VOO</th>\n",
       "      <th>BND</th>\n",
       "      <th>VXUS</th>\n",
       "      <th>BNDX</th>\n",
       "    </tr>\n",
       "  </thead>\n",
       "  <tbody>\n",
       "    <tr>\n",
       "      <th>VOO</th>\n",
       "      <td>0.028771</td>\n",
       "      <td>0.000203</td>\n",
       "      <td>0.024559</td>\n",
       "      <td>0.000210</td>\n",
       "    </tr>\n",
       "    <tr>\n",
       "      <th>BND</th>\n",
       "      <td>0.000203</td>\n",
       "      <td>0.001968</td>\n",
       "      <td>0.000476</td>\n",
       "      <td>0.000866</td>\n",
       "    </tr>\n",
       "    <tr>\n",
       "      <th>VXUS</th>\n",
       "      <td>0.024559</td>\n",
       "      <td>0.000476</td>\n",
       "      <td>0.028396</td>\n",
       "      <td>0.000227</td>\n",
       "    </tr>\n",
       "    <tr>\n",
       "      <th>BNDX</th>\n",
       "      <td>0.000210</td>\n",
       "      <td>0.000866</td>\n",
       "      <td>0.000227</td>\n",
       "      <td>0.000988</td>\n",
       "    </tr>\n",
       "  </tbody>\n",
       "</table>\n",
       "</div>"
      ],
      "text/plain": [
       "           VOO       BND      VXUS      BNDX\n",
       "VOO   0.028771  0.000203  0.024559  0.000210\n",
       "BND   0.000203  0.001968  0.000476  0.000866\n",
       "VXUS  0.024559  0.000476  0.028396  0.000227\n",
       "BNDX  0.000210  0.000866  0.000227  0.000988"
      ]
     },
     "execution_count": 21,
     "metadata": {},
     "output_type": "execute_result"
    }
   ],
   "source": [
    "ledoiid_wolf_cc = risk_models.risk_matrix(prices, method='ledoit_wolf_constant_correlation', frequency=252)\n",
    "ledoiid_wolf_cc"
   ]
  },
  {
   "cell_type": "code",
   "execution_count": 22,
   "id": "9b4f4e8a-edf9-4bbe-a2d2-5849b91decb2",
   "metadata": {},
   "outputs": [
    {
     "data": {
      "text/html": [
       "<div>\n",
       "<style scoped>\n",
       "    .dataframe tbody tr th:only-of-type {\n",
       "        vertical-align: middle;\n",
       "    }\n",
       "\n",
       "    .dataframe tbody tr th {\n",
       "        vertical-align: top;\n",
       "    }\n",
       "\n",
       "    .dataframe thead th {\n",
       "        text-align: right;\n",
       "    }\n",
       "</style>\n",
       "<table border=\"1\" class=\"dataframe\">\n",
       "  <thead>\n",
       "    <tr style=\"text-align: right;\">\n",
       "      <th></th>\n",
       "      <th>VOO</th>\n",
       "      <th>BND</th>\n",
       "      <th>VXUS</th>\n",
       "      <th>BNDX</th>\n",
       "    </tr>\n",
       "  </thead>\n",
       "  <tbody>\n",
       "    <tr>\n",
       "      <th>VOO</th>\n",
       "      <td>0.028758</td>\n",
       "      <td>0.000163</td>\n",
       "      <td>0.024899</td>\n",
       "      <td>0.000184</td>\n",
       "    </tr>\n",
       "    <tr>\n",
       "      <th>BND</th>\n",
       "      <td>0.000163</td>\n",
       "      <td>0.001967</td>\n",
       "      <td>0.000442</td>\n",
       "      <td>0.000876</td>\n",
       "    </tr>\n",
       "    <tr>\n",
       "      <th>VXUS</th>\n",
       "      <td>0.024899</td>\n",
       "      <td>0.000442</td>\n",
       "      <td>0.028383</td>\n",
       "      <td>0.000200</td>\n",
       "    </tr>\n",
       "    <tr>\n",
       "      <th>BNDX</th>\n",
       "      <td>0.000184</td>\n",
       "      <td>0.000876</td>\n",
       "      <td>0.000200</td>\n",
       "      <td>0.000988</td>\n",
       "    </tr>\n",
       "  </tbody>\n",
       "</table>\n",
       "</div>"
      ],
      "text/plain": [
       "           VOO       BND      VXUS      BNDX\n",
       "VOO   0.028758  0.000163  0.024899  0.000184\n",
       "BND   0.000163  0.001967  0.000442  0.000876\n",
       "VXUS  0.024899  0.000442  0.028383  0.000200\n",
       "BNDX  0.000184  0.000876  0.000200  0.000988"
      ]
     },
     "execution_count": 22,
     "metadata": {},
     "output_type": "execute_result"
    }
   ],
   "source": [
    "ledoiid_wolf_sf = risk_models.risk_matrix(prices, method='ledoit_wolf_single_factor', frequency=252)\n",
    "ledoiid_wolf_sf"
   ]
  },
  {
   "cell_type": "code",
   "execution_count": 23,
   "id": "252147d5-ef6c-4d49-9062-643506592086",
   "metadata": {},
   "outputs": [
    {
     "data": {
      "text/html": [
       "<div>\n",
       "<style scoped>\n",
       "    .dataframe tbody tr th:only-of-type {\n",
       "        vertical-align: middle;\n",
       "    }\n",
       "\n",
       "    .dataframe tbody tr th {\n",
       "        vertical-align: top;\n",
       "    }\n",
       "\n",
       "    .dataframe thead th {\n",
       "        text-align: right;\n",
       "    }\n",
       "</style>\n",
       "<table border=\"1\" class=\"dataframe\">\n",
       "  <thead>\n",
       "    <tr style=\"text-align: right;\">\n",
       "      <th></th>\n",
       "      <th>VOO</th>\n",
       "      <th>BND</th>\n",
       "      <th>VXUS</th>\n",
       "      <th>BNDX</th>\n",
       "    </tr>\n",
       "  </thead>\n",
       "  <tbody>\n",
       "    <tr>\n",
       "      <th>VOO</th>\n",
       "      <td>0.028532</td>\n",
       "      <td>0.000161</td>\n",
       "      <td>0.024489</td>\n",
       "      <td>0.000181</td>\n",
       "    </tr>\n",
       "    <tr>\n",
       "      <th>BND</th>\n",
       "      <td>0.000161</td>\n",
       "      <td>0.002182</td>\n",
       "      <td>0.000435</td>\n",
       "      <td>0.000862</td>\n",
       "    </tr>\n",
       "    <tr>\n",
       "      <th>VXUS</th>\n",
       "      <td>0.024489</td>\n",
       "      <td>0.000435</td>\n",
       "      <td>0.028163</td>\n",
       "      <td>0.000197</td>\n",
       "    </tr>\n",
       "    <tr>\n",
       "      <th>BNDX</th>\n",
       "      <td>0.000181</td>\n",
       "      <td>0.000862</td>\n",
       "      <td>0.000197</td>\n",
       "      <td>0.001219</td>\n",
       "    </tr>\n",
       "  </tbody>\n",
       "</table>\n",
       "</div>"
      ],
      "text/plain": [
       "           VOO       BND      VXUS      BNDX\n",
       "VOO   0.028532  0.000161  0.024489  0.000181\n",
       "BND   0.000161  0.002182  0.000435  0.000862\n",
       "VXUS  0.024489  0.000435  0.028163  0.000197\n",
       "BNDX  0.000181  0.000862  0.000197  0.001219"
      ]
     },
     "execution_count": 23,
     "metadata": {},
     "output_type": "execute_result"
    }
   ],
   "source": [
    "ledoiid_wolf_cv = risk_models.risk_matrix(prices, method='ledoit_wolf_constant_variance', frequency=252)\n",
    "ledoiid_wolf_cv"
   ]
  },
  {
   "cell_type": "code",
   "execution_count": 24,
   "id": "233c5fd3-0f69-4162-8d5a-41658958891c",
   "metadata": {},
   "outputs": [
    {
     "data": {
      "text/html": [
       "<div>\n",
       "<style scoped>\n",
       "    .dataframe tbody tr th:only-of-type {\n",
       "        vertical-align: middle;\n",
       "    }\n",
       "\n",
       "    .dataframe tbody tr th {\n",
       "        vertical-align: top;\n",
       "    }\n",
       "\n",
       "    .dataframe thead th {\n",
       "        text-align: right;\n",
       "    }\n",
       "</style>\n",
       "<table border=\"1\" class=\"dataframe\">\n",
       "  <thead>\n",
       "    <tr style=\"text-align: right;\">\n",
       "      <th></th>\n",
       "      <th>VOO</th>\n",
       "      <th>BND</th>\n",
       "      <th>VXUS</th>\n",
       "      <th>BNDX</th>\n",
       "    </tr>\n",
       "  </thead>\n",
       "  <tbody>\n",
       "    <tr>\n",
       "      <th>VOO</th>\n",
       "      <td>0.028737</td>\n",
       "      <td>0.000163</td>\n",
       "      <td>0.024861</td>\n",
       "      <td>0.000184</td>\n",
       "    </tr>\n",
       "    <tr>\n",
       "      <th>BND</th>\n",
       "      <td>0.000163</td>\n",
       "      <td>0.001987</td>\n",
       "      <td>0.000442</td>\n",
       "      <td>0.000875</td>\n",
       "    </tr>\n",
       "    <tr>\n",
       "      <th>VXUS</th>\n",
       "      <td>0.024861</td>\n",
       "      <td>0.000442</td>\n",
       "      <td>0.028363</td>\n",
       "      <td>0.000200</td>\n",
       "    </tr>\n",
       "    <tr>\n",
       "      <th>BNDX</th>\n",
       "      <td>0.000184</td>\n",
       "      <td>0.000875</td>\n",
       "      <td>0.000200</td>\n",
       "      <td>0.001009</td>\n",
       "    </tr>\n",
       "  </tbody>\n",
       "</table>\n",
       "</div>"
      ],
      "text/plain": [
       "           VOO       BND      VXUS      BNDX\n",
       "VOO   0.028737  0.000163  0.024861  0.000184\n",
       "BND   0.000163  0.001987  0.000442  0.000875\n",
       "VXUS  0.024861  0.000442  0.028363  0.000200\n",
       "BNDX  0.000184  0.000875  0.000200  0.001009"
      ]
     },
     "execution_count": 24,
     "metadata": {},
     "output_type": "execute_result"
    }
   ],
   "source": [
    "oracle_approx = risk_models.risk_matrix(prices, method='oracle_approximating', frequency=252)\n",
    "oracle_approx"
   ]
  },
  {
   "cell_type": "code",
   "execution_count": 25,
   "id": "04fad3d3-fda7-4d42-ab48-5aa39fd48840",
   "metadata": {},
   "outputs": [
    {
     "name": "stderr",
     "output_type": "stream",
     "text": [
      "/root/.pyenv/versions/3.10.1/lib/python3.10/site-packages/pypfopt/efficient_frontier/efficient_frontier.py:257: UserWarning: max_sharpe transforms the optimization problem so additional objectives may not work as expected.\n",
      "  warnings.warn(\n"
     ]
    },
    {
     "data": {
      "text/plain": [
       "OrderedDict([('VOO', 0.5804878585864695),\n",
       "             ('BND', 0.0913501058073521),\n",
       "             ('VXUS', 0.2163210573078866),\n",
       "             ('BNDX', 0.1118409782982917)])"
      ]
     },
     "execution_count": 25,
     "metadata": {},
     "output_type": "execute_result"
    }
   ],
   "source": [
    "from pypfopt import objective_functions\n",
    "\n",
    "expected_returns =  mhr\n",
    "cov_matrix = ledoiid_wolf_sf\n",
    "ef = efficient_frontier.EfficientFrontier(expected_returns, cov_matrix)\n",
    "ef.add_objective(objective_functions.L2_reg, gamma=1.0)\n",
    "ef.max_sharpe(risk_free_rate=0.005)"
   ]
  },
  {
   "cell_type": "code",
   "execution_count": 26,
   "id": "739308dd-bb39-4acf-a618-1b87bfa7a263",
   "metadata": {},
   "outputs": [
    {
     "name": "stdout",
     "output_type": "stream",
     "text": [
      "Expected annual return: 9.7%\n",
      "Annual volatility: 13.2%\n",
      "Sharpe Ratio: 0.70\n"
     ]
    },
    {
     "data": {
      "text/plain": [
       "(0.096751352539248, 0.13185914044960292, 0.6958285351049723)"
      ]
     },
     "execution_count": 26,
     "metadata": {},
     "output_type": "execute_result"
    }
   ],
   "source": [
    "perf = ef.portfolio_performance(verbose=True, risk_free_rate=0.005)\n",
    "perf"
   ]
  },
  {
   "cell_type": "code",
   "execution_count": 27,
   "id": "8774d97c-9921-4e36-969a-283226699c01",
   "metadata": {},
   "outputs": [],
   "source": [
    "import matplotlib.pyplot as plt\n",
    "from pypfopt import plotting\n",
    "import numpy as np"
   ]
  },
  {
   "cell_type": "code",
   "execution_count": 28,
   "id": "74216d8b-789e-4e80-81ae-51ffbd8550c2",
   "metadata": {},
   "outputs": [
    {
     "name": "stdout",
     "output_type": "stream",
     "text": [
      "Expected annual return: 9.7%\n",
      "Annual volatility: 13.2%\n",
      "Sharpe Ratio: 0.70\n"
     ]
    },
    {
     "data": {
      "image/png": "[encoded data removed]",
      "text/plain": [
       "<Figure size 432x288 with 1 Axes>"
      ]
     },
     "metadata": {
      "needs_background": "light"
     },
     "output_type": "display_data"
    }
   ],
   "source": [
    "ef2 = efficient_frontier.EfficientFrontier(expected_returns, cov_matrix)\n",
    "ef2.add_objective(objective_functions.L2_reg, gamma=1.0)\n",
    "\n",
    "fig, ax = plt.subplots()\n",
    "plotting.plot_efficient_frontier(ef2, ax=ax, show_assets=True)\n",
    "\n",
    "# Generate random portfolios\n",
    "n_samples = 10000\n",
    "w = np.random.dirichlet(np.ones(len(expected_returns)), n_samples)\n",
    "rets = w.dot(expected_returns)\n",
    "stds = np.sqrt(np.diag(w @ cov_matrix @ w.T))\n",
    "sharpes = rets / stds\n",
    "ax.scatter(stds, rets, marker=\".\", c=sharpes, cmap=\"viridis_r\")\n",
    "\n",
    "ret_tangent, std_tangent, _ = ef.portfolio_performance(verbose=True, risk_free_rate=0.005)\n",
    "ax.scatter(std_tangent, ret_tangent, marker=\"*\", s=100, c=\"r\", label=\"Max Sharpe\")\n",
    "\n",
    "ax.set_title(\"Efficient Frontier with random portfolios\")\n",
    "ax.legend()\n",
    "plt.tight_layout()\n",
    "plt.savefig(\"ef_scatter.png\", dpi=200)\n",
    "plt.show()"
   ]
  },
  {
   "cell_type": "code",
   "execution_count": 29,
   "id": "d11ab8dd-e4d9-4b33-8a46-2289b00cabec",
   "metadata": {},
   "outputs": [],
   "source": [
    "stok_market_cap = 93686000000000\n",
    "stok_us_share = 0.559\n",
    "stok_us_cap = stok_market_cap * stok_us_share\n",
    "stok_exus_cap = stok_market_cap * (1.0 - stok_us_share)"
   ]
  },
  {
   "cell_type": "code",
   "execution_count": 30,
   "id": "6efa0aae-bdb8-4c9b-a887-ea71451f5c86",
   "metadata": {},
   "outputs": [],
   "source": [
    "bond_market_cap = 119000000000000\n",
    "#bond_us_share = 0.559\n",
    "bond_us_cap = 49000000000000\n",
    "bond_exus_cap = bond_market_cap - bond_us_cap"
   ]
  },
  {
   "cell_type": "code",
   "execution_count": 31,
   "id": "a94e20c5-57ac-46c3-9270-f2eef67b0040",
   "metadata": {},
   "outputs": [
    {
     "data": {
      "text/plain": [
       "{'VOO': 52370474000000.01,\n",
       " 'BND': 49000000000000,\n",
       " 'VXUS': 41315525999999.99,\n",
       " 'BNDX': 70000000000000}"
      ]
     },
     "execution_count": 31,
     "metadata": {},
     "output_type": "execute_result"
    }
   ],
   "source": [
    "mcaps = {\n",
    "    'VOO': stok_us_cap,\n",
    "    'BND': bond_us_cap,\n",
    "    'VXUS': stok_exus_cap,\n",
    "    'BNDX': bond_exus_cap,\n",
    "}\n",
    "mcaps"
   ]
  },
  {
   "cell_type": "code",
   "execution_count": 32,
   "id": "813cb014-6852-4b47-8a72-582f1654e7b3",
   "metadata": {},
   "outputs": [],
   "source": [
    "from pypfopt import black_litterman, risk_models\n",
    "from pypfopt import BlackLittermanModel, plotting"
   ]
  },
  {
   "cell_type": "code",
   "execution_count": 33,
   "id": "db4c36bc-c864-4938-9b4e-95f39189aa0f",
   "metadata": {},
   "outputs": [
    {
     "data": {
      "text/plain": [
       "1.9814510331904065"
      ]
     },
     "execution_count": 33,
     "metadata": {},
     "output_type": "execute_result"
    }
   ],
   "source": [
    "delta = black_litterman.market_implied_risk_aversion(msci.iloc[:, 0], frequency=12, risk_free_rate=1.005**((1/12)) - 1)\n",
    "delta"
   ]
  },
  {
   "cell_type": "code",
   "execution_count": 34,
   "id": "2293349d-55a0-4d33-8e6a-f4c74b2d7293",
   "metadata": {},
   "outputs": [
    {
     "data": {
      "text/plain": [
       "VOO     0.043809\n",
       "BND     0.021720\n",
       "VXUS    0.043405\n",
       "BNDX    0.021211\n",
       "dtype: float64"
      ]
     },
     "execution_count": 34,
     "metadata": {},
     "output_type": "execute_result"
    }
   ],
   "source": [
    "prior = black_litterman.market_implied_prior_returns(mcaps, delta, cov_matrix)\n",
    "prior"
   ]
  },
  {
   "cell_type": "code",
   "execution_count": 41,
   "id": "51fa88fb-1e1e-426c-81da-a8b765836277",
   "metadata": {},
   "outputs": [
    {
     "data": {
      "text/plain": [
       "{'VOO': 0.1236731503809636,\n",
       " 'BND': 0.007917830535179804,\n",
       " 'VXUS': 0.12349035596292313,\n",
       " 'BNDX': 0.005167887362579138}"
      ]
     },
     "execution_count": 41,
     "metadata": {},
     "output_type": "execute_result"
    }
   ],
   "source": [
    "viewdict = {\n",
    "    'VOO': 0.1,\n",
    "    'BND': 0.02,\n",
    "    'VXUS': 0.08,\n",
    "    'BNDX': 0.03,\n",
    "}\n",
    "viewdict=dict(capmr)\n",
    "viewdict"
   ]
  },
  {
   "cell_type": "code",
   "execution_count": 42,
   "id": "15c65ed8-cb53-4dd4-849a-dc632258c5fe",
   "metadata": {},
   "outputs": [
    {
     "data": {
      "text/plain": [
       "[0.5, 0.8, 0.3, 0.3]"
      ]
     },
     "execution_count": 42,
     "metadata": {},
     "output_type": "execute_result"
    }
   ],
   "source": [
    "confidences = [\n",
    "    0.5,\n",
    "    0.8,\n",
    "    0.3,\n",
    "    0.3\n",
    "]\n",
    "confidences"
   ]
  },
  {
   "cell_type": "code",
   "execution_count": 43,
   "id": "27b64504-af47-4654-8720-e80cae7cb93a",
   "metadata": {},
   "outputs": [
    {
     "data": {
      "text/plain": [
       "VOO     0.090101\n",
       "BND     0.010102\n",
       "VXUS    0.085870\n",
       "BNDX    0.013904\n",
       "dtype: float64"
      ]
     },
     "execution_count": 43,
     "metadata": {},
     "output_type": "execute_result"
    }
   ],
   "source": [
    "from pypfopt.black_litterman import BlackLittermanModel\n",
    "\n",
    "bl = BlackLittermanModel(cov_matrix, pi=prior, absolute_views=viewdict, risk_aversion=delta, omega=\"idzorek\", view_confidences=confidences)\n",
    "posterior = bl.bl_returns()\n",
    "posterior"
   ]
  },
  {
   "cell_type": "code",
   "execution_count": 44,
   "id": "ec466127-08fd-4e05-adf4-331d2acc9a3c",
   "metadata": {},
   "outputs": [
    {
     "name": "stderr",
     "output_type": "stream",
     "text": [
      "/root/.pyenv/versions/3.10.1/lib/python3.10/site-packages/pypfopt/efficient_frontier/efficient_frontier.py:257: UserWarning: max_sharpe transforms the optimization problem so additional objectives may not work as expected.\n",
      "  warnings.warn(\n"
     ]
    },
    {
     "data": {
      "text/plain": [
       "OrderedDict([('VOO', 0.4716801306392138),\n",
       "             ('BND', 0.0293842444589608),\n",
       "             ('VXUS', 0.4472524048422735),\n",
       "             ('BNDX', 0.051683220059552)])"
      ]
     },
     "execution_count": 44,
     "metadata": {},
     "output_type": "execute_result"
    }
   ],
   "source": [
    "expected_returns = posterior\n",
    "cov_matrix = ledoiid_wolf_sf\n",
    "ef_bl = efficient_frontier.EfficientFrontier(expected_returns, cov_matrix)\n",
    "ef_bl.add_objective(objective_functions.L2_reg, gamma=1.0)\n",
    "ef_bl.max_sharpe(risk_free_rate=0.005)"
   ]
  },
  {
   "cell_type": "code",
   "execution_count": 45,
   "id": "ac1473ef-a7fb-4e84-80d4-3a5845f6a54a",
   "metadata": {},
   "outputs": [
    {
     "name": "stdout",
     "output_type": "stream",
     "text": [
      "Expected annual return: 8.2%\n",
      "Annual volatility: 15.0%\n",
      "Sharpe Ratio: 0.51\n"
     ]
    },
    {
     "data": {
      "text/plain": [
       "(0.0819201887619641, 0.15040707459395794, 0.5114133691491536)"
      ]
     },
     "execution_count": 45,
     "metadata": {},
     "output_type": "execute_result"
    }
   ],
   "source": [
    "perf = ef_bl.portfolio_performance(verbose=True, risk_free_rate=0.005)\n",
    "perf"
   ]
  },
  {
   "cell_type": "code",
   "execution_count": 46,
   "id": "10bb21b6-e5b0-4e36-a197-b603de1fec48",
   "metadata": {},
   "outputs": [
    {
     "name": "stdout",
     "output_type": "stream",
     "text": [
      "****** 0.010102416536976008 ******\n",
      "OrderedDict([('VOO', 0.2437731877472482), ('BND', 0.2560665354318394), ('VXUS', 0.2437889576191664), ('BNDX', 0.2563713192017458)])\n",
      "Expected annual return: 4.9%\n",
      "Annual volatility: 8.2%\n",
      "Sharpe Ratio: 0.53\n",
      "(0.04904999425367671, 0.08238860381856984, 0.5346612542516243)\n",
      "****** 0.01510241653697601 ******\n",
      "OrderedDict([('VOO', 0.2437731877472482), ('BND', 0.2560665354318394), ('VXUS', 0.2437889576191664), ('BNDX', 0.2563713192017458)])\n",
      "Expected annual return: 4.9%\n",
      "Annual volatility: 8.2%\n",
      "Sharpe Ratio: 0.53\n",
      "(0.04904999425367671, 0.08238860381856984, 0.5346612542516243)\n",
      "****** 0.02010241653697601 ******\n",
      "OrderedDict([('VOO', 0.2437731877472482), ('BND', 0.2560665354318394), ('VXUS', 0.2437889576191664), ('BNDX', 0.2563713192017458)])\n",
      "Expected annual return: 4.9%\n",
      "Annual volatility: 8.2%\n",
      "Sharpe Ratio: 0.53\n",
      "(0.04904999425367671, 0.08238860381856984, 0.5346612542516243)\n",
      "****** 0.02510241653697601 ******\n",
      "OrderedDict([('VOO', 0.2437731877472482), ('BND', 0.2560665354318394), ('VXUS', 0.2437889576191664), ('BNDX', 0.2563713192017458)])\n",
      "Expected annual return: 4.9%\n",
      "Annual volatility: 8.2%\n",
      "Sharpe Ratio: 0.53\n",
      "(0.04904999425367671, 0.08238860381856984, 0.5346612542516243)\n",
      "****** 0.030102416536976012 ******\n",
      "OrderedDict([('VOO', 0.2437731877472482), ('BND', 0.2560665354318394), ('VXUS', 0.2437889576191664), ('BNDX', 0.2563713192017458)])\n",
      "Expected annual return: 4.9%\n",
      "Annual volatility: 8.2%\n",
      "Sharpe Ratio: 0.53\n",
      "(0.04904999425367671, 0.08238860381856984, 0.5346612542516243)\n",
      "****** 0.03510241653697602 ******\n",
      "OrderedDict([('VOO', 0.2437731877472482), ('BND', 0.2560665354318394), ('VXUS', 0.2437889576191664), ('BNDX', 0.2563713192017458)])\n",
      "Expected annual return: 4.9%\n",
      "Annual volatility: 8.2%\n",
      "Sharpe Ratio: 0.53\n",
      "(0.04904999425367671, 0.08238860381856984, 0.5346612542516243)\n",
      "****** 0.040102416536976014 ******\n",
      "OrderedDict([('VOO', 0.2437731877472482), ('BND', 0.2560665354318394), ('VXUS', 0.2437889576191664), ('BNDX', 0.2563713192017458)])\n",
      "Expected annual return: 4.9%\n",
      "Annual volatility: 8.2%\n",
      "Sharpe Ratio: 0.53\n",
      "(0.04904999425367671, 0.08238860381856984, 0.5346612542516243)\n",
      "****** 0.04510241653697601 ******\n",
      "OrderedDict([('VOO', 0.2437731877472482), ('BND', 0.2560665354318394), ('VXUS', 0.2437889576191664), ('BNDX', 0.2563713192017458)])\n",
      "Expected annual return: 4.9%\n",
      "Annual volatility: 8.2%\n",
      "Sharpe Ratio: 0.53\n",
      "(0.04904999425367671, 0.08238860381856984, 0.5346612542516243)\n",
      "****** 0.050102416536976016 ******\n",
      "OrderedDict([('VOO', 0.2510702040505028), ('BND', 0.2488087294523512), ('VXUS', 0.2503033536821559), ('BNDX', 0.24981771281499)])\n",
      "Expected annual return: 5.0%\n",
      "Annual volatility: 8.4%\n",
      "Sharpe Ratio: 0.53\n",
      "(0.050102416536976, 0.08447773011660178, 0.5338971167279548)\n",
      "****** 0.05510241653697602 ******\n",
      "OrderedDict([('VOO', 0.2857379245038308), ('BND', 0.2143272950763352), ('VXUS', 0.2812528887041969), ('BNDX', 0.2186818917156371)])\n",
      "Expected annual return: 5.5%\n",
      "Annual volatility: 9.5%\n",
      "Sharpe Ratio: 0.53\n",
      "(0.05510241653697601, 0.09452944761817414, 0.5300191400604711)\n",
      "****** 0.06010241653697602 ******\n",
      "OrderedDict([('VOO', 0.3204056449571589), ('BND', 0.1798458607003192), ('VXUS', 0.3122024237262377), ('BNDX', 0.1875460706162842)])\n",
      "Expected annual return: 6.0%\n",
      "Annual volatility: 10.5%\n",
      "Sharpe Ratio: 0.53\n",
      "(0.06010241653697599, 0.10474552661058702, 0.5260598549647904)\n",
      "****** 0.06510241653697602 ******\n",
      "OrderedDict([('VOO', 0.355073365410487), ('BND', 0.1453644263243031), ('VXUS', 0.3431519587482786), ('BNDX', 0.1564102495169312)])\n",
      "Expected annual return: 6.5%\n",
      "Annual volatility: 11.5%\n",
      "Sharpe Ratio: 0.52\n",
      "(0.065102416536976, 0.11508220331332554, 0.522256394182337)\n",
      "****** 0.07010241653697602 ******\n",
      "OrderedDict([('VOO', 0.3897410858638151), ('BND', 0.1108829919482871), ('VXUS', 0.3741014937703195), ('BNDX', 0.1252744284175782)])\n",
      "Expected annual return: 7.0%\n",
      "Annual volatility: 12.6%\n",
      "Sharpe Ratio: 0.52\n",
      "(0.07010241653697599, 0.12550968484765768, 0.5187043264111181)\n",
      "****** 0.07510241653697602 ******\n",
      "OrderedDict([('VOO', 0.4244088063171434), ('BND', 0.076401557572271), ('VXUS', 0.4050510287923603), ('BNDX', 0.0941386073182252)])\n",
      "Expected annual return: 7.5%\n",
      "Annual volatility: 13.6%\n",
      "Sharpe Ratio: 0.52\n",
      "(0.07510241653697601, 0.13600708716186613, 0.5154320851938032)\n",
      "****** 0.08010241653697601 ******\n",
      "OrderedDict([('VOO', 0.4590765267704712), ('BND', 0.0419201231962551), ('VXUS', 0.4360005638144012), ('BNDX', 0.0630027862188723)])\n",
      "Expected annual return: 8.0%\n",
      "Annual volatility: 14.7%\n",
      "Sharpe Ratio: 0.51\n",
      "(0.080102416536976, 0.14655938667496146, 0.5124367550987211)\n",
      "****** 0.08510241653697602 ******\n",
      "OrderedDict([('VOO', 0.4937442472237994), ('BND', 0.007438688820239), ('VXUS', 0.4669500988364422), ('BNDX', 0.0318669651195194)])\n",
      "Expected annual return: 8.5%\n",
      "Annual volatility: 15.7%\n",
      "Sharpe Ratio: 0.51\n",
      "(0.085102416536976, 0.15715552546256417, 0.5097015602932593)\n"
     ]
    }
   ],
   "source": [
    "min_ret = max(0, min(expected_returns))\n",
    "max_ret = min(0.25, max(expected_returns))\n",
    "rets_seq = list(np.arange(min_ret, max_ret, 0.005))\n",
    "for r in rets_seq:\n",
    "    print(\"****** {0} ******\".format(r))\n",
    "    _ef_bl = efficient_frontier.EfficientFrontier(expected_returns, cov_matrix)\n",
    "    _ef_bl.add_objective(objective_functions.L2_reg, gamma=1.0)\n",
    "    _w = _ef_bl.efficient_return(r)\n",
    "    print(_w)\n",
    "    _perf = _ef_bl.portfolio_performance(verbose=True, risk_free_rate=0.005)\n",
    "    print(_perf)"
   ]
  },
  {
   "cell_type": "code",
   "execution_count": null,
   "id": "8081dfe0-b496-451c-bae5-5c81530eb9f5",
   "metadata": {},
   "outputs": [],
   "source": []
  },
  {
   "cell_type": "code",
   "execution_count": null,
   "id": "f75de4ae-fb70-42aa-9805-adc1fcff0ed2",
   "metadata": {},
   "outputs": [],
   "source": []
  }
 ],
 "metadata": {
  "kernelspec": {
   "display_name": "Python 3 (ipykernel)",
   "language": "python",
   "name": "python3"
  },
  "language_info": {
   "codemirror_mode": {
    "name": "ipython",
    "version": 3
   },
   "file_extension": ".py",
   "mimetype": "text/x-python",
   "name": "python",
   "nbconvert_exporter": "python",
   "pygments_lexer": "ipython3",
   "version": "3.10.1"
  }
 },
 "nbformat": 4,
 "nbformat_minor": 5
}
