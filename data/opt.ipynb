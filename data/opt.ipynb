{
 "cells": [
  {
   "cell_type": "code",
   "execution_count": 80,
   "id": "82349ce8-1b79-4d6d-984d-4bba5ba28cdd",
   "metadata": {},
   "outputs": [],
   "source": [
    "import pandas as pd\n",
    "import pandas_datareader as web\n",
    "import datetime"
   ]
  },
  {
   "cell_type": "code",
   "execution_count": 81,
   "id": "feef723e-c981-4a52-bd18-7e6339124939",
   "metadata": {},
   "outputs": [],
   "source": [
    "voo = web.DataReader(name='VOO', \n",
    "    data_source='yahoo', \n",
    "    start='2011-01-01',\n",
    "    end='2022-03-31'\n",
    "                     #    end=datetime.date.today()\n",
    ")"
   ]
  },
  {
   "cell_type": "code",
   "execution_count": 82,
   "id": "b8b229ff-26b4-476a-ab43-bac6caeb185e",
   "metadata": {
    "tags": []
   },
   "outputs": [
    {
     "data": {
      "text/html": [
       "<div>\n",
       "<style scoped>\n",
       "    .dataframe tbody tr th:only-of-type {\n",
       "        vertical-align: middle;\n",
       "    }\n",
       "\n",
       "    .dataframe tbody tr th {\n",
       "        vertical-align: top;\n",
       "    }\n",
       "\n",
       "    .dataframe thead th {\n",
       "        text-align: right;\n",
       "    }\n",
       "</style>\n",
       "<table border=\"1\" class=\"dataframe\">\n",
       "  <thead>\n",
       "    <tr style=\"text-align: right;\">\n",
       "      <th></th>\n",
       "      <th>High</th>\n",
       "      <th>Low</th>\n",
       "      <th>Open</th>\n",
       "      <th>Close</th>\n",
       "      <th>Volume</th>\n",
       "      <th>Adj Close</th>\n",
       "    </tr>\n",
       "    <tr>\n",
       "      <th>Date</th>\n",
       "      <th></th>\n",
       "      <th></th>\n",
       "      <th></th>\n",
       "      <th></th>\n",
       "      <th></th>\n",
       "      <th></th>\n",
       "    </tr>\n",
       "  </thead>\n",
       "  <tbody>\n",
       "    <tr>\n",
       "      <th>2010-12-31</th>\n",
       "      <td>115.139999</td>\n",
       "      <td>114.680000</td>\n",
       "      <td>114.860001</td>\n",
       "      <td>115.139999</td>\n",
       "      <td>145750.0</td>\n",
       "      <td>93.061203</td>\n",
       "    </tr>\n",
       "    <tr>\n",
       "      <th>2011-01-03</th>\n",
       "      <td>116.660004</td>\n",
       "      <td>115.900002</td>\n",
       "      <td>115.940002</td>\n",
       "      <td>116.220001</td>\n",
       "      <td>119200.0</td>\n",
       "      <td>93.934082</td>\n",
       "    </tr>\n",
       "    <tr>\n",
       "      <th>2011-01-04</th>\n",
       "      <td>116.559998</td>\n",
       "      <td>115.500000</td>\n",
       "      <td>116.559998</td>\n",
       "      <td>116.120003</td>\n",
       "      <td>108350.0</td>\n",
       "      <td>93.853317</td>\n",
       "    </tr>\n",
       "    <tr>\n",
       "      <th>2011-01-05</th>\n",
       "      <td>116.800003</td>\n",
       "      <td>115.720001</td>\n",
       "      <td>115.860001</td>\n",
       "      <td>116.739998</td>\n",
       "      <td>717750.0</td>\n",
       "      <td>94.354393</td>\n",
       "    </tr>\n",
       "    <tr>\n",
       "      <th>2011-01-06</th>\n",
       "      <td>116.919998</td>\n",
       "      <td>116.220001</td>\n",
       "      <td>116.839996</td>\n",
       "      <td>116.540001</td>\n",
       "      <td>72450.0</td>\n",
       "      <td>94.192757</td>\n",
       "    </tr>\n",
       "    <tr>\n",
       "      <th>...</th>\n",
       "      <td>...</td>\n",
       "      <td>...</td>\n",
       "      <td>...</td>\n",
       "      <td>...</td>\n",
       "      <td>...</td>\n",
       "      <td>...</td>\n",
       "    </tr>\n",
       "    <tr>\n",
       "      <th>2022-03-25</th>\n",
       "      <td>416.359985</td>\n",
       "      <td>412.209991</td>\n",
       "      <td>414.790009</td>\n",
       "      <td>416.119995</td>\n",
       "      <td>3638000.0</td>\n",
       "      <td>416.119995</td>\n",
       "    </tr>\n",
       "    <tr>\n",
       "      <th>2022-03-28</th>\n",
       "      <td>419.049988</td>\n",
       "      <td>413.690002</td>\n",
       "      <td>415.500000</td>\n",
       "      <td>418.989990</td>\n",
       "      <td>3395300.0</td>\n",
       "      <td>418.989990</td>\n",
       "    </tr>\n",
       "    <tr>\n",
       "      <th>2022-03-29</th>\n",
       "      <td>424.720001</td>\n",
       "      <td>420.250000</td>\n",
       "      <td>422.959991</td>\n",
       "      <td>424.290009</td>\n",
       "      <td>5510600.0</td>\n",
       "      <td>424.290009</td>\n",
       "    </tr>\n",
       "    <tr>\n",
       "      <th>2022-03-30</th>\n",
       "      <td>424.010010</td>\n",
       "      <td>419.589996</td>\n",
       "      <td>423.260010</td>\n",
       "      <td>421.649994</td>\n",
       "      <td>4794300.0</td>\n",
       "      <td>421.649994</td>\n",
       "    </tr>\n",
       "    <tr>\n",
       "      <th>2022-03-31</th>\n",
       "      <td>421.670013</td>\n",
       "      <td>415.049988</td>\n",
       "      <td>420.970001</td>\n",
       "      <td>415.170013</td>\n",
       "      <td>5876600.0</td>\n",
       "      <td>415.170013</td>\n",
       "    </tr>\n",
       "  </tbody>\n",
       "</table>\n",
       "<p>2832 rows × 6 columns</p>\n",
       "</div>"
      ],
      "text/plain": [
       "                  High         Low        Open       Close     Volume  \\\n",
       "Date                                                                    \n",
       "2010-12-31  115.139999  114.680000  114.860001  115.139999   145750.0   \n",
       "2011-01-03  116.660004  115.900002  115.940002  116.220001   119200.0   \n",
       "2011-01-04  116.559998  115.500000  116.559998  116.120003   108350.0   \n",
       "2011-01-05  116.800003  115.720001  115.860001  116.739998   717750.0   \n",
       "2011-01-06  116.919998  116.220001  116.839996  116.540001    72450.0   \n",
       "...                ...         ...         ...         ...        ...   \n",
       "2022-03-25  416.359985  412.209991  414.790009  416.119995  3638000.0   \n",
       "2022-03-28  419.049988  413.690002  415.500000  418.989990  3395300.0   \n",
       "2022-03-29  424.720001  420.250000  422.959991  424.290009  5510600.0   \n",
       "2022-03-30  424.010010  419.589996  423.260010  421.649994  4794300.0   \n",
       "2022-03-31  421.670013  415.049988  420.970001  415.170013  5876600.0   \n",
       "\n",
       "             Adj Close  \n",
       "Date                    \n",
       "2010-12-31   93.061203  \n",
       "2011-01-03   93.934082  \n",
       "2011-01-04   93.853317  \n",
       "2011-01-05   94.354393  \n",
       "2011-01-06   94.192757  \n",
       "...                ...  \n",
       "2022-03-25  416.119995  \n",
       "2022-03-28  418.989990  \n",
       "2022-03-29  424.290009  \n",
       "2022-03-30  421.649994  \n",
       "2022-03-31  415.170013  \n",
       "\n",
       "[2832 rows x 6 columns]"
      ]
     },
     "execution_count": 82,
     "metadata": {},
     "output_type": "execute_result"
    }
   ],
   "source": [
    "voo"
   ]
  },
  {
   "cell_type": "code",
   "execution_count": 83,
   "id": "7f13ca68-1d6b-4e89-9dec-2876b8e82389",
   "metadata": {},
   "outputs": [],
   "source": [
    "bnd = web.DataReader(name='BND', \n",
    "    data_source='yahoo', \n",
    "    start='2011-01-01',\n",
    "    end='2022-03-31'\n",
    ")"
   ]
  },
  {
   "cell_type": "code",
   "execution_count": 84,
   "id": "5aebd362-1388-4382-afc8-3db1ce5588ae",
   "metadata": {
    "tags": []
   },
   "outputs": [
    {
     "data": {
      "text/html": [
       "<div>\n",
       "<style scoped>\n",
       "    .dataframe tbody tr th:only-of-type {\n",
       "        vertical-align: middle;\n",
       "    }\n",
       "\n",
       "    .dataframe tbody tr th {\n",
       "        vertical-align: top;\n",
       "    }\n",
       "\n",
       "    .dataframe thead th {\n",
       "        text-align: right;\n",
       "    }\n",
       "</style>\n",
       "<table border=\"1\" class=\"dataframe\">\n",
       "  <thead>\n",
       "    <tr style=\"text-align: right;\">\n",
       "      <th></th>\n",
       "      <th>High</th>\n",
       "      <th>Low</th>\n",
       "      <th>Open</th>\n",
       "      <th>Close</th>\n",
       "      <th>Volume</th>\n",
       "      <th>Adj Close</th>\n",
       "    </tr>\n",
       "    <tr>\n",
       "      <th>Date</th>\n",
       "      <th></th>\n",
       "      <th></th>\n",
       "      <th></th>\n",
       "      <th></th>\n",
       "      <th></th>\n",
       "      <th></th>\n",
       "    </tr>\n",
       "  </thead>\n",
       "  <tbody>\n",
       "    <tr>\n",
       "      <th>2010-12-31</th>\n",
       "      <td>80.309998</td>\n",
       "      <td>80.000000</td>\n",
       "      <td>80.000000</td>\n",
       "      <td>80.269997</td>\n",
       "      <td>534500.0</td>\n",
       "      <td>59.287876</td>\n",
       "    </tr>\n",
       "    <tr>\n",
       "      <th>2011-01-03</th>\n",
       "      <td>80.230003</td>\n",
       "      <td>79.959999</td>\n",
       "      <td>80.029999</td>\n",
       "      <td>80.169998</td>\n",
       "      <td>936500.0</td>\n",
       "      <td>59.214062</td>\n",
       "    </tr>\n",
       "    <tr>\n",
       "      <th>2011-01-04</th>\n",
       "      <td>80.330002</td>\n",
       "      <td>80.080002</td>\n",
       "      <td>80.220001</td>\n",
       "      <td>80.180000</td>\n",
       "      <td>1784100.0</td>\n",
       "      <td>59.221416</td>\n",
       "    </tr>\n",
       "    <tr>\n",
       "      <th>2011-01-05</th>\n",
       "      <td>79.980003</td>\n",
       "      <td>79.680000</td>\n",
       "      <td>79.930000</td>\n",
       "      <td>79.830002</td>\n",
       "      <td>837300.0</td>\n",
       "      <td>58.962902</td>\n",
       "    </tr>\n",
       "    <tr>\n",
       "      <th>2011-01-06</th>\n",
       "      <td>79.959999</td>\n",
       "      <td>79.769997</td>\n",
       "      <td>79.900002</td>\n",
       "      <td>79.900002</td>\n",
       "      <td>591000.0</td>\n",
       "      <td>59.014603</td>\n",
       "    </tr>\n",
       "    <tr>\n",
       "      <th>...</th>\n",
       "      <td>...</td>\n",
       "      <td>...</td>\n",
       "      <td>...</td>\n",
       "      <td>...</td>\n",
       "      <td>...</td>\n",
       "      <td>...</td>\n",
       "    </tr>\n",
       "    <tr>\n",
       "      <th>2022-03-25</th>\n",
       "      <td>79.099998</td>\n",
       "      <td>78.610001</td>\n",
       "      <td>79.099998</td>\n",
       "      <td>78.720001</td>\n",
       "      <td>21372500.0</td>\n",
       "      <td>78.524040</td>\n",
       "    </tr>\n",
       "    <tr>\n",
       "      <th>2022-03-28</th>\n",
       "      <td>79.040001</td>\n",
       "      <td>78.760002</td>\n",
       "      <td>78.809998</td>\n",
       "      <td>78.949997</td>\n",
       "      <td>7494000.0</td>\n",
       "      <td>78.753464</td>\n",
       "    </tr>\n",
       "    <tr>\n",
       "      <th>2022-03-29</th>\n",
       "      <td>79.330002</td>\n",
       "      <td>78.989998</td>\n",
       "      <td>79.080002</td>\n",
       "      <td>79.300003</td>\n",
       "      <td>7308100.0</td>\n",
       "      <td>79.102600</td>\n",
       "    </tr>\n",
       "    <tr>\n",
       "      <th>2022-03-30</th>\n",
       "      <td>79.510002</td>\n",
       "      <td>79.080002</td>\n",
       "      <td>79.089996</td>\n",
       "      <td>79.480003</td>\n",
       "      <td>7071800.0</td>\n",
       "      <td>79.282150</td>\n",
       "    </tr>\n",
       "    <tr>\n",
       "      <th>2022-03-31</th>\n",
       "      <td>79.669998</td>\n",
       "      <td>79.440002</td>\n",
       "      <td>79.519997</td>\n",
       "      <td>79.540001</td>\n",
       "      <td>8244200.0</td>\n",
       "      <td>79.342003</td>\n",
       "    </tr>\n",
       "  </tbody>\n",
       "</table>\n",
       "<p>2832 rows × 6 columns</p>\n",
       "</div>"
      ],
      "text/plain": [
       "                 High        Low       Open      Close      Volume  Adj Close\n",
       "Date                                                                         \n",
       "2010-12-31  80.309998  80.000000  80.000000  80.269997    534500.0  59.287876\n",
       "2011-01-03  80.230003  79.959999  80.029999  80.169998    936500.0  59.214062\n",
       "2011-01-04  80.330002  80.080002  80.220001  80.180000   1784100.0  59.221416\n",
       "2011-01-05  79.980003  79.680000  79.930000  79.830002    837300.0  58.962902\n",
       "2011-01-06  79.959999  79.769997  79.900002  79.900002    591000.0  59.014603\n",
       "...               ...        ...        ...        ...         ...        ...\n",
       "2022-03-25  79.099998  78.610001  79.099998  78.720001  21372500.0  78.524040\n",
       "2022-03-28  79.040001  78.760002  78.809998  78.949997   7494000.0  78.753464\n",
       "2022-03-29  79.330002  78.989998  79.080002  79.300003   7308100.0  79.102600\n",
       "2022-03-30  79.510002  79.080002  79.089996  79.480003   7071800.0  79.282150\n",
       "2022-03-31  79.669998  79.440002  79.519997  79.540001   8244200.0  79.342003\n",
       "\n",
       "[2832 rows x 6 columns]"
      ]
     },
     "execution_count": 84,
     "metadata": {},
     "output_type": "execute_result"
    }
   ],
   "source": [
    "bnd"
   ]
  },
  {
   "cell_type": "code",
   "execution_count": 85,
   "id": "73e870f5-6a94-4add-b300-22a1c8f90e56",
   "metadata": {},
   "outputs": [],
   "source": [
    "vxus = web.DataReader(name='VXUS', \n",
    "    data_source='yahoo', \n",
    "    start='2011-01-01',\n",
    "    end='2022-03-31'\n",
    ")"
   ]
  },
  {
   "cell_type": "code",
   "execution_count": 86,
   "id": "f45a8b7e-ad22-4363-aa65-d153ad3fa80a",
   "metadata": {
    "tags": []
   },
   "outputs": [
    {
     "data": {
      "text/html": [
       "<div>\n",
       "<style scoped>\n",
       "    .dataframe tbody tr th:only-of-type {\n",
       "        vertical-align: middle;\n",
       "    }\n",
       "\n",
       "    .dataframe tbody tr th {\n",
       "        vertical-align: top;\n",
       "    }\n",
       "\n",
       "    .dataframe thead th {\n",
       "        text-align: right;\n",
       "    }\n",
       "</style>\n",
       "<table border=\"1\" class=\"dataframe\">\n",
       "  <thead>\n",
       "    <tr style=\"text-align: right;\">\n",
       "      <th></th>\n",
       "      <th>High</th>\n",
       "      <th>Low</th>\n",
       "      <th>Open</th>\n",
       "      <th>Close</th>\n",
       "      <th>Volume</th>\n",
       "      <th>Adj Close</th>\n",
       "    </tr>\n",
       "    <tr>\n",
       "      <th>Date</th>\n",
       "      <th></th>\n",
       "      <th></th>\n",
       "      <th></th>\n",
       "      <th></th>\n",
       "      <th></th>\n",
       "      <th></th>\n",
       "    </tr>\n",
       "  </thead>\n",
       "  <tbody>\n",
       "    <tr>\n",
       "      <th>2011-01-28</th>\n",
       "      <td>53.830002</td>\n",
       "      <td>49.259998</td>\n",
       "      <td>50.070000</td>\n",
       "      <td>49.330002</td>\n",
       "      <td>40800.0</td>\n",
       "      <td>35.632523</td>\n",
       "    </tr>\n",
       "    <tr>\n",
       "      <th>2011-01-31</th>\n",
       "      <td>50.000000</td>\n",
       "      <td>49.630001</td>\n",
       "      <td>49.750000</td>\n",
       "      <td>49.880001</td>\n",
       "      <td>46200.0</td>\n",
       "      <td>36.029793</td>\n",
       "    </tr>\n",
       "    <tr>\n",
       "      <th>2011-02-01</th>\n",
       "      <td>50.950001</td>\n",
       "      <td>50.150002</td>\n",
       "      <td>50.619999</td>\n",
       "      <td>50.950001</td>\n",
       "      <td>26300.0</td>\n",
       "      <td>36.802689</td>\n",
       "    </tr>\n",
       "    <tr>\n",
       "      <th>2011-02-02</th>\n",
       "      <td>51.000000</td>\n",
       "      <td>50.540001</td>\n",
       "      <td>51.000000</td>\n",
       "      <td>50.689999</td>\n",
       "      <td>47700.0</td>\n",
       "      <td>36.614891</td>\n",
       "    </tr>\n",
       "    <tr>\n",
       "      <th>2011-02-03</th>\n",
       "      <td>50.990002</td>\n",
       "      <td>50.360001</td>\n",
       "      <td>50.990002</td>\n",
       "      <td>50.779999</td>\n",
       "      <td>51100.0</td>\n",
       "      <td>36.679890</td>\n",
       "    </tr>\n",
       "    <tr>\n",
       "      <th>...</th>\n",
       "      <td>...</td>\n",
       "      <td>...</td>\n",
       "      <td>...</td>\n",
       "      <td>...</td>\n",
       "      <td>...</td>\n",
       "      <td>...</td>\n",
       "    </tr>\n",
       "    <tr>\n",
       "      <th>2022-03-25</th>\n",
       "      <td>59.889999</td>\n",
       "      <td>59.450001</td>\n",
       "      <td>59.740002</td>\n",
       "      <td>59.860001</td>\n",
       "      <td>2918500.0</td>\n",
       "      <td>59.860001</td>\n",
       "    </tr>\n",
       "    <tr>\n",
       "      <th>2022-03-28</th>\n",
       "      <td>59.779999</td>\n",
       "      <td>59.290001</td>\n",
       "      <td>59.570000</td>\n",
       "      <td>59.750000</td>\n",
       "      <td>3416000.0</td>\n",
       "      <td>59.750000</td>\n",
       "    </tr>\n",
       "    <tr>\n",
       "      <th>2022-03-29</th>\n",
       "      <td>61.020000</td>\n",
       "      <td>60.439999</td>\n",
       "      <td>60.919998</td>\n",
       "      <td>60.919998</td>\n",
       "      <td>5072200.0</td>\n",
       "      <td>60.919998</td>\n",
       "    </tr>\n",
       "    <tr>\n",
       "      <th>2022-03-30</th>\n",
       "      <td>60.959999</td>\n",
       "      <td>60.459999</td>\n",
       "      <td>60.759998</td>\n",
       "      <td>60.709999</td>\n",
       "      <td>3080200.0</td>\n",
       "      <td>60.709999</td>\n",
       "    </tr>\n",
       "    <tr>\n",
       "      <th>2022-03-31</th>\n",
       "      <td>60.470001</td>\n",
       "      <td>59.709999</td>\n",
       "      <td>60.290001</td>\n",
       "      <td>59.740002</td>\n",
       "      <td>3909300.0</td>\n",
       "      <td>59.740002</td>\n",
       "    </tr>\n",
       "  </tbody>\n",
       "</table>\n",
       "<p>2813 rows × 6 columns</p>\n",
       "</div>"
      ],
      "text/plain": [
       "                 High        Low       Open      Close     Volume  Adj Close\n",
       "Date                                                                        \n",
       "2011-01-28  53.830002  49.259998  50.070000  49.330002    40800.0  35.632523\n",
       "2011-01-31  50.000000  49.630001  49.750000  49.880001    46200.0  36.029793\n",
       "2011-02-01  50.950001  50.150002  50.619999  50.950001    26300.0  36.802689\n",
       "2011-02-02  51.000000  50.540001  51.000000  50.689999    47700.0  36.614891\n",
       "2011-02-03  50.990002  50.360001  50.990002  50.779999    51100.0  36.679890\n",
       "...               ...        ...        ...        ...        ...        ...\n",
       "2022-03-25  59.889999  59.450001  59.740002  59.860001  2918500.0  59.860001\n",
       "2022-03-28  59.779999  59.290001  59.570000  59.750000  3416000.0  59.750000\n",
       "2022-03-29  61.020000  60.439999  60.919998  60.919998  5072200.0  60.919998\n",
       "2022-03-30  60.959999  60.459999  60.759998  60.709999  3080200.0  60.709999\n",
       "2022-03-31  60.470001  59.709999  60.290001  59.740002  3909300.0  59.740002\n",
       "\n",
       "[2813 rows x 6 columns]"
      ]
     },
     "execution_count": 86,
     "metadata": {},
     "output_type": "execute_result"
    }
   ],
   "source": [
    "vxus"
   ]
  },
  {
   "cell_type": "code",
   "execution_count": 87,
   "id": "43aa88c6-8660-4993-ac3d-5934fdd5b882",
   "metadata": {},
   "outputs": [],
   "source": [
    "bndx = web.DataReader(name='BNDX', \n",
    "    data_source='yahoo', \n",
    "    start='2011-01-01',\n",
    "    end='2022-03-31'\n",
    ")"
   ]
  },
  {
   "cell_type": "code",
   "execution_count": 88,
   "id": "dcd05807-4eb6-43a3-be9b-ca2b7154c6be",
   "metadata": {
    "tags": []
   },
   "outputs": [
    {
     "data": {
      "text/html": [
       "<div>\n",
       "<style scoped>\n",
       "    .dataframe tbody tr th:only-of-type {\n",
       "        vertical-align: middle;\n",
       "    }\n",
       "\n",
       "    .dataframe tbody tr th {\n",
       "        vertical-align: top;\n",
       "    }\n",
       "\n",
       "    .dataframe thead th {\n",
       "        text-align: right;\n",
       "    }\n",
       "</style>\n",
       "<table border=\"1\" class=\"dataframe\">\n",
       "  <thead>\n",
       "    <tr style=\"text-align: right;\">\n",
       "      <th></th>\n",
       "      <th>High</th>\n",
       "      <th>Low</th>\n",
       "      <th>Open</th>\n",
       "      <th>Close</th>\n",
       "      <th>Volume</th>\n",
       "      <th>Adj Close</th>\n",
       "    </tr>\n",
       "    <tr>\n",
       "      <th>Date</th>\n",
       "      <th></th>\n",
       "      <th></th>\n",
       "      <th></th>\n",
       "      <th></th>\n",
       "      <th></th>\n",
       "      <th></th>\n",
       "    </tr>\n",
       "  </thead>\n",
       "  <tbody>\n",
       "    <tr>\n",
       "      <th>2013-06-04</th>\n",
       "      <td>50.599998</td>\n",
       "      <td>50.240002</td>\n",
       "      <td>50.599998</td>\n",
       "      <td>50.299999</td>\n",
       "      <td>44300.0</td>\n",
       "      <td>41.378811</td>\n",
       "    </tr>\n",
       "    <tr>\n",
       "      <th>2013-06-05</th>\n",
       "      <td>50.400002</td>\n",
       "      <td>50.299999</td>\n",
       "      <td>50.400002</td>\n",
       "      <td>50.360001</td>\n",
       "      <td>62500.0</td>\n",
       "      <td>41.428169</td>\n",
       "    </tr>\n",
       "    <tr>\n",
       "      <th>2013-06-06</th>\n",
       "      <td>50.349998</td>\n",
       "      <td>50.270000</td>\n",
       "      <td>50.340000</td>\n",
       "      <td>50.290001</td>\n",
       "      <td>106800.0</td>\n",
       "      <td>41.370567</td>\n",
       "    </tr>\n",
       "    <tr>\n",
       "      <th>2013-06-07</th>\n",
       "      <td>50.330002</td>\n",
       "      <td>50.189999</td>\n",
       "      <td>50.330002</td>\n",
       "      <td>50.189999</td>\n",
       "      <td>70800.0</td>\n",
       "      <td>41.288319</td>\n",
       "    </tr>\n",
       "    <tr>\n",
       "      <th>2013-06-10</th>\n",
       "      <td>50.259998</td>\n",
       "      <td>49.799999</td>\n",
       "      <td>50.259998</td>\n",
       "      <td>49.830002</td>\n",
       "      <td>128800.0</td>\n",
       "      <td>40.992165</td>\n",
       "    </tr>\n",
       "    <tr>\n",
       "      <th>...</th>\n",
       "      <td>...</td>\n",
       "      <td>...</td>\n",
       "      <td>...</td>\n",
       "      <td>...</td>\n",
       "      <td>...</td>\n",
       "      <td>...</td>\n",
       "    </tr>\n",
       "    <tr>\n",
       "      <th>2022-03-25</th>\n",
       "      <td>52.360001</td>\n",
       "      <td>52.200001</td>\n",
       "      <td>52.340000</td>\n",
       "      <td>52.230000</td>\n",
       "      <td>2123100.0</td>\n",
       "      <td>52.192154</td>\n",
       "    </tr>\n",
       "    <tr>\n",
       "      <th>2022-03-28</th>\n",
       "      <td>52.240002</td>\n",
       "      <td>52.139999</td>\n",
       "      <td>52.160000</td>\n",
       "      <td>52.200001</td>\n",
       "      <td>3030500.0</td>\n",
       "      <td>52.162174</td>\n",
       "    </tr>\n",
       "    <tr>\n",
       "      <th>2022-03-29</th>\n",
       "      <td>52.160000</td>\n",
       "      <td>52.009998</td>\n",
       "      <td>52.020000</td>\n",
       "      <td>52.119999</td>\n",
       "      <td>2638300.0</td>\n",
       "      <td>52.082233</td>\n",
       "    </tr>\n",
       "    <tr>\n",
       "      <th>2022-03-30</th>\n",
       "      <td>52.130001</td>\n",
       "      <td>51.950001</td>\n",
       "      <td>51.970001</td>\n",
       "      <td>52.099998</td>\n",
       "      <td>2419800.0</td>\n",
       "      <td>52.062244</td>\n",
       "    </tr>\n",
       "    <tr>\n",
       "      <th>2022-03-31</th>\n",
       "      <td>52.480000</td>\n",
       "      <td>52.320000</td>\n",
       "      <td>52.349998</td>\n",
       "      <td>52.439999</td>\n",
       "      <td>2485300.0</td>\n",
       "      <td>52.402000</td>\n",
       "    </tr>\n",
       "  </tbody>\n",
       "</table>\n",
       "<p>2224 rows × 6 columns</p>\n",
       "</div>"
      ],
      "text/plain": [
       "                 High        Low       Open      Close     Volume  Adj Close\n",
       "Date                                                                        \n",
       "2013-06-04  50.599998  50.240002  50.599998  50.299999    44300.0  41.378811\n",
       "2013-06-05  50.400002  50.299999  50.400002  50.360001    62500.0  41.428169\n",
       "2013-06-06  50.349998  50.270000  50.340000  50.290001   106800.0  41.370567\n",
       "2013-06-07  50.330002  50.189999  50.330002  50.189999    70800.0  41.288319\n",
       "2013-06-10  50.259998  49.799999  50.259998  49.830002   128800.0  40.992165\n",
       "...               ...        ...        ...        ...        ...        ...\n",
       "2022-03-25  52.360001  52.200001  52.340000  52.230000  2123100.0  52.192154\n",
       "2022-03-28  52.240002  52.139999  52.160000  52.200001  3030500.0  52.162174\n",
       "2022-03-29  52.160000  52.009998  52.020000  52.119999  2638300.0  52.082233\n",
       "2022-03-30  52.130001  51.950001  51.970001  52.099998  2419800.0  52.062244\n",
       "2022-03-31  52.480000  52.320000  52.349998  52.439999  2485300.0  52.402000\n",
       "\n",
       "[2224 rows x 6 columns]"
      ]
     },
     "execution_count": 88,
     "metadata": {},
     "output_type": "execute_result"
    }
   ],
   "source": [
    "bndx"
   ]
  },
  {
   "cell_type": "code",
   "execution_count": 89,
   "id": "12235663-1434-40c9-ba3d-4916a3de7777",
   "metadata": {},
   "outputs": [],
   "source": [
    "prices = pd.DataFrame()"
   ]
  },
  {
   "cell_type": "code",
   "execution_count": 90,
   "id": "a73b65ab-b0e4-4b8b-99f8-4ed4c9e58ec1",
   "metadata": {},
   "outputs": [
    {
     "name": "stdout",
     "output_type": "stream",
     "text": [
      "                   VOO        BND       VXUS       BNDX\n",
      "Date                                                   \n",
      "2010-12-31   93.061203  59.287876        NaN        NaN\n",
      "2011-01-03   93.934082  59.214062        NaN        NaN\n",
      "2011-01-04   93.853317  59.221416        NaN        NaN\n",
      "2011-01-05   94.354393  58.962902        NaN        NaN\n",
      "2011-01-06   94.192757  59.014603        NaN        NaN\n",
      "...                ...        ...        ...        ...\n",
      "2022-03-25  416.119995  78.524040  59.860001  52.192154\n",
      "2022-03-28  418.989990  78.753464  59.750000  52.162174\n",
      "2022-03-29  424.290009  79.102600  60.919998  52.082233\n",
      "2022-03-30  421.649994  79.282150  60.709999  52.062244\n",
      "2022-03-31  415.170013  79.342003  59.740002  52.402000\n",
      "\n",
      "[2832 rows x 4 columns]\n"
     ]
    },
    {
     "data": {
      "text/html": [
       "<div>\n",
       "<style scoped>\n",
       "    .dataframe tbody tr th:only-of-type {\n",
       "        vertical-align: middle;\n",
       "    }\n",
       "\n",
       "    .dataframe tbody tr th {\n",
       "        vertical-align: top;\n",
       "    }\n",
       "\n",
       "    .dataframe thead th {\n",
       "        text-align: right;\n",
       "    }\n",
       "</style>\n",
       "<table border=\"1\" class=\"dataframe\">\n",
       "  <thead>\n",
       "    <tr style=\"text-align: right;\">\n",
       "      <th></th>\n",
       "      <th>VOO</th>\n",
       "      <th>BND</th>\n",
       "      <th>VXUS</th>\n",
       "      <th>BNDX</th>\n",
       "    </tr>\n",
       "    <tr>\n",
       "      <th>Date</th>\n",
       "      <th></th>\n",
       "      <th></th>\n",
       "      <th></th>\n",
       "      <th></th>\n",
       "    </tr>\n",
       "  </thead>\n",
       "  <tbody>\n",
       "    <tr>\n",
       "      <th>2013-06-04</th>\n",
       "      <td>127.144318</td>\n",
       "      <td>65.123199</td>\n",
       "      <td>37.218594</td>\n",
       "      <td>41.378811</td>\n",
       "    </tr>\n",
       "    <tr>\n",
       "      <th>2013-06-05</th>\n",
       "      <td>125.194786</td>\n",
       "      <td>65.099403</td>\n",
       "      <td>36.540745</td>\n",
       "      <td>41.428169</td>\n",
       "    </tr>\n",
       "    <tr>\n",
       "      <th>2013-06-06</th>\n",
       "      <td>126.178032</td>\n",
       "      <td>65.186653</td>\n",
       "      <td>36.764133</td>\n",
       "      <td>41.370567</td>\n",
       "    </tr>\n",
       "    <tr>\n",
       "      <th>2013-06-07</th>\n",
       "      <td>127.941124</td>\n",
       "      <td>65.020157</td>\n",
       "      <td>36.987507</td>\n",
       "      <td>41.288319</td>\n",
       "    </tr>\n",
       "    <tr>\n",
       "      <th>2013-06-10</th>\n",
       "      <td>127.890251</td>\n",
       "      <td>64.853653</td>\n",
       "      <td>36.956688</td>\n",
       "      <td>40.992165</td>\n",
       "    </tr>\n",
       "    <tr>\n",
       "      <th>...</th>\n",
       "      <td>...</td>\n",
       "      <td>...</td>\n",
       "      <td>...</td>\n",
       "      <td>...</td>\n",
       "    </tr>\n",
       "    <tr>\n",
       "      <th>2022-03-25</th>\n",
       "      <td>416.119995</td>\n",
       "      <td>78.524040</td>\n",
       "      <td>59.860001</td>\n",
       "      <td>52.192154</td>\n",
       "    </tr>\n",
       "    <tr>\n",
       "      <th>2022-03-28</th>\n",
       "      <td>418.989990</td>\n",
       "      <td>78.753464</td>\n",
       "      <td>59.750000</td>\n",
       "      <td>52.162174</td>\n",
       "    </tr>\n",
       "    <tr>\n",
       "      <th>2022-03-29</th>\n",
       "      <td>424.290009</td>\n",
       "      <td>79.102600</td>\n",
       "      <td>60.919998</td>\n",
       "      <td>52.082233</td>\n",
       "    </tr>\n",
       "    <tr>\n",
       "      <th>2022-03-30</th>\n",
       "      <td>421.649994</td>\n",
       "      <td>79.282150</td>\n",
       "      <td>60.709999</td>\n",
       "      <td>52.062244</td>\n",
       "    </tr>\n",
       "    <tr>\n",
       "      <th>2022-03-31</th>\n",
       "      <td>415.170013</td>\n",
       "      <td>79.342003</td>\n",
       "      <td>59.740002</td>\n",
       "      <td>52.402000</td>\n",
       "    </tr>\n",
       "  </tbody>\n",
       "</table>\n",
       "<p>2224 rows × 4 columns</p>\n",
       "</div>"
      ],
      "text/plain": [
       "                   VOO        BND       VXUS       BNDX\n",
       "Date                                                   \n",
       "2013-06-04  127.144318  65.123199  37.218594  41.378811\n",
       "2013-06-05  125.194786  65.099403  36.540745  41.428169\n",
       "2013-06-06  126.178032  65.186653  36.764133  41.370567\n",
       "2013-06-07  127.941124  65.020157  36.987507  41.288319\n",
       "2013-06-10  127.890251  64.853653  36.956688  40.992165\n",
       "...                ...        ...        ...        ...\n",
       "2022-03-25  416.119995  78.524040  59.860001  52.192154\n",
       "2022-03-28  418.989990  78.753464  59.750000  52.162174\n",
       "2022-03-29  424.290009  79.102600  60.919998  52.082233\n",
       "2022-03-30  421.649994  79.282150  60.709999  52.062244\n",
       "2022-03-31  415.170013  79.342003  59.740002  52.402000\n",
       "\n",
       "[2224 rows x 4 columns]"
      ]
     },
     "execution_count": 90,
     "metadata": {},
     "output_type": "execute_result"
    }
   ],
   "source": [
    "prices['VOO'] = voo['Adj Close']\n",
    "prices['BND'] = bnd['Adj Close']\n",
    "prices['VXUS'] = vxus['Adj Close']\n",
    "prices['BNDX'] = bndx['Adj Close']\n",
    "print(prices)\n",
    "prices = prices.fillna(value=None, method=\"ffill\", axis=0, inplace=False).dropna(axis=0, how='any', inplace=False)\n",
    "prices"
   ]
  },
  {
   "cell_type": "code",
   "execution_count": 91,
   "id": "10703863-61a0-4ea6-9ec8-b83eca74f10f",
   "metadata": {},
   "outputs": [
    {
     "data": {
      "text/plain": [
       "Date\n",
       "2007-11-30    1291.856\n",
       "2007-12-31    1275.956\n",
       "2008-01-31    1170.327\n",
       "2008-02-29    1173.998\n",
       "2008-03-31    1152.170\n",
       "                ...   \n",
       "2021-01-29    2094.703\n",
       "2021-02-26    2149.293\n",
       "2021-03-31    2200.156\n",
       "2021-04-30    2292.451\n",
       "2021-05-31    2322.886\n",
       "Name: ACWI + FRONTIER MARKETS(ACWI FM) ALL CAP All Cap (Large+Mid+Small+Micro Cap), Length: 163, dtype: float64"
      ]
     },
     "execution_count": 91,
     "metadata": {},
     "output_type": "execute_result"
    }
   ],
   "source": [
    "msci = pd.read_csv(\"./data/msci.csv\", sep=\",\", header=0, index_col=\"Date\", skipinitialspace=True, skip_blank_lines=True, parse_dates=True, infer_datetime_format=True, thousands=\",\")\n",
    "msci.iloc[:, 0]"
   ]
  },
  {
   "cell_type": "code",
   "execution_count": 92,
   "id": "a5f3bbda-8f74-47d9-b9c6-101365f554c6",
   "metadata": {},
   "outputs": [],
   "source": [
    "from pypfopt import expected_returns\n",
    "from pypfopt import risk_models\n",
    "from pypfopt import efficient_frontier"
   ]
  },
  {
   "cell_type": "code",
   "execution_count": 93,
   "id": "eb9bff0d-a3d7-4332-8031-3def9fc79a65",
   "metadata": {},
   "outputs": [
    {
     "data": {
      "text/plain": [
       "VOO     0.143561\n",
       "BND     0.022640\n",
       "VXUS    0.055106\n",
       "BNDX    0.027135\n",
       "dtype: float64"
      ]
     },
     "execution_count": 93,
     "metadata": {},
     "output_type": "execute_result"
    }
   ],
   "source": [
    "mhr = expected_returns.mean_historical_return(prices, frequency=252)\n",
    "mhr"
   ]
  },
  {
   "cell_type": "code",
   "execution_count": 94,
   "id": "28279bf9-09b4-4c1e-bb7e-1a70d10a0723",
   "metadata": {},
   "outputs": [
    {
     "data": {
      "text/plain": [
       "VOO     0.189130\n",
       "BND     0.003403\n",
       "VXUS    0.077201\n",
       "BNDX    0.001666\n",
       "Name: 2022-03-31 00:00:00, dtype: float64"
      ]
     },
     "execution_count": 94,
     "metadata": {},
     "output_type": "execute_result"
    }
   ],
   "source": [
    "ehr = expected_returns.ema_historical_return(prices, frequency=252, span=252*5)\n",
    "ehr"
   ]
  },
  {
   "cell_type": "code",
   "execution_count": 95,
   "id": "bc90f36c-6e35-46f2-860a-d9d3cbe66339",
   "metadata": {},
   "outputs": [
    {
     "data": {
      "text/plain": [
       "1.9792027252663047e-05"
      ]
     },
     "execution_count": 95,
     "metadata": {},
     "output_type": "execute_result"
    }
   ],
   "source": [
    "risk_free_rate=1.005**((1/252)) - 1\n",
    "risk_free_rate"
   ]
  },
  {
   "cell_type": "code",
   "execution_count": 96,
   "id": "7e966d3a-ffb9-4177-8415-cc5da7c236b4",
   "metadata": {},
   "outputs": [
    {
     "data": {
      "text/plain": [
       "VOO     0.124031\n",
       "BND     0.008009\n",
       "VXUS    0.124334\n",
       "BNDX    0.005064\n",
       "Name: mkt, dtype: float64"
      ]
     },
     "execution_count": 96,
     "metadata": {},
     "output_type": "execute_result"
    }
   ],
   "source": [
    "capmr = expected_returns.capm_return(prices, market_prices=None, returns_data=False, risk_free_rate=risk_free_rate, compounding=True, frequency=252, log_returns=False)\n",
    "capmr"
   ]
  },
  {
   "cell_type": "code",
   "execution_count": 97,
   "id": "0c1ddefa-e769-4680-90b6-3f6c036bced9",
   "metadata": {},
   "outputs": [
    {
     "data": {
      "text/html": [
       "<div>\n",
       "<style scoped>\n",
       "    .dataframe tbody tr th:only-of-type {\n",
       "        vertical-align: middle;\n",
       "    }\n",
       "\n",
       "    .dataframe tbody tr th {\n",
       "        vertical-align: top;\n",
       "    }\n",
       "\n",
       "    .dataframe thead th {\n",
       "        text-align: right;\n",
       "    }\n",
       "</style>\n",
       "<table border=\"1\" class=\"dataframe\">\n",
       "  <thead>\n",
       "    <tr style=\"text-align: right;\">\n",
       "      <th></th>\n",
       "      <th>VOO</th>\n",
       "      <th>BND</th>\n",
       "      <th>VXUS</th>\n",
       "      <th>BNDX</th>\n",
       "    </tr>\n",
       "  </thead>\n",
       "  <tbody>\n",
       "    <tr>\n",
       "      <th>VOO</th>\n",
       "      <td>0.029053</td>\n",
       "      <td>0.000150</td>\n",
       "      <td>0.025215</td>\n",
       "      <td>0.000132</td>\n",
       "    </tr>\n",
       "    <tr>\n",
       "      <th>BND</th>\n",
       "      <td>0.000150</td>\n",
       "      <td>0.002025</td>\n",
       "      <td>0.000417</td>\n",
       "      <td>0.000922</td>\n",
       "    </tr>\n",
       "    <tr>\n",
       "      <th>VXUS</th>\n",
       "      <td>0.025215</td>\n",
       "      <td>0.000417</td>\n",
       "      <td>0.028934</td>\n",
       "      <td>0.000118</td>\n",
       "    </tr>\n",
       "    <tr>\n",
       "      <th>BNDX</th>\n",
       "      <td>0.000132</td>\n",
       "      <td>0.000922</td>\n",
       "      <td>0.000118</td>\n",
       "      <td>0.001046</td>\n",
       "    </tr>\n",
       "  </tbody>\n",
       "</table>\n",
       "</div>"
      ],
      "text/plain": [
       "           VOO       BND      VXUS      BNDX\n",
       "VOO   0.029053  0.000150  0.025215  0.000132\n",
       "BND   0.000150  0.002025  0.000417  0.000922\n",
       "VXUS  0.025215  0.000417  0.028934  0.000118\n",
       "BNDX  0.000132  0.000922  0.000118  0.001046"
      ]
     },
     "execution_count": 97,
     "metadata": {},
     "output_type": "execute_result"
    }
   ],
   "source": [
    "sample_cov = risk_models.risk_matrix(prices, method='sample_cov')\n",
    "sample_cov"
   ]
  },
  {
   "cell_type": "code",
   "execution_count": 98,
   "id": "be323999-fed6-4e10-8b87-6007dbb50646",
   "metadata": {},
   "outputs": [
    {
     "data": {
      "text/html": [
       "<div>\n",
       "<style scoped>\n",
       "    .dataframe tbody tr th:only-of-type {\n",
       "        vertical-align: middle;\n",
       "    }\n",
       "\n",
       "    .dataframe tbody tr th {\n",
       "        vertical-align: top;\n",
       "    }\n",
       "\n",
       "    .dataframe thead th {\n",
       "        text-align: right;\n",
       "    }\n",
       "</style>\n",
       "<table border=\"1\" class=\"dataframe\">\n",
       "  <thead>\n",
       "    <tr style=\"text-align: right;\">\n",
       "      <th></th>\n",
       "      <th>VOO</th>\n",
       "      <th>BND</th>\n",
       "      <th>VXUS</th>\n",
       "      <th>BNDX</th>\n",
       "    </tr>\n",
       "  </thead>\n",
       "  <tbody>\n",
       "    <tr>\n",
       "      <th>VOO</th>\n",
       "      <td>0.014977</td>\n",
       "      <td>0.001422</td>\n",
       "      <td>0.013815</td>\n",
       "      <td>0.001005</td>\n",
       "    </tr>\n",
       "    <tr>\n",
       "      <th>BND</th>\n",
       "      <td>0.001422</td>\n",
       "      <td>0.001118</td>\n",
       "      <td>0.001621</td>\n",
       "      <td>0.000597</td>\n",
       "    </tr>\n",
       "    <tr>\n",
       "      <th>VXUS</th>\n",
       "      <td>0.013815</td>\n",
       "      <td>0.001621</td>\n",
       "      <td>0.016048</td>\n",
       "      <td>0.001085</td>\n",
       "    </tr>\n",
       "    <tr>\n",
       "      <th>BNDX</th>\n",
       "      <td>0.001005</td>\n",
       "      <td>0.000597</td>\n",
       "      <td>0.001085</td>\n",
       "      <td>0.000575</td>\n",
       "    </tr>\n",
       "  </tbody>\n",
       "</table>\n",
       "</div>"
      ],
      "text/plain": [
       "           VOO       BND      VXUS      BNDX\n",
       "VOO   0.014977  0.001422  0.013815  0.001005\n",
       "BND   0.001422  0.001118  0.001621  0.000597\n",
       "VXUS  0.013815  0.001621  0.016048  0.001085\n",
       "BNDX  0.001005  0.000597  0.001085  0.000575"
      ]
     },
     "execution_count": 98,
     "metadata": {},
     "output_type": "execute_result"
    }
   ],
   "source": [
    "semicovariance = risk_models.risk_matrix(prices, method='semicovariance', benchmark=risk_free_rate, frequency=252, log_returns=False)\n",
    "semicovariance"
   ]
  },
  {
   "cell_type": "code",
   "execution_count": 99,
   "id": "a9e9fae4-f583-4197-ad09-ec7fa2427baf",
   "metadata": {},
   "outputs": [
    {
     "data": {
      "text/html": [
       "<div>\n",
       "<style scoped>\n",
       "    .dataframe tbody tr th:only-of-type {\n",
       "        vertical-align: middle;\n",
       "    }\n",
       "\n",
       "    .dataframe tbody tr th {\n",
       "        vertical-align: top;\n",
       "    }\n",
       "\n",
       "    .dataframe thead th {\n",
       "        text-align: right;\n",
       "    }\n",
       "</style>\n",
       "<table border=\"1\" class=\"dataframe\">\n",
       "  <thead>\n",
       "    <tr style=\"text-align: right;\">\n",
       "      <th></th>\n",
       "      <th>VOO</th>\n",
       "      <th>BND</th>\n",
       "      <th>VXUS</th>\n",
       "      <th>BNDX</th>\n",
       "    </tr>\n",
       "  </thead>\n",
       "  <tbody>\n",
       "    <tr>\n",
       "      <th>VOO</th>\n",
       "      <td>0.038679</td>\n",
       "      <td>0.000841</td>\n",
       "      <td>0.032131</td>\n",
       "      <td>0.000439</td>\n",
       "    </tr>\n",
       "    <tr>\n",
       "      <th>BND</th>\n",
       "      <td>0.000841</td>\n",
       "      <td>0.002840</td>\n",
       "      <td>0.000921</td>\n",
       "      <td>0.001330</td>\n",
       "    </tr>\n",
       "    <tr>\n",
       "      <th>VXUS</th>\n",
       "      <td>0.032131</td>\n",
       "      <td>0.000921</td>\n",
       "      <td>0.034853</td>\n",
       "      <td>0.000315</td>\n",
       "    </tr>\n",
       "    <tr>\n",
       "      <th>BNDX</th>\n",
       "      <td>0.000439</td>\n",
       "      <td>0.001330</td>\n",
       "      <td>0.000315</td>\n",
       "      <td>0.001357</td>\n",
       "    </tr>\n",
       "  </tbody>\n",
       "</table>\n",
       "</div>"
      ],
      "text/plain": [
       "           VOO       BND      VXUS      BNDX\n",
       "VOO   0.038679  0.000841  0.032131  0.000439\n",
       "BND   0.000841  0.002840  0.000921  0.001330\n",
       "VXUS  0.032131  0.000921  0.034853  0.000315\n",
       "BNDX  0.000439  0.001330  0.000315  0.001357"
      ]
     },
     "execution_count": 99,
     "metadata": {},
     "output_type": "execute_result"
    }
   ],
   "source": [
    "exp_cov = risk_models.risk_matrix(prices, method='exp_cov', span=252*5, frequency=252)\n",
    "exp_cov"
   ]
  },
  {
   "cell_type": "code",
   "execution_count": 100,
   "id": "e6bed6a6-e213-4561-88b2-f0c2b5eab815",
   "metadata": {},
   "outputs": [
    {
     "data": {
      "text/html": [
       "<div>\n",
       "<style scoped>\n",
       "    .dataframe tbody tr th:only-of-type {\n",
       "        vertical-align: middle;\n",
       "    }\n",
       "\n",
       "    .dataframe tbody tr th {\n",
       "        vertical-align: top;\n",
       "    }\n",
       "\n",
       "    .dataframe thead th {\n",
       "        text-align: right;\n",
       "    }\n",
       "</style>\n",
       "<table border=\"1\" class=\"dataframe\">\n",
       "  <thead>\n",
       "    <tr style=\"text-align: right;\">\n",
       "      <th></th>\n",
       "      <th>VOO</th>\n",
       "      <th>BND</th>\n",
       "      <th>VXUS</th>\n",
       "      <th>BNDX</th>\n",
       "    </tr>\n",
       "  </thead>\n",
       "  <tbody>\n",
       "    <tr>\n",
       "      <th>VOO</th>\n",
       "      <td>0.029053</td>\n",
       "      <td>0.000188</td>\n",
       "      <td>0.024874</td>\n",
       "      <td>0.000159</td>\n",
       "    </tr>\n",
       "    <tr>\n",
       "      <th>BND</th>\n",
       "      <td>0.000188</td>\n",
       "      <td>0.002025</td>\n",
       "      <td>0.000450</td>\n",
       "      <td>0.000912</td>\n",
       "    </tr>\n",
       "    <tr>\n",
       "      <th>VXUS</th>\n",
       "      <td>0.024874</td>\n",
       "      <td>0.000450</td>\n",
       "      <td>0.028934</td>\n",
       "      <td>0.000145</td>\n",
       "    </tr>\n",
       "    <tr>\n",
       "      <th>BNDX</th>\n",
       "      <td>0.000159</td>\n",
       "      <td>0.000912</td>\n",
       "      <td>0.000145</td>\n",
       "      <td>0.001046</td>\n",
       "    </tr>\n",
       "  </tbody>\n",
       "</table>\n",
       "</div>"
      ],
      "text/plain": [
       "           VOO       BND      VXUS      BNDX\n",
       "VOO   0.029053  0.000188  0.024874  0.000159\n",
       "BND   0.000188  0.002025  0.000450  0.000912\n",
       "VXUS  0.024874  0.000450  0.028934  0.000145\n",
       "BNDX  0.000159  0.000912  0.000145  0.001046"
      ]
     },
     "execution_count": 100,
     "metadata": {},
     "output_type": "execute_result"
    }
   ],
   "source": [
    "ledoiid_wolf_cc = risk_models.risk_matrix(prices, method='ledoit_wolf_constant_correlation', frequency=252)\n",
    "ledoiid_wolf_cc"
   ]
  },
  {
   "cell_type": "code",
   "execution_count": 101,
   "id": "9b4f4e8a-edf9-4bbe-a2d2-5849b91decb2",
   "metadata": {},
   "outputs": [
    {
     "data": {
      "text/html": [
       "<div>\n",
       "<style scoped>\n",
       "    .dataframe tbody tr th:only-of-type {\n",
       "        vertical-align: middle;\n",
       "    }\n",
       "\n",
       "    .dataframe tbody tr th {\n",
       "        vertical-align: top;\n",
       "    }\n",
       "\n",
       "    .dataframe thead th {\n",
       "        text-align: right;\n",
       "    }\n",
       "</style>\n",
       "<table border=\"1\" class=\"dataframe\">\n",
       "  <thead>\n",
       "    <tr style=\"text-align: right;\">\n",
       "      <th></th>\n",
       "      <th>VOO</th>\n",
       "      <th>BND</th>\n",
       "      <th>VXUS</th>\n",
       "      <th>BNDX</th>\n",
       "    </tr>\n",
       "  </thead>\n",
       "  <tbody>\n",
       "    <tr>\n",
       "      <th>VOO</th>\n",
       "      <td>0.029040</td>\n",
       "      <td>0.000150</td>\n",
       "      <td>0.025203</td>\n",
       "      <td>0.000132</td>\n",
       "    </tr>\n",
       "    <tr>\n",
       "      <th>BND</th>\n",
       "      <td>0.000150</td>\n",
       "      <td>0.002024</td>\n",
       "      <td>0.000417</td>\n",
       "      <td>0.000921</td>\n",
       "    </tr>\n",
       "    <tr>\n",
       "      <th>VXUS</th>\n",
       "      <td>0.025203</td>\n",
       "      <td>0.000417</td>\n",
       "      <td>0.028921</td>\n",
       "      <td>0.000118</td>\n",
       "    </tr>\n",
       "    <tr>\n",
       "      <th>BNDX</th>\n",
       "      <td>0.000132</td>\n",
       "      <td>0.000921</td>\n",
       "      <td>0.000118</td>\n",
       "      <td>0.001046</td>\n",
       "    </tr>\n",
       "  </tbody>\n",
       "</table>\n",
       "</div>"
      ],
      "text/plain": [
       "           VOO       BND      VXUS      BNDX\n",
       "VOO   0.029040  0.000150  0.025203  0.000132\n",
       "BND   0.000150  0.002024  0.000417  0.000921\n",
       "VXUS  0.025203  0.000417  0.028921  0.000118\n",
       "BNDX  0.000132  0.000921  0.000118  0.001046"
      ]
     },
     "execution_count": 101,
     "metadata": {},
     "output_type": "execute_result"
    }
   ],
   "source": [
    "ledoiid_wolf_sf = risk_models.risk_matrix(prices, method='ledoit_wolf_single_factor', frequency=252)\n",
    "ledoiid_wolf_sf"
   ]
  },
  {
   "cell_type": "code",
   "execution_count": 102,
   "id": "252147d5-ef6c-4d49-9062-643506592086",
   "metadata": {},
   "outputs": [
    {
     "data": {
      "text/html": [
       "<div>\n",
       "<style scoped>\n",
       "    .dataframe tbody tr th:only-of-type {\n",
       "        vertical-align: middle;\n",
       "    }\n",
       "\n",
       "    .dataframe tbody tr th {\n",
       "        vertical-align: top;\n",
       "    }\n",
       "\n",
       "    .dataframe thead th {\n",
       "        text-align: right;\n",
       "    }\n",
       "</style>\n",
       "<table border=\"1\" class=\"dataframe\">\n",
       "  <thead>\n",
       "    <tr style=\"text-align: right;\">\n",
       "      <th></th>\n",
       "      <th>VOO</th>\n",
       "      <th>BND</th>\n",
       "      <th>VXUS</th>\n",
       "      <th>BNDX</th>\n",
       "    </tr>\n",
       "  </thead>\n",
       "  <tbody>\n",
       "    <tr>\n",
       "      <th>VOO</th>\n",
       "      <td>0.028823</td>\n",
       "      <td>0.000148</td>\n",
       "      <td>0.024806</td>\n",
       "      <td>0.000130</td>\n",
       "    </tr>\n",
       "    <tr>\n",
       "      <th>BND</th>\n",
       "      <td>0.000148</td>\n",
       "      <td>0.002232</td>\n",
       "      <td>0.000410</td>\n",
       "      <td>0.000907</td>\n",
       "    </tr>\n",
       "    <tr>\n",
       "      <th>VXUS</th>\n",
       "      <td>0.024806</td>\n",
       "      <td>0.000410</td>\n",
       "      <td>0.028706</td>\n",
       "      <td>0.000116</td>\n",
       "    </tr>\n",
       "    <tr>\n",
       "      <th>BNDX</th>\n",
       "      <td>0.000130</td>\n",
       "      <td>0.000907</td>\n",
       "      <td>0.000116</td>\n",
       "      <td>0.001270</td>\n",
       "    </tr>\n",
       "  </tbody>\n",
       "</table>\n",
       "</div>"
      ],
      "text/plain": [
       "           VOO       BND      VXUS      BNDX\n",
       "VOO   0.028823  0.000148  0.024806  0.000130\n",
       "BND   0.000148  0.002232  0.000410  0.000907\n",
       "VXUS  0.024806  0.000410  0.028706  0.000116\n",
       "BNDX  0.000130  0.000907  0.000116  0.001270"
      ]
     },
     "execution_count": 102,
     "metadata": {},
     "output_type": "execute_result"
    }
   ],
   "source": [
    "ledoiid_wolf_cv = risk_models.risk_matrix(prices, method='ledoit_wolf_constant_variance', frequency=252)\n",
    "ledoiid_wolf_cv"
   ]
  },
  {
   "cell_type": "code",
   "execution_count": 103,
   "id": "233c5fd3-0f69-4162-8d5a-41658958891c",
   "metadata": {},
   "outputs": [
    {
     "data": {
      "text/html": [
       "<div>\n",
       "<style scoped>\n",
       "    .dataframe tbody tr th:only-of-type {\n",
       "        vertical-align: middle;\n",
       "    }\n",
       "\n",
       "    .dataframe tbody tr th {\n",
       "        vertical-align: top;\n",
       "    }\n",
       "\n",
       "    .dataframe thead th {\n",
       "        text-align: right;\n",
       "    }\n",
       "</style>\n",
       "<table border=\"1\" class=\"dataframe\">\n",
       "  <thead>\n",
       "    <tr style=\"text-align: right;\">\n",
       "      <th></th>\n",
       "      <th>VOO</th>\n",
       "      <th>BND</th>\n",
       "      <th>VXUS</th>\n",
       "      <th>BNDX</th>\n",
       "    </tr>\n",
       "  </thead>\n",
       "  <tbody>\n",
       "    <tr>\n",
       "      <th>VOO</th>\n",
       "      <td>0.029019</td>\n",
       "      <td>0.000150</td>\n",
       "      <td>0.025166</td>\n",
       "      <td>0.000132</td>\n",
       "    </tr>\n",
       "    <tr>\n",
       "      <th>BND</th>\n",
       "      <td>0.000150</td>\n",
       "      <td>0.002043</td>\n",
       "      <td>0.000416</td>\n",
       "      <td>0.000920</td>\n",
       "    </tr>\n",
       "    <tr>\n",
       "      <th>VXUS</th>\n",
       "      <td>0.025166</td>\n",
       "      <td>0.000416</td>\n",
       "      <td>0.028900</td>\n",
       "      <td>0.000118</td>\n",
       "    </tr>\n",
       "    <tr>\n",
       "      <th>BNDX</th>\n",
       "      <td>0.000132</td>\n",
       "      <td>0.000920</td>\n",
       "      <td>0.000118</td>\n",
       "      <td>0.001067</td>\n",
       "    </tr>\n",
       "  </tbody>\n",
       "</table>\n",
       "</div>"
      ],
      "text/plain": [
       "           VOO       BND      VXUS      BNDX\n",
       "VOO   0.029019  0.000150  0.025166  0.000132\n",
       "BND   0.000150  0.002043  0.000416  0.000920\n",
       "VXUS  0.025166  0.000416  0.028900  0.000118\n",
       "BNDX  0.000132  0.000920  0.000118  0.001067"
      ]
     },
     "execution_count": 103,
     "metadata": {},
     "output_type": "execute_result"
    }
   ],
   "source": [
    "oracle_approx = risk_models.risk_matrix(prices, method='oracle_approximating', frequency=252)\n",
    "oracle_approx"
   ]
  },
  {
   "cell_type": "code",
   "execution_count": 131,
   "id": "04fad3d3-fda7-4d42-ab48-5aa39fd48840",
   "metadata": {},
   "outputs": [
    {
     "data": {
      "text/plain": [
       "OrderedDict([('VOO', 0.9999913766493645),\n",
       "             ('BND', -2.7090046285e-06),\n",
       "             ('VXUS', 2.6985950509e-06),\n",
       "             ('BNDX', 8.6263164563e-06)])"
      ]
     },
     "execution_count": 131,
     "metadata": {},
     "output_type": "execute_result"
    }
   ],
   "source": [
    "from pypfopt import objective_functions\n",
    "\n",
    "expected_return = ehr\n",
    "cov_matrix = oracle_approx\n",
    "ef = efficient_frontier.EfficientFrontier(expected_return, cov_matrix)\n",
    "#ef.add_objective(objective_functions.L2_reg, gamma=1.0)\n",
    "ef.max_sharpe(risk_free_rate=0.005)"
   ]
  },
  {
   "cell_type": "code",
   "execution_count": 109,
   "id": "739308dd-bb39-4acf-a618-1b87bfa7a263",
   "metadata": {},
   "outputs": [
    {
     "name": "stdout",
     "output_type": "stream",
     "text": [
      "Expected annual return: 4.9%\n",
      "Annual volatility: 4.2%\n",
      "Sharpe Ratio: 1.05\n"
     ]
    },
    {
     "data": {
      "text/plain": [
       "(0.04870327588740849, 0.04161301813989581, 1.0502308614214328)"
      ]
     },
     "execution_count": 109,
     "metadata": {},
     "output_type": "execute_result"
    }
   ],
   "source": [
    "perf = ef.portfolio_performance(verbose=True, risk_free_rate=0.005)\n",
    "perf"
   ]
  },
  {
   "cell_type": "code",
   "execution_count": 110,
   "id": "8774d97c-9921-4e36-969a-283226699c01",
   "metadata": {},
   "outputs": [],
   "source": [
    "import matplotlib.pyplot as plt\n",
    "from pypfopt import plotting\n",
    "import numpy as np"
   ]
  },
  {
   "cell_type": "code",
   "execution_count": 111,
   "id": "74216d8b-789e-4e80-81ae-51ffbd8550c2",
   "metadata": {},
   "outputs": [
    {
     "name": "stdout",
     "output_type": "stream",
     "text": [
      "Expected annual return: 4.9%\n",
      "Annual volatility: 4.2%\n",
      "Sharpe Ratio: 1.05\n"
     ]
    },
    {
     "data": {
      "image/png": "[encoded data removed]",
      "text/plain": [
       "<Figure size 432x288 with 1 Axes>"
      ]
     },
     "metadata": {
      "needs_background": "light"
     },
     "output_type": "display_data"
    }
   ],
   "source": [
    "ef2 = efficient_frontier.EfficientFrontier(expected_return, cov_matrix)\n",
    "#ef2.add_objective(objective_functions.L2_reg, gamma=1.0)\n",
    "\n",
    "fig, ax = plt.subplots()\n",
    "plotting.plot_efficient_frontier(ef2, ax=ax, show_assets=True)\n",
    "\n",
    "# Generate random portfolios\n",
    "n_samples = 10000\n",
    "w = np.random.dirichlet(np.ones(len(expected_return)), n_samples)\n",
    "rets = w.dot(expected_return)\n",
    "stds = np.sqrt(np.diag(w @ cov_matrix @ w.T))\n",
    "sharpes = rets / stds\n",
    "ax.scatter(stds, rets, marker=\".\", c=sharpes, cmap=\"viridis_r\")\n",
    "\n",
    "ret_tangent, std_tangent, _ = ef.portfolio_performance(verbose=True, risk_free_rate=0.005)\n",
    "ax.scatter(std_tangent, ret_tangent, marker=\"*\", s=100, c=\"r\", label=\"Max Sharpe\")\n",
    "\n",
    "ax.set_title(\"Efficient Frontier with random portfolios\")\n",
    "ax.legend()\n",
    "plt.tight_layout()\n",
    "plt.savefig(\"ef_scatter.png\", dpi=200)\n",
    "plt.show()"
   ]
  },
  {
   "cell_type": "code",
   "execution_count": 112,
   "id": "d11ab8dd-e4d9-4b33-8a46-2289b00cabec",
   "metadata": {},
   "outputs": [],
   "source": [
    "stok_market_cap = 93686000000000\n",
    "stok_us_share = 0.559\n",
    "stok_us_cap = stok_market_cap * stok_us_share\n",
    "stok_exus_cap = stok_market_cap * (1.0 - stok_us_share)"
   ]
  },
  {
   "cell_type": "code",
   "execution_count": 113,
   "id": "6efa0aae-bdb8-4c9b-a887-ea71451f5c86",
   "metadata": {},
   "outputs": [],
   "source": [
    "bond_market_cap = 119000000000000\n",
    "#bond_us_share = 0.559\n",
    "bond_us_cap = 49000000000000\n",
    "bond_exus_cap = bond_market_cap - bond_us_cap"
   ]
  },
  {
   "cell_type": "code",
   "execution_count": 114,
   "id": "a94e20c5-57ac-46c3-9270-f2eef67b0040",
   "metadata": {},
   "outputs": [
    {
     "data": {
      "text/plain": [
       "{'VOO': 52370474000000.01,\n",
       " 'BND': 49000000000000,\n",
       " 'VXUS': 41315525999999.99,\n",
       " 'BNDX': 70000000000000}"
      ]
     },
     "execution_count": 114,
     "metadata": {},
     "output_type": "execute_result"
    }
   ],
   "source": [
    "mcaps = {\n",
    "    'VOO': stok_us_cap,\n",
    "    'BND': bond_us_cap,\n",
    "    'VXUS': stok_exus_cap,\n",
    "    'BNDX': bond_exus_cap,\n",
    "}\n",
    "mcaps"
   ]
  },
  {
   "cell_type": "code",
   "execution_count": 115,
   "id": "813cb014-6852-4b47-8a72-582f1654e7b3",
   "metadata": {},
   "outputs": [],
   "source": [
    "from pypfopt import black_litterman, risk_models\n",
    "from pypfopt import BlackLittermanModel, plotting"
   ]
  },
  {
   "cell_type": "code",
   "execution_count": 116,
   "id": "db4c36bc-c864-4938-9b4e-95f39189aa0f",
   "metadata": {},
   "outputs": [
    {
     "data": {
      "text/plain": [
       "1.9814510331904065"
      ]
     },
     "execution_count": 116,
     "metadata": {},
     "output_type": "execute_result"
    }
   ],
   "source": [
    "delta = black_litterman.market_implied_risk_aversion(msci.iloc[:, 0], frequency=12, risk_free_rate=1.005**((1/12)) - 1)\n",
    "delta"
   ]
  },
  {
   "cell_type": "code",
   "execution_count": 117,
   "id": "2293349d-55a0-4d33-8e6a-f4c74b2d7293",
   "metadata": {},
   "outputs": [
    {
     "data": {
      "text/plain": [
       "VOO     0.044035\n",
       "BND     0.021759\n",
       "VXUS    0.043706\n",
       "BNDX    0.021213\n",
       "dtype: float64"
      ]
     },
     "execution_count": 117,
     "metadata": {},
     "output_type": "execute_result"
    }
   ],
   "source": [
    "prior = black_litterman.market_implied_prior_returns(mcaps, delta, cov_matrix)\n",
    "prior"
   ]
  },
  {
   "cell_type": "code",
   "execution_count": 158,
   "id": "51fa88fb-1e1e-426c-81da-a8b765836277",
   "metadata": {},
   "outputs": [
    {
     "data": {
      "text/plain": [
       "{'VOO': 0.1, 'BND': 0.008, 'VXUS': 0.08, 'BNDX': 0.008}"
      ]
     },
     "execution_count": 158,
     "metadata": {},
     "output_type": "execute_result"
    }
   ],
   "source": [
    "viewdict = {\n",
    "    'VOO': 0.10,\n",
    "    'BND': 0.008,\n",
    "    'VXUS': 0.08,\n",
    "    'BNDX': 0.008,\n",
    "}\n",
    "#viewdict=dict(capmr)\n",
    "viewdict"
   ]
  },
  {
   "cell_type": "code",
   "execution_count": 163,
   "id": "15c65ed8-cb53-4dd4-849a-dc632258c5fe",
   "metadata": {},
   "outputs": [
    {
     "data": {
      "text/plain": [
       "[0.5, 0.8, 0.4, 0.7]"
      ]
     },
     "execution_count": 163,
     "metadata": {},
     "output_type": "execute_result"
    }
   ],
   "source": [
    "confidences = [\n",
    "    0.5,\n",
    "    0.8,\n",
    "    0.4,\n",
    "    0.7\n",
    "]\n",
    "confidences"
   ]
  },
  {
   "cell_type": "code",
   "execution_count": 164,
   "id": "27b64504-af47-4654-8720-e80cae7cb93a",
   "metadata": {},
   "outputs": [
    {
     "data": {
      "text/plain": [
       "VOO     0.074101\n",
       "BND     0.009514\n",
       "VXUS    0.070466\n",
       "BNDX    0.011189\n",
       "dtype: float64"
      ]
     },
     "execution_count": 164,
     "metadata": {},
     "output_type": "execute_result"
    }
   ],
   "source": [
    "from pypfopt.black_litterman import BlackLittermanModel\n",
    "\n",
    "bl = BlackLittermanModel(cov_matrix, pi=prior, absolute_views=viewdict, risk_aversion=delta, omega=\"idzorek\", view_confidences=confidences)\n",
    "posterior = bl.bl_returns()\n",
    "posterior"
   ]
  },
  {
   "cell_type": "code",
   "execution_count": 165,
   "id": "ec466127-08fd-4e05-adf4-331d2acc9a3c",
   "metadata": {},
   "outputs": [
    {
     "data": {
      "text/plain": [
       "OrderedDict([('VOO', 0.210800763151072),\n",
       "             ('BND', 0.0),\n",
       "             ('VXUS', 0.0979639494205718),\n",
       "             ('BNDX', 0.6912352874283563)])"
      ]
     },
     "execution_count": 165,
     "metadata": {},
     "output_type": "execute_result"
    }
   ],
   "source": [
    "expected_return = posterior\n",
    "cov_matrix = oracle_approx\n",
    "ef_bl = efficient_frontier.EfficientFrontier(expected_return, cov_matrix)\n",
    "#ef_bl.add_objective(objective_functions.L2_reg, gamma=1.0)\n",
    "ef_bl.max_sharpe(risk_free_rate=0.005)"
   ]
  },
  {
   "cell_type": "code",
   "execution_count": 166,
   "id": "ac1473ef-a7fb-4e84-80d4-3a5845f6a54a",
   "metadata": {},
   "outputs": [
    {
     "name": "stdout",
     "output_type": "stream",
     "text": [
      "Expected annual return: 3.0%\n",
      "Annual volatility: 5.6%\n",
      "Sharpe Ratio: 0.45\n"
     ]
    },
    {
     "data": {
      "text/plain": [
       "(0.030258237547600715, 0.05630774339988315, 0.44857484996731606)"
      ]
     },
     "execution_count": 166,
     "metadata": {},
     "output_type": "execute_result"
    }
   ],
   "source": [
    "perf = ef_bl.portfolio_performance(verbose=True, risk_free_rate=0.005)\n",
    "perf"
   ]
  },
  {
   "cell_type": "code",
   "execution_count": 167,
   "id": "fb281c46-22c9-4b6d-91b7-42941658bd16",
   "metadata": {},
   "outputs": [
    {
     "name": "stdout",
     "output_type": "stream",
     "text": [
      "Expected annual return: 3.0%\n",
      "Annual volatility: 5.6%\n",
      "Sharpe Ratio: 0.45\n"
     ]
    },
    {
     "data": {
      "image/png": "[encoded data removed]",
      "text/plain": [
       "<Figure size 432x288 with 1 Axes>"
      ]
     },
     "metadata": {
      "needs_background": "light"
     },
     "output_type": "display_data"
    }
   ],
   "source": [
    "ef2 = efficient_frontier.EfficientFrontier(expected_return, cov_matrix)\n",
    "#ef2.add_objective(objective_functions.L2_reg, gamma=1.0)\n",
    "\n",
    "fig, ax = plt.subplots()\n",
    "plotting.plot_efficient_frontier(ef2, ax=ax, show_assets=True)\n",
    "\n",
    "# Generate random portfolios\n",
    "n_samples = 10000\n",
    "w = np.random.dirichlet(np.ones(len(expected_return)), n_samples)\n",
    "rets = w.dot(expected_return)\n",
    "stds = np.sqrt(np.diag(w @ cov_matrix @ w.T))\n",
    "sharpes = rets / stds\n",
    "ax.scatter(stds, rets, marker=\".\", c=sharpes, cmap=\"viridis_r\")\n",
    "\n",
    "ret_tangent, std_tangent, _ = ef_bl.portfolio_performance(verbose=True, risk_free_rate=0.005)\n",
    "ax.scatter(std_tangent, ret_tangent, marker=\"*\", s=100, c=\"r\", label=\"Max Sharpe\")\n",
    "\n",
    "ax.set_title(\"Efficient Frontier with random portfolios\")\n",
    "ax.legend()\n",
    "plt.tight_layout()\n",
    "plt.savefig(\"ef_scatter.png\", dpi=200)\n",
    "plt.show()"
   ]
  },
  {
   "cell_type": "code",
   "execution_count": 168,
   "id": "10bb21b6-e5b0-4e36-a197-b603de1fec48",
   "metadata": {},
   "outputs": [
    {
     "name": "stdout",
     "output_type": "stream",
     "text": [
      "****** 0.009513525612849965 ******\n",
      "(0.013006438714519298, 0.031943223456007135, 0.2506459226178576)\n",
      "****** 0.014513525612849965 ******\n",
      "(0.014513525612849968, 0.0321972018136354, 0.2954767829799739)\n",
      "****** 0.019513525612849962 ******\n",
      "(0.01951352561284997, 0.0363875775982276, 0.39885935175736753)\n",
      "****** 0.024513525612849963 ******\n",
      "(0.024513525612849967, 0.04440548828244608, 0.4394395010078935)\n",
      "****** 0.029513525612849964 ******\n",
      "(0.029513525612849978, 0.054659792136493184, 0.44847454874391507)\n",
      "****** 0.03451352561284996 ******\n",
      "(0.03451352561284997, 0.06612462852248033, 0.44633181724138205)\n",
      "****** 0.03951352561284996 ******\n",
      "(0.039513525612849966, 0.0782698425454951, 0.4409556029551056)\n",
      "****** 0.04451352561284996 ******\n",
      "(0.04451352561284996, 0.09082289436582808, 0.43506129031400753)\n",
      "****** 0.04951352561284996 ******\n",
      "(0.04951352561284997, 0.10363568962430528, 0.42951926864401724)\n",
      "****** 0.05451352561284996 ******\n",
      "(0.05451352561284997, 0.11662264926185435, 0.42456183191034025)\n",
      "****** 0.059513525612849956 ******\n",
      "(0.05951352561284997, 0.12973147887783776, 0.42020276099822224)\n",
      "****** 0.06451352561284995 ******\n",
      "(0.06451352561284995, 0.14292865016097164, 0.41638625667998386)\n",
      "****** 0.06951352561284996 ******\n",
      "(0.06951352561284997, 0.156191771857141, 0.41304048763757234)\n",
      "0.029513525612849964:0.44847454874391507\n"
     ]
    }
   ],
   "source": [
    "min_ret = max(0, min(expected_return))\n",
    "max_ret = min(0.25, max(expected_return))\n",
    "rets_seq = list(np.arange(min_ret, max_ret, 0.005))\n",
    "\n",
    "weights = {}\n",
    "max_sr = -1\n",
    "max_r = 0.0\n",
    "for r in rets_seq:\n",
    "    print(\"****** {0} ******\".format(r))\n",
    "    _ef_bl = efficient_frontier.EfficientFrontier(expected_return, cov_matrix)\n",
    "    #_ef_bl.add_objective(objective_functions.L2_reg, gamma=1.0)\n",
    "    _w = _ef_bl.efficient_return(r)\n",
    "    _perf = _ef_bl.portfolio_performance(verbose=False, risk_free_rate=0.005)\n",
    "    print(_perf)\n",
    "    weights[r] = (_perf, _w)\n",
    "    \n",
    "    if _perf[2] >= max_sr:\n",
    "        max_sr = _perf[2]\n",
    "        max_r = r\n",
    "print(\"{0}:{1}\".format(max_r, max_sr))"
   ]
  },
  {
   "cell_type": "code",
   "execution_count": 169,
   "id": "8081dfe0-b496-451c-bae5-5c81530eb9f5",
   "metadata": {},
   "outputs": [
    {
     "data": {
      "text/plain": [
       "((0.029513525612849978, 0.054659792136493184, 0.44847454874391507),\n",
       " OrderedDict([('VOO', 0.20222126037915),\n",
       "              ('BND', 0.0),\n",
       "              ('VXUS', 0.0945063143861448),\n",
       "              ('BNDX', 0.7032724252347052)]))"
      ]
     },
     "execution_count": 169,
     "metadata": {},
     "output_type": "execute_result"
    }
   ],
   "source": [
    "weights[max_r]"
   ]
  },
  {
   "cell_type": "code",
   "execution_count": 170,
   "id": "ea3a4e46-1885-40bd-8e70-393a5ae1b1da",
   "metadata": {},
   "outputs": [
    {
     "data": {
      "text/plain": [
       "{0.009513525612849965: ((0.013006438714519298,\n",
       "   0.031943223456007135,\n",
       "   0.2506459226178576),\n",
       "  OrderedDict([('VOO', 0.0182215844942791),\n",
       "               ('BND', 0.1082294340185227),\n",
       "               ('VXUS', 0.0143752518707706),\n",
       "               ('BNDX', 0.8591737296164277)])),\n",
       " 0.014513525612849965: ((0.014513525612849968,\n",
       "   0.0321972018136354,\n",
       "   0.2954767829799739),\n",
       "  OrderedDict([('VOO', 0.034498221332725),\n",
       "               ('BND', 0.0891861847885574),\n",
       "               ('VXUS', 0.0219866119935299),\n",
       "               ('BNDX', 0.8543289818851877)])),\n",
       " 0.019513525612849962: ((0.01951352561284997,\n",
       "   0.0363875775982276,\n",
       "   0.39885935175736753),\n",
       "  OrderedDict([('VOO', 0.0884985475795883),\n",
       "               ('BND', 0.0260071827978353),\n",
       "               ('VXUS', 0.0472385073261416),\n",
       "               ('BNDX', 0.8382557622964347)])),\n",
       " 0.024513525612849963: ((0.024513525612849967,\n",
       "   0.04440548828244608,\n",
       "   0.4394395010078935),\n",
       "  OrderedDict([('VOO', 0.1446184318787977),\n",
       "               ('BND', 0.0),\n",
       "               ('VXUS', 0.0712917338679491),\n",
       "               ('BNDX', 0.7840898342532532)])),\n",
       " 0.029513525612849964: ((0.029513525612849978,\n",
       "   0.054659792136493184,\n",
       "   0.44847454874391507),\n",
       "  OrderedDict([('VOO', 0.20222126037915),\n",
       "               ('BND', 0.0),\n",
       "               ('VXUS', 0.0945063143861448),\n",
       "               ('BNDX', 0.7032724252347052)])),\n",
       " 0.03451352561284996: ((0.03451352561284997,\n",
       "   0.06612462852248033,\n",
       "   0.44633181724138205),\n",
       "  OrderedDict([('VOO', 0.2598240888795018),\n",
       "               ('BND', 0.0),\n",
       "               ('VXUS', 0.1177208949043408),\n",
       "               ('BNDX', 0.6224550162161574)])),\n",
       " 0.03951352561284996: ((0.039513525612849966,\n",
       "   0.0782698425454951,\n",
       "   0.4409556029551056),\n",
       "  OrderedDict([('VOO', 0.3174269173798542),\n",
       "               ('BND', 0.0),\n",
       "               ('VXUS', 0.1409354754225363),\n",
       "               ('BNDX', 0.5416376071976094)])),\n",
       " 0.04451352561284996: ((0.04451352561284996,\n",
       "   0.09082289436582808,\n",
       "   0.43506129031400753),\n",
       "  OrderedDict([('VOO', 0.3750297458802062),\n",
       "               ('BND', 0.0),\n",
       "               ('VXUS', 0.1641500559407321),\n",
       "               ('BNDX', 0.4608201981790616)])),\n",
       " 0.04951352561284996: ((0.04951352561284997,\n",
       "   0.10363568962430528,\n",
       "   0.42951926864401724),\n",
       "  OrderedDict([('VOO', 0.4326325743805578),\n",
       "               ('BND', 0.0),\n",
       "               ('VXUS', 0.1873646364589285),\n",
       "               ('BNDX', 0.3800027891605136)])),\n",
       " 0.05451352561284996: ((0.05451352561284997,\n",
       "   0.11662264926185435,\n",
       "   0.42456183191034025),\n",
       "  OrderedDict([('VOO', 0.4902354028809098),\n",
       "               ('BND', 0.0),\n",
       "               ('VXUS', 0.2105792169771243),\n",
       "               ('BNDX', 0.299185380141966)])),\n",
       " 0.059513525612849956: ((0.05951352561284997,\n",
       "   0.12973147887783776,\n",
       "   0.42020276099822224),\n",
       "  OrderedDict([('VOO', 0.5478382313812626),\n",
       "               ('BND', 0.0),\n",
       "               ('VXUS', 0.2337937974953193),\n",
       "               ('BNDX', 0.218367971123418)])),\n",
       " 0.06451352561284995: ((0.06451352561284995,\n",
       "   0.14292865016097164,\n",
       "   0.41638625667998386),\n",
       "  OrderedDict([('VOO', 0.6054410598816142),\n",
       "               ('BND', 0.0),\n",
       "               ('VXUS', 0.2570083780135156),\n",
       "               ('BNDX', 0.1375505621048702)])),\n",
       " 0.06951352561284996: ((0.06951352561284997,\n",
       "   0.156191771857141,\n",
       "   0.41304048763757234),\n",
       "  OrderedDict([('VOO', 0.663043888381966),\n",
       "               ('BND', 0.0),\n",
       "               ('VXUS', 0.2802229585317118),\n",
       "               ('BNDX', 0.0567331530863222)]))}"
      ]
     },
     "execution_count": 170,
     "metadata": {},
     "output_type": "execute_result"
    }
   ],
   "source": [
    "weights"
   ]
  },
  {
   "cell_type": "code",
   "execution_count": null,
   "id": "20918189-a3c2-4b3e-8188-051f6ae75528",
   "metadata": {},
   "outputs": [],
   "source": []
  }
 ],
 "metadata": {
  "kernelspec": {
   "display_name": "Python 3 (ipykernel)",
   "language": "python",
   "name": "python3"
  },
  "language_info": {
   "codemirror_mode": {
    "name": "ipython",
    "version": 3
   },
   "file_extension": ".py",
   "mimetype": "text/x-python",
   "name": "python",
   "nbconvert_exporter": "python",
   "pygments_lexer": "ipython3",
   "version": "3.10.1"
  }
 },
 "nbformat": 4,
 "nbformat_minor": 5
}
