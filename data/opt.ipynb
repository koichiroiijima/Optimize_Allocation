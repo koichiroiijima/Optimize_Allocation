{
 "cells": [
  {
   "cell_type": "code",
   "execution_count": 165,
   "id": "82349ce8-1b79-4d6d-984d-4bba5ba28cdd",
   "metadata": {},
   "outputs": [],
   "source": [
    "import pandas as pd\n",
    "import pandas_datareader as web\n",
    "import datetime"
   ]
  },
  {
   "cell_type": "code",
   "execution_count": 166,
   "id": "feef723e-c981-4a52-bd18-7e6339124939",
   "metadata": {},
   "outputs": [],
   "source": [
    "voo = web.DataReader(name='VOO', \n",
    "    data_source='yahoo', \n",
    "    start='2011-01-01',\n",
    "    end=datetime.date.today()\n",
    ")"
   ]
  },
  {
   "cell_type": "code",
   "execution_count": 167,
   "id": "b8b229ff-26b4-476a-ab43-bac6caeb185e",
   "metadata": {
    "tags": []
   },
   "outputs": [
    {
     "data": {
      "text/html": [
       "<div>\n",
       "<style scoped>\n",
       "    .dataframe tbody tr th:only-of-type {\n",
       "        vertical-align: middle;\n",
       "    }\n",
       "\n",
       "    .dataframe tbody tr th {\n",
       "        vertical-align: top;\n",
       "    }\n",
       "\n",
       "    .dataframe thead th {\n",
       "        text-align: right;\n",
       "    }\n",
       "</style>\n",
       "<table border=\"1\" class=\"dataframe\">\n",
       "  <thead>\n",
       "    <tr style=\"text-align: right;\">\n",
       "      <th></th>\n",
       "      <th>High</th>\n",
       "      <th>Low</th>\n",
       "      <th>Open</th>\n",
       "      <th>Close</th>\n",
       "      <th>Volume</th>\n",
       "      <th>Adj Close</th>\n",
       "    </tr>\n",
       "    <tr>\n",
       "      <th>Date</th>\n",
       "      <th></th>\n",
       "      <th></th>\n",
       "      <th></th>\n",
       "      <th></th>\n",
       "      <th></th>\n",
       "      <th></th>\n",
       "    </tr>\n",
       "  </thead>\n",
       "  <tbody>\n",
       "    <tr>\n",
       "      <th>2010-12-31</th>\n",
       "      <td>115.139999</td>\n",
       "      <td>114.680000</td>\n",
       "      <td>114.860001</td>\n",
       "      <td>115.139999</td>\n",
       "      <td>145750.0</td>\n",
       "      <td>93.374626</td>\n",
       "    </tr>\n",
       "    <tr>\n",
       "      <th>2011-01-03</th>\n",
       "      <td>116.660004</td>\n",
       "      <td>115.900002</td>\n",
       "      <td>115.940002</td>\n",
       "      <td>116.220001</td>\n",
       "      <td>119200.0</td>\n",
       "      <td>94.250465</td>\n",
       "    </tr>\n",
       "    <tr>\n",
       "      <th>2011-01-04</th>\n",
       "      <td>116.559998</td>\n",
       "      <td>115.500000</td>\n",
       "      <td>116.559998</td>\n",
       "      <td>116.120003</td>\n",
       "      <td>108350.0</td>\n",
       "      <td>94.169380</td>\n",
       "    </tr>\n",
       "    <tr>\n",
       "      <th>2011-01-05</th>\n",
       "      <td>116.800003</td>\n",
       "      <td>115.720001</td>\n",
       "      <td>115.860001</td>\n",
       "      <td>116.739998</td>\n",
       "      <td>717750.0</td>\n",
       "      <td>94.672173</td>\n",
       "    </tr>\n",
       "    <tr>\n",
       "      <th>2011-01-06</th>\n",
       "      <td>116.919998</td>\n",
       "      <td>116.220001</td>\n",
       "      <td>116.839996</td>\n",
       "      <td>116.540001</td>\n",
       "      <td>72450.0</td>\n",
       "      <td>94.509987</td>\n",
       "    </tr>\n",
       "    <tr>\n",
       "      <th>...</th>\n",
       "      <td>...</td>\n",
       "      <td>...</td>\n",
       "      <td>...</td>\n",
       "      <td>...</td>\n",
       "      <td>...</td>\n",
       "      <td>...</td>\n",
       "    </tr>\n",
       "    <tr>\n",
       "      <th>2022-02-08</th>\n",
       "      <td>415.459991</td>\n",
       "      <td>409.350006</td>\n",
       "      <td>410.720001</td>\n",
       "      <td>414.489990</td>\n",
       "      <td>5565700.0</td>\n",
       "      <td>414.489990</td>\n",
       "    </tr>\n",
       "    <tr>\n",
       "      <th>2022-02-09</th>\n",
       "      <td>420.869995</td>\n",
       "      <td>418.350006</td>\n",
       "      <td>418.549988</td>\n",
       "      <td>420.570007</td>\n",
       "      <td>6284500.0</td>\n",
       "      <td>420.570007</td>\n",
       "    </tr>\n",
       "    <tr>\n",
       "      <th>2022-02-10</th>\n",
       "      <td>420.799988</td>\n",
       "      <td>411.140015</td>\n",
       "      <td>414.929993</td>\n",
       "      <td>413.179993</td>\n",
       "      <td>9260500.0</td>\n",
       "      <td>413.179993</td>\n",
       "    </tr>\n",
       "    <tr>\n",
       "      <th>2022-02-11</th>\n",
       "      <td>415.200012</td>\n",
       "      <td>403.570007</td>\n",
       "      <td>413.149994</td>\n",
       "      <td>404.940002</td>\n",
       "      <td>10452700.0</td>\n",
       "      <td>404.940002</td>\n",
       "    </tr>\n",
       "    <tr>\n",
       "      <th>2022-02-14</th>\n",
       "      <td>405.970001</td>\n",
       "      <td>400.250000</td>\n",
       "      <td>404.429993</td>\n",
       "      <td>403.619995</td>\n",
       "      <td>10149764.0</td>\n",
       "      <td>403.619995</td>\n",
       "    </tr>\n",
       "  </tbody>\n",
       "</table>\n",
       "<p>2800 rows × 6 columns</p>\n",
       "</div>"
      ],
      "text/plain": [
       "                  High         Low        Open       Close      Volume  \\\n",
       "Date                                                                     \n",
       "2010-12-31  115.139999  114.680000  114.860001  115.139999    145750.0   \n",
       "2011-01-03  116.660004  115.900002  115.940002  116.220001    119200.0   \n",
       "2011-01-04  116.559998  115.500000  116.559998  116.120003    108350.0   \n",
       "2011-01-05  116.800003  115.720001  115.860001  116.739998    717750.0   \n",
       "2011-01-06  116.919998  116.220001  116.839996  116.540001     72450.0   \n",
       "...                ...         ...         ...         ...         ...   \n",
       "2022-02-08  415.459991  409.350006  410.720001  414.489990   5565700.0   \n",
       "2022-02-09  420.869995  418.350006  418.549988  420.570007   6284500.0   \n",
       "2022-02-10  420.799988  411.140015  414.929993  413.179993   9260500.0   \n",
       "2022-02-11  415.200012  403.570007  413.149994  404.940002  10452700.0   \n",
       "2022-02-14  405.970001  400.250000  404.429993  403.619995  10149764.0   \n",
       "\n",
       "             Adj Close  \n",
       "Date                    \n",
       "2010-12-31   93.374626  \n",
       "2011-01-03   94.250465  \n",
       "2011-01-04   94.169380  \n",
       "2011-01-05   94.672173  \n",
       "2011-01-06   94.509987  \n",
       "...                ...  \n",
       "2022-02-08  414.489990  \n",
       "2022-02-09  420.570007  \n",
       "2022-02-10  413.179993  \n",
       "2022-02-11  404.940002  \n",
       "2022-02-14  403.619995  \n",
       "\n",
       "[2800 rows x 6 columns]"
      ]
     },
     "execution_count": 167,
     "metadata": {},
     "output_type": "execute_result"
    }
   ],
   "source": [
    "voo"
   ]
  },
  {
   "cell_type": "code",
   "execution_count": 168,
   "id": "7f13ca68-1d6b-4e89-9dec-2876b8e82389",
   "metadata": {},
   "outputs": [],
   "source": [
    "bnd = web.DataReader(name='BND', \n",
    "    data_source='yahoo', \n",
    "    start='2011-01-01',\n",
    "    end=datetime.date.today()\n",
    ")"
   ]
  },
  {
   "cell_type": "code",
   "execution_count": 169,
   "id": "5aebd362-1388-4382-afc8-3db1ce5588ae",
   "metadata": {
    "tags": []
   },
   "outputs": [
    {
     "data": {
      "text/html": [
       "<div>\n",
       "<style scoped>\n",
       "    .dataframe tbody tr th:only-of-type {\n",
       "        vertical-align: middle;\n",
       "    }\n",
       "\n",
       "    .dataframe tbody tr th {\n",
       "        vertical-align: top;\n",
       "    }\n",
       "\n",
       "    .dataframe thead th {\n",
       "        text-align: right;\n",
       "    }\n",
       "</style>\n",
       "<table border=\"1\" class=\"dataframe\">\n",
       "  <thead>\n",
       "    <tr style=\"text-align: right;\">\n",
       "      <th></th>\n",
       "      <th>High</th>\n",
       "      <th>Low</th>\n",
       "      <th>Open</th>\n",
       "      <th>Close</th>\n",
       "      <th>Volume</th>\n",
       "      <th>Adj Close</th>\n",
       "    </tr>\n",
       "    <tr>\n",
       "      <th>Date</th>\n",
       "      <th></th>\n",
       "      <th></th>\n",
       "      <th></th>\n",
       "      <th></th>\n",
       "      <th></th>\n",
       "      <th></th>\n",
       "    </tr>\n",
       "  </thead>\n",
       "  <tbody>\n",
       "    <tr>\n",
       "      <th>2010-12-31</th>\n",
       "      <td>80.309998</td>\n",
       "      <td>80.000000</td>\n",
       "      <td>80.000000</td>\n",
       "      <td>80.269997</td>\n",
       "      <td>534500.0</td>\n",
       "      <td>59.529575</td>\n",
       "    </tr>\n",
       "    <tr>\n",
       "      <th>2011-01-03</th>\n",
       "      <td>80.230003</td>\n",
       "      <td>79.959999</td>\n",
       "      <td>80.029999</td>\n",
       "      <td>80.169998</td>\n",
       "      <td>936500.0</td>\n",
       "      <td>59.455444</td>\n",
       "    </tr>\n",
       "    <tr>\n",
       "      <th>2011-01-04</th>\n",
       "      <td>80.330002</td>\n",
       "      <td>80.080002</td>\n",
       "      <td>80.220001</td>\n",
       "      <td>80.180000</td>\n",
       "      <td>1784100.0</td>\n",
       "      <td>59.462830</td>\n",
       "    </tr>\n",
       "    <tr>\n",
       "      <th>2011-01-05</th>\n",
       "      <td>79.980003</td>\n",
       "      <td>79.680000</td>\n",
       "      <td>79.930000</td>\n",
       "      <td>79.830002</td>\n",
       "      <td>837300.0</td>\n",
       "      <td>59.203259</td>\n",
       "    </tr>\n",
       "    <tr>\n",
       "      <th>2011-01-06</th>\n",
       "      <td>79.959999</td>\n",
       "      <td>79.769997</td>\n",
       "      <td>79.900002</td>\n",
       "      <td>79.900002</td>\n",
       "      <td>591000.0</td>\n",
       "      <td>59.255184</td>\n",
       "    </tr>\n",
       "    <tr>\n",
       "      <th>...</th>\n",
       "      <td>...</td>\n",
       "      <td>...</td>\n",
       "      <td>...</td>\n",
       "      <td>...</td>\n",
       "      <td>...</td>\n",
       "      <td>...</td>\n",
       "    </tr>\n",
       "    <tr>\n",
       "      <th>2022-02-08</th>\n",
       "      <td>82.010002</td>\n",
       "      <td>81.889999</td>\n",
       "      <td>81.980003</td>\n",
       "      <td>81.889999</td>\n",
       "      <td>6727000.0</td>\n",
       "      <td>81.889999</td>\n",
       "    </tr>\n",
       "    <tr>\n",
       "      <th>2022-02-09</th>\n",
       "      <td>82.139999</td>\n",
       "      <td>81.940002</td>\n",
       "      <td>82.029999</td>\n",
       "      <td>81.949997</td>\n",
       "      <td>5862000.0</td>\n",
       "      <td>81.949997</td>\n",
       "    </tr>\n",
       "    <tr>\n",
       "      <th>2022-02-10</th>\n",
       "      <td>81.690002</td>\n",
       "      <td>81.199997</td>\n",
       "      <td>81.629997</td>\n",
       "      <td>81.199997</td>\n",
       "      <td>8869700.0</td>\n",
       "      <td>81.199997</td>\n",
       "    </tr>\n",
       "    <tr>\n",
       "      <th>2022-02-11</th>\n",
       "      <td>81.790001</td>\n",
       "      <td>81.150002</td>\n",
       "      <td>81.449997</td>\n",
       "      <td>81.730003</td>\n",
       "      <td>11100900.0</td>\n",
       "      <td>81.730003</td>\n",
       "    </tr>\n",
       "    <tr>\n",
       "      <th>2022-02-14</th>\n",
       "      <td>81.458504</td>\n",
       "      <td>81.180000</td>\n",
       "      <td>81.379997</td>\n",
       "      <td>81.269997</td>\n",
       "      <td>6296776.0</td>\n",
       "      <td>81.269997</td>\n",
       "    </tr>\n",
       "  </tbody>\n",
       "</table>\n",
       "<p>2800 rows × 6 columns</p>\n",
       "</div>"
      ],
      "text/plain": [
       "                 High        Low       Open      Close      Volume  Adj Close\n",
       "Date                                                                         \n",
       "2010-12-31  80.309998  80.000000  80.000000  80.269997    534500.0  59.529575\n",
       "2011-01-03  80.230003  79.959999  80.029999  80.169998    936500.0  59.455444\n",
       "2011-01-04  80.330002  80.080002  80.220001  80.180000   1784100.0  59.462830\n",
       "2011-01-05  79.980003  79.680000  79.930000  79.830002    837300.0  59.203259\n",
       "2011-01-06  79.959999  79.769997  79.900002  79.900002    591000.0  59.255184\n",
       "...               ...        ...        ...        ...         ...        ...\n",
       "2022-02-08  82.010002  81.889999  81.980003  81.889999   6727000.0  81.889999\n",
       "2022-02-09  82.139999  81.940002  82.029999  81.949997   5862000.0  81.949997\n",
       "2022-02-10  81.690002  81.199997  81.629997  81.199997   8869700.0  81.199997\n",
       "2022-02-11  81.790001  81.150002  81.449997  81.730003  11100900.0  81.730003\n",
       "2022-02-14  81.458504  81.180000  81.379997  81.269997   6296776.0  81.269997\n",
       "\n",
       "[2800 rows x 6 columns]"
      ]
     },
     "execution_count": 169,
     "metadata": {},
     "output_type": "execute_result"
    }
   ],
   "source": [
    "bnd"
   ]
  },
  {
   "cell_type": "code",
   "execution_count": 170,
   "id": "73e870f5-6a94-4add-b300-22a1c8f90e56",
   "metadata": {},
   "outputs": [],
   "source": [
    "vxus = web.DataReader(name='VXUS', \n",
    "    data_source='yahoo', \n",
    "    start='2011-01-01',\n",
    "    end=datetime.date.today()\n",
    ")"
   ]
  },
  {
   "cell_type": "code",
   "execution_count": 171,
   "id": "f45a8b7e-ad22-4363-aa65-d153ad3fa80a",
   "metadata": {
    "tags": []
   },
   "outputs": [
    {
     "data": {
      "text/html": [
       "<div>\n",
       "<style scoped>\n",
       "    .dataframe tbody tr th:only-of-type {\n",
       "        vertical-align: middle;\n",
       "    }\n",
       "\n",
       "    .dataframe tbody tr th {\n",
       "        vertical-align: top;\n",
       "    }\n",
       "\n",
       "    .dataframe thead th {\n",
       "        text-align: right;\n",
       "    }\n",
       "</style>\n",
       "<table border=\"1\" class=\"dataframe\">\n",
       "  <thead>\n",
       "    <tr style=\"text-align: right;\">\n",
       "      <th></th>\n",
       "      <th>High</th>\n",
       "      <th>Low</th>\n",
       "      <th>Open</th>\n",
       "      <th>Close</th>\n",
       "      <th>Volume</th>\n",
       "      <th>Adj Close</th>\n",
       "    </tr>\n",
       "    <tr>\n",
       "      <th>Date</th>\n",
       "      <th></th>\n",
       "      <th></th>\n",
       "      <th></th>\n",
       "      <th></th>\n",
       "      <th></th>\n",
       "      <th></th>\n",
       "    </tr>\n",
       "  </thead>\n",
       "  <tbody>\n",
       "    <tr>\n",
       "      <th>2011-01-28</th>\n",
       "      <td>53.830002</td>\n",
       "      <td>49.259998</td>\n",
       "      <td>50.070000</td>\n",
       "      <td>49.330002</td>\n",
       "      <td>40800.0</td>\n",
       "      <td>35.691982</td>\n",
       "    </tr>\n",
       "    <tr>\n",
       "      <th>2011-01-31</th>\n",
       "      <td>50.000000</td>\n",
       "      <td>49.630001</td>\n",
       "      <td>49.750000</td>\n",
       "      <td>49.880001</td>\n",
       "      <td>46200.0</td>\n",
       "      <td>36.089928</td>\n",
       "    </tr>\n",
       "    <tr>\n",
       "      <th>2011-02-01</th>\n",
       "      <td>50.950001</td>\n",
       "      <td>50.150002</td>\n",
       "      <td>50.619999</td>\n",
       "      <td>50.950001</td>\n",
       "      <td>26300.0</td>\n",
       "      <td>36.864128</td>\n",
       "    </tr>\n",
       "    <tr>\n",
       "      <th>2011-02-02</th>\n",
       "      <td>51.000000</td>\n",
       "      <td>50.540001</td>\n",
       "      <td>51.000000</td>\n",
       "      <td>50.689999</td>\n",
       "      <td>47700.0</td>\n",
       "      <td>36.675999</td>\n",
       "    </tr>\n",
       "    <tr>\n",
       "      <th>2011-02-03</th>\n",
       "      <td>50.990002</td>\n",
       "      <td>50.360001</td>\n",
       "      <td>50.990002</td>\n",
       "      <td>50.779999</td>\n",
       "      <td>51100.0</td>\n",
       "      <td>36.741119</td>\n",
       "    </tr>\n",
       "    <tr>\n",
       "      <th>...</th>\n",
       "      <td>...</td>\n",
       "      <td>...</td>\n",
       "      <td>...</td>\n",
       "      <td>...</td>\n",
       "      <td>...</td>\n",
       "      <td>...</td>\n",
       "    </tr>\n",
       "    <tr>\n",
       "      <th>2022-02-08</th>\n",
       "      <td>62.389999</td>\n",
       "      <td>61.820000</td>\n",
       "      <td>61.910000</td>\n",
       "      <td>62.330002</td>\n",
       "      <td>3663500.0</td>\n",
       "      <td>62.330002</td>\n",
       "    </tr>\n",
       "    <tr>\n",
       "      <th>2022-02-09</th>\n",
       "      <td>63.349998</td>\n",
       "      <td>63.009998</td>\n",
       "      <td>63.090000</td>\n",
       "      <td>63.349998</td>\n",
       "      <td>3851100.0</td>\n",
       "      <td>63.349998</td>\n",
       "    </tr>\n",
       "    <tr>\n",
       "      <th>2022-02-10</th>\n",
       "      <td>63.480000</td>\n",
       "      <td>62.500000</td>\n",
       "      <td>62.520000</td>\n",
       "      <td>62.630001</td>\n",
       "      <td>4272900.0</td>\n",
       "      <td>62.630001</td>\n",
       "    </tr>\n",
       "    <tr>\n",
       "      <th>2022-02-11</th>\n",
       "      <td>62.860001</td>\n",
       "      <td>61.610001</td>\n",
       "      <td>62.630001</td>\n",
       "      <td>61.770000</td>\n",
       "      <td>4527300.0</td>\n",
       "      <td>61.770000</td>\n",
       "    </tr>\n",
       "    <tr>\n",
       "      <th>2022-02-14</th>\n",
       "      <td>61.605000</td>\n",
       "      <td>61.000000</td>\n",
       "      <td>61.505001</td>\n",
       "      <td>61.400002</td>\n",
       "      <td>5545355.0</td>\n",
       "      <td>61.400002</td>\n",
       "    </tr>\n",
       "  </tbody>\n",
       "</table>\n",
       "<p>2781 rows × 6 columns</p>\n",
       "</div>"
      ],
      "text/plain": [
       "                 High        Low       Open      Close     Volume  Adj Close\n",
       "Date                                                                        \n",
       "2011-01-28  53.830002  49.259998  50.070000  49.330002    40800.0  35.691982\n",
       "2011-01-31  50.000000  49.630001  49.750000  49.880001    46200.0  36.089928\n",
       "2011-02-01  50.950001  50.150002  50.619999  50.950001    26300.0  36.864128\n",
       "2011-02-02  51.000000  50.540001  51.000000  50.689999    47700.0  36.675999\n",
       "2011-02-03  50.990002  50.360001  50.990002  50.779999    51100.0  36.741119\n",
       "...               ...        ...        ...        ...        ...        ...\n",
       "2022-02-08  62.389999  61.820000  61.910000  62.330002  3663500.0  62.330002\n",
       "2022-02-09  63.349998  63.009998  63.090000  63.349998  3851100.0  63.349998\n",
       "2022-02-10  63.480000  62.500000  62.520000  62.630001  4272900.0  62.630001\n",
       "2022-02-11  62.860001  61.610001  62.630001  61.770000  4527300.0  61.770000\n",
       "2022-02-14  61.605000  61.000000  61.505001  61.400002  5545355.0  61.400002\n",
       "\n",
       "[2781 rows x 6 columns]"
      ]
     },
     "execution_count": 171,
     "metadata": {},
     "output_type": "execute_result"
    }
   ],
   "source": [
    "vxus"
   ]
  },
  {
   "cell_type": "code",
   "execution_count": 172,
   "id": "43aa88c6-8660-4993-ac3d-5934fdd5b882",
   "metadata": {},
   "outputs": [],
   "source": [
    "bndx = web.DataReader(name='BNDX', \n",
    "    data_source='yahoo', \n",
    "    start='2011-01-01',\n",
    "    end=datetime.date.today()\n",
    ")"
   ]
  },
  {
   "cell_type": "code",
   "execution_count": 173,
   "id": "dcd05807-4eb6-43a3-be9b-ca2b7154c6be",
   "metadata": {
    "tags": []
   },
   "outputs": [
    {
     "data": {
      "text/html": [
       "<div>\n",
       "<style scoped>\n",
       "    .dataframe tbody tr th:only-of-type {\n",
       "        vertical-align: middle;\n",
       "    }\n",
       "\n",
       "    .dataframe tbody tr th {\n",
       "        vertical-align: top;\n",
       "    }\n",
       "\n",
       "    .dataframe thead th {\n",
       "        text-align: right;\n",
       "    }\n",
       "</style>\n",
       "<table border=\"1\" class=\"dataframe\">\n",
       "  <thead>\n",
       "    <tr style=\"text-align: right;\">\n",
       "      <th></th>\n",
       "      <th>High</th>\n",
       "      <th>Low</th>\n",
       "      <th>Open</th>\n",
       "      <th>Close</th>\n",
       "      <th>Volume</th>\n",
       "      <th>Adj Close</th>\n",
       "    </tr>\n",
       "    <tr>\n",
       "      <th>Date</th>\n",
       "      <th></th>\n",
       "      <th></th>\n",
       "      <th></th>\n",
       "      <th></th>\n",
       "      <th></th>\n",
       "      <th></th>\n",
       "    </tr>\n",
       "  </thead>\n",
       "  <tbody>\n",
       "    <tr>\n",
       "      <th>2013-06-04</th>\n",
       "      <td>50.599998</td>\n",
       "      <td>50.240002</td>\n",
       "      <td>50.599998</td>\n",
       "      <td>50.299999</td>\n",
       "      <td>44300.0</td>\n",
       "      <td>41.435833</td>\n",
       "    </tr>\n",
       "    <tr>\n",
       "      <th>2013-06-05</th>\n",
       "      <td>50.400002</td>\n",
       "      <td>50.299999</td>\n",
       "      <td>50.400002</td>\n",
       "      <td>50.360001</td>\n",
       "      <td>62500.0</td>\n",
       "      <td>41.485260</td>\n",
       "    </tr>\n",
       "    <tr>\n",
       "      <th>2013-06-06</th>\n",
       "      <td>50.349998</td>\n",
       "      <td>50.270000</td>\n",
       "      <td>50.340000</td>\n",
       "      <td>50.290001</td>\n",
       "      <td>106800.0</td>\n",
       "      <td>41.427589</td>\n",
       "    </tr>\n",
       "    <tr>\n",
       "      <th>2013-06-07</th>\n",
       "      <td>50.330002</td>\n",
       "      <td>50.189999</td>\n",
       "      <td>50.330002</td>\n",
       "      <td>50.189999</td>\n",
       "      <td>70800.0</td>\n",
       "      <td>41.345215</td>\n",
       "    </tr>\n",
       "    <tr>\n",
       "      <th>2013-06-10</th>\n",
       "      <td>50.259998</td>\n",
       "      <td>49.799999</td>\n",
       "      <td>50.259998</td>\n",
       "      <td>49.830002</td>\n",
       "      <td>128800.0</td>\n",
       "      <td>41.048645</td>\n",
       "    </tr>\n",
       "    <tr>\n",
       "      <th>...</th>\n",
       "      <td>...</td>\n",
       "      <td>...</td>\n",
       "      <td>...</td>\n",
       "      <td>...</td>\n",
       "      <td>...</td>\n",
       "      <td>...</td>\n",
       "    </tr>\n",
       "    <tr>\n",
       "      <th>2022-02-08</th>\n",
       "      <td>53.540001</td>\n",
       "      <td>53.459999</td>\n",
       "      <td>53.470001</td>\n",
       "      <td>53.500000</td>\n",
       "      <td>9911300.0</td>\n",
       "      <td>53.500000</td>\n",
       "    </tr>\n",
       "    <tr>\n",
       "      <th>2022-02-09</th>\n",
       "      <td>53.709999</td>\n",
       "      <td>53.580002</td>\n",
       "      <td>53.610001</td>\n",
       "      <td>53.639999</td>\n",
       "      <td>7620400.0</td>\n",
       "      <td>53.639999</td>\n",
       "    </tr>\n",
       "    <tr>\n",
       "      <th>2022-02-10</th>\n",
       "      <td>53.490002</td>\n",
       "      <td>53.220001</td>\n",
       "      <td>53.459999</td>\n",
       "      <td>53.259998</td>\n",
       "      <td>4941900.0</td>\n",
       "      <td>53.259998</td>\n",
       "    </tr>\n",
       "    <tr>\n",
       "      <th>2022-02-11</th>\n",
       "      <td>53.520000</td>\n",
       "      <td>53.189999</td>\n",
       "      <td>53.349998</td>\n",
       "      <td>53.500000</td>\n",
       "      <td>4193000.0</td>\n",
       "      <td>53.500000</td>\n",
       "    </tr>\n",
       "    <tr>\n",
       "      <th>2022-02-14</th>\n",
       "      <td>53.320000</td>\n",
       "      <td>53.139999</td>\n",
       "      <td>53.270000</td>\n",
       "      <td>53.230000</td>\n",
       "      <td>6008107.0</td>\n",
       "      <td>53.230000</td>\n",
       "    </tr>\n",
       "  </tbody>\n",
       "</table>\n",
       "<p>2192 rows × 6 columns</p>\n",
       "</div>"
      ],
      "text/plain": [
       "                 High        Low       Open      Close     Volume  Adj Close\n",
       "Date                                                                        \n",
       "2013-06-04  50.599998  50.240002  50.599998  50.299999    44300.0  41.435833\n",
       "2013-06-05  50.400002  50.299999  50.400002  50.360001    62500.0  41.485260\n",
       "2013-06-06  50.349998  50.270000  50.340000  50.290001   106800.0  41.427589\n",
       "2013-06-07  50.330002  50.189999  50.330002  50.189999    70800.0  41.345215\n",
       "2013-06-10  50.259998  49.799999  50.259998  49.830002   128800.0  41.048645\n",
       "...               ...        ...        ...        ...        ...        ...\n",
       "2022-02-08  53.540001  53.459999  53.470001  53.500000  9911300.0  53.500000\n",
       "2022-02-09  53.709999  53.580002  53.610001  53.639999  7620400.0  53.639999\n",
       "2022-02-10  53.490002  53.220001  53.459999  53.259998  4941900.0  53.259998\n",
       "2022-02-11  53.520000  53.189999  53.349998  53.500000  4193000.0  53.500000\n",
       "2022-02-14  53.320000  53.139999  53.270000  53.230000  6008107.0  53.230000\n",
       "\n",
       "[2192 rows x 6 columns]"
      ]
     },
     "execution_count": 173,
     "metadata": {},
     "output_type": "execute_result"
    }
   ],
   "source": [
    "bndx"
   ]
  },
  {
   "cell_type": "code",
   "execution_count": 174,
   "id": "b19cc50a-8b11-4639-baa0-3e4e3b8657e3",
   "metadata": {},
   "outputs": [],
   "source": [
    "prices = pd.DataFrame()"
   ]
  },
  {
   "cell_type": "code",
   "execution_count": 175,
   "id": "a73b65ab-b0e4-4b8b-99f8-4ed4c9e58ec1",
   "metadata": {},
   "outputs": [
    {
     "data": {
      "text/html": [
       "<div>\n",
       "<style scoped>\n",
       "    .dataframe tbody tr th:only-of-type {\n",
       "        vertical-align: middle;\n",
       "    }\n",
       "\n",
       "    .dataframe tbody tr th {\n",
       "        vertical-align: top;\n",
       "    }\n",
       "\n",
       "    .dataframe thead th {\n",
       "        text-align: right;\n",
       "    }\n",
       "</style>\n",
       "<table border=\"1\" class=\"dataframe\">\n",
       "  <thead>\n",
       "    <tr style=\"text-align: right;\">\n",
       "      <th></th>\n",
       "      <th>VOO</th>\n",
       "      <th>BND</th>\n",
       "      <th>VXUS</th>\n",
       "      <th>BNDX</th>\n",
       "    </tr>\n",
       "    <tr>\n",
       "      <th>Date</th>\n",
       "      <th></th>\n",
       "      <th></th>\n",
       "      <th></th>\n",
       "      <th></th>\n",
       "    </tr>\n",
       "  </thead>\n",
       "  <tbody>\n",
       "    <tr>\n",
       "      <th>2013-06-04</th>\n",
       "      <td>127.572502</td>\n",
       "      <td>65.388687</td>\n",
       "      <td>37.280701</td>\n",
       "      <td>41.435833</td>\n",
       "    </tr>\n",
       "    <tr>\n",
       "      <th>2013-06-05</th>\n",
       "      <td>125.616447</td>\n",
       "      <td>65.364861</td>\n",
       "      <td>36.601746</td>\n",
       "      <td>41.485260</td>\n",
       "    </tr>\n",
       "    <tr>\n",
       "      <th>2013-06-06</th>\n",
       "      <td>126.602982</td>\n",
       "      <td>65.452362</td>\n",
       "      <td>36.825497</td>\n",
       "      <td>41.427589</td>\n",
       "    </tr>\n",
       "    <tr>\n",
       "      <th>2013-06-07</th>\n",
       "      <td>128.372009</td>\n",
       "      <td>65.285225</td>\n",
       "      <td>37.049248</td>\n",
       "      <td>41.345215</td>\n",
       "    </tr>\n",
       "    <tr>\n",
       "      <th>2013-06-10</th>\n",
       "      <td>128.321014</td>\n",
       "      <td>65.117996</td>\n",
       "      <td>37.018372</td>\n",
       "      <td>41.048645</td>\n",
       "    </tr>\n",
       "    <tr>\n",
       "      <th>...</th>\n",
       "      <td>...</td>\n",
       "      <td>...</td>\n",
       "      <td>...</td>\n",
       "      <td>...</td>\n",
       "    </tr>\n",
       "    <tr>\n",
       "      <th>2022-02-08</th>\n",
       "      <td>414.489990</td>\n",
       "      <td>81.889999</td>\n",
       "      <td>62.330002</td>\n",
       "      <td>53.500000</td>\n",
       "    </tr>\n",
       "    <tr>\n",
       "      <th>2022-02-09</th>\n",
       "      <td>420.570007</td>\n",
       "      <td>81.949997</td>\n",
       "      <td>63.349998</td>\n",
       "      <td>53.639999</td>\n",
       "    </tr>\n",
       "    <tr>\n",
       "      <th>2022-02-10</th>\n",
       "      <td>413.179993</td>\n",
       "      <td>81.199997</td>\n",
       "      <td>62.630001</td>\n",
       "      <td>53.259998</td>\n",
       "    </tr>\n",
       "    <tr>\n",
       "      <th>2022-02-11</th>\n",
       "      <td>404.940002</td>\n",
       "      <td>81.730003</td>\n",
       "      <td>61.770000</td>\n",
       "      <td>53.500000</td>\n",
       "    </tr>\n",
       "    <tr>\n",
       "      <th>2022-02-14</th>\n",
       "      <td>403.619995</td>\n",
       "      <td>81.269997</td>\n",
       "      <td>61.400002</td>\n",
       "      <td>53.230000</td>\n",
       "    </tr>\n",
       "  </tbody>\n",
       "</table>\n",
       "<p>2192 rows × 4 columns</p>\n",
       "</div>"
      ],
      "text/plain": [
       "                   VOO        BND       VXUS       BNDX\n",
       "Date                                                   \n",
       "2013-06-04  127.572502  65.388687  37.280701  41.435833\n",
       "2013-06-05  125.616447  65.364861  36.601746  41.485260\n",
       "2013-06-06  126.602982  65.452362  36.825497  41.427589\n",
       "2013-06-07  128.372009  65.285225  37.049248  41.345215\n",
       "2013-06-10  128.321014  65.117996  37.018372  41.048645\n",
       "...                ...        ...        ...        ...\n",
       "2022-02-08  414.489990  81.889999  62.330002  53.500000\n",
       "2022-02-09  420.570007  81.949997  63.349998  53.639999\n",
       "2022-02-10  413.179993  81.199997  62.630001  53.259998\n",
       "2022-02-11  404.940002  81.730003  61.770000  53.500000\n",
       "2022-02-14  403.619995  81.269997  61.400002  53.230000\n",
       "\n",
       "[2192 rows x 4 columns]"
      ]
     },
     "execution_count": 175,
     "metadata": {},
     "output_type": "execute_result"
    }
   ],
   "source": [
    "prices['VOO'] = voo['Adj Close']\n",
    "prices['BND'] = bnd['Adj Close']\n",
    "prices['VXUS'] = vxus['Adj Close']\n",
    "prices['BNDX'] = bndx['Adj Close']\n",
    "prices = prices.fillna(value=None, method=\"ffill\", axis=0, inplace=False).dropna(axis=0, how='any', inplace=False)\n",
    "prices"
   ]
  },
  {
   "cell_type": "code",
   "execution_count": 176,
   "id": "10703863-61a0-4ea6-9ec8-b83eca74f10f",
   "metadata": {},
   "outputs": [
    {
     "data": {
      "text/plain": [
       "Date\n",
       "2007-11-30    1291.856\n",
       "2007-12-31    1275.956\n",
       "2008-01-31    1170.327\n",
       "2008-02-29    1173.998\n",
       "2008-03-31    1152.170\n",
       "                ...   \n",
       "2021-01-29    2094.703\n",
       "2021-02-26    2149.293\n",
       "2021-03-31    2200.156\n",
       "2021-04-30    2292.451\n",
       "2021-05-31    2322.886\n",
       "Name: ACWI + FRONTIER MARKETS(ACWI FM) ALL CAP All Cap (Large+Mid+Small+Micro Cap), Length: 163, dtype: float64"
      ]
     },
     "execution_count": 176,
     "metadata": {},
     "output_type": "execute_result"
    }
   ],
   "source": [
    "msci = pd.read_csv(\"./data/msci.csv\", sep=\",\", header=0, index_col=\"Date\", skipinitialspace=True, skip_blank_lines=True, parse_dates=True, infer_datetime_format=True, thousands=\",\")\n",
    "msci.iloc[:, 0]"
   ]
  },
  {
   "cell_type": "code",
   "execution_count": 177,
   "id": "a5f3bbda-8f74-47d9-b9c6-101365f554c6",
   "metadata": {},
   "outputs": [],
   "source": [
    "from pypfopt import expected_returns\n",
    "from pypfopt import risk_models\n",
    "from pypfopt import efficient_frontier"
   ]
  },
  {
   "cell_type": "code",
   "execution_count": 178,
   "id": "eb9bff0d-a3d7-4332-8031-3def9fc79a65",
   "metadata": {},
   "outputs": [
    {
     "data": {
      "text/plain": [
       "VOO     0.141649\n",
       "BND     0.025323\n",
       "VXUS    0.059064\n",
       "BNDX    0.029228\n",
       "dtype: float64"
      ]
     },
     "execution_count": 178,
     "metadata": {},
     "output_type": "execute_result"
    }
   ],
   "source": [
    "mhr = expected_returns.mean_historical_return(prices, frequency=252)\n",
    "mhr"
   ]
  },
  {
   "cell_type": "code",
   "execution_count": 181,
   "id": "28279bf9-09b4-4c1e-bb7e-1a70d10a0723",
   "metadata": {},
   "outputs": [
    {
     "data": {
      "text/plain": [
       "VOO     0.164013\n",
       "BND    -0.024105\n",
       "VXUS    0.072539\n",
       "BNDX   -0.028264\n",
       "Name: 2022-02-14 00:00:00, dtype: float64"
      ]
     },
     "execution_count": 181,
     "metadata": {},
     "output_type": "execute_result"
    }
   ],
   "source": [
    "ehr = expected_returns.ema_historical_return(prices, frequency=252, span=500)\n",
    "ehr"
   ]
  },
  {
   "cell_type": "code",
   "execution_count": 182,
   "id": "bc90f36c-6e35-46f2-860a-d9d3cbe66339",
   "metadata": {},
   "outputs": [
    {
     "data": {
      "text/plain": [
       "1.9792027252663047e-05"
      ]
     },
     "execution_count": 182,
     "metadata": {},
     "output_type": "execute_result"
    }
   ],
   "source": [
    "risk_free_rate=1.005**((1/252)) - 1\n",
    "risk_free_rate"
   ]
  },
  {
   "cell_type": "code",
   "execution_count": 183,
   "id": "7e966d3a-ffb9-4177-8415-cc5da7c236b4",
   "metadata": {},
   "outputs": [
    {
     "data": {
      "text/plain": [
       "VOO     0.127416\n",
       "BND     0.008180\n",
       "VXUS    0.127341\n",
       "BNDX    0.005329\n",
       "Name: mkt, dtype: float64"
      ]
     },
     "execution_count": 183,
     "metadata": {},
     "output_type": "execute_result"
    }
   ],
   "source": [
    "capmr = expected_returns.capm_return(prices, market_prices=None, returns_data=False, risk_free_rate=risk_free_rate, compounding=True, frequency=252, log_returns=False)\n",
    "capmr"
   ]
  },
  {
   "cell_type": "code",
   "execution_count": 184,
   "id": "0c1ddefa-e769-4680-90b6-3f6c036bced9",
   "metadata": {},
   "outputs": [
    {
     "data": {
      "text/html": [
       "<div>\n",
       "<style scoped>\n",
       "    .dataframe tbody tr th:only-of-type {\n",
       "        vertical-align: middle;\n",
       "    }\n",
       "\n",
       "    .dataframe tbody tr th {\n",
       "        vertical-align: top;\n",
       "    }\n",
       "\n",
       "    .dataframe thead th {\n",
       "        text-align: right;\n",
       "    }\n",
       "</style>\n",
       "<table border=\"1\" class=\"dataframe\">\n",
       "  <thead>\n",
       "    <tr style=\"text-align: right;\">\n",
       "      <th></th>\n",
       "      <th>VOO</th>\n",
       "      <th>BND</th>\n",
       "      <th>VXUS</th>\n",
       "      <th>BNDX</th>\n",
       "    </tr>\n",
       "  </thead>\n",
       "  <tbody>\n",
       "    <tr>\n",
       "      <th>VOO</th>\n",
       "      <td>0.028707</td>\n",
       "      <td>0.000163</td>\n",
       "      <td>0.024867</td>\n",
       "      <td>0.000184</td>\n",
       "    </tr>\n",
       "    <tr>\n",
       "      <th>BND</th>\n",
       "      <td>0.000163</td>\n",
       "      <td>0.001969</td>\n",
       "      <td>0.000445</td>\n",
       "      <td>0.000877</td>\n",
       "    </tr>\n",
       "    <tr>\n",
       "      <th>VXUS</th>\n",
       "      <td>0.024867</td>\n",
       "      <td>0.000445</td>\n",
       "      <td>0.028378</td>\n",
       "      <td>0.000199</td>\n",
       "    </tr>\n",
       "    <tr>\n",
       "      <th>BNDX</th>\n",
       "      <td>0.000184</td>\n",
       "      <td>0.000877</td>\n",
       "      <td>0.000199</td>\n",
       "      <td>0.000987</td>\n",
       "    </tr>\n",
       "  </tbody>\n",
       "</table>\n",
       "</div>"
      ],
      "text/plain": [
       "           VOO       BND      VXUS      BNDX\n",
       "VOO   0.028707  0.000163  0.024867  0.000184\n",
       "BND   0.000163  0.001969  0.000445  0.000877\n",
       "VXUS  0.024867  0.000445  0.028378  0.000199\n",
       "BNDX  0.000184  0.000877  0.000199  0.000987"
      ]
     },
     "execution_count": 184,
     "metadata": {},
     "output_type": "execute_result"
    }
   ],
   "source": [
    "sample_cov = risk_models.risk_matrix(prices, method='sample_cov')\n",
    "sample_cov"
   ]
  },
  {
   "cell_type": "code",
   "execution_count": 185,
   "id": "be323999-fed6-4e10-8b87-6007dbb50646",
   "metadata": {},
   "outputs": [
    {
     "data": {
      "text/html": [
       "<div>\n",
       "<style scoped>\n",
       "    .dataframe tbody tr th:only-of-type {\n",
       "        vertical-align: middle;\n",
       "    }\n",
       "\n",
       "    .dataframe tbody tr th {\n",
       "        vertical-align: top;\n",
       "    }\n",
       "\n",
       "    .dataframe thead th {\n",
       "        text-align: right;\n",
       "    }\n",
       "</style>\n",
       "<table border=\"1\" class=\"dataframe\">\n",
       "  <thead>\n",
       "    <tr style=\"text-align: right;\">\n",
       "      <th></th>\n",
       "      <th>VOO</th>\n",
       "      <th>BND</th>\n",
       "      <th>VXUS</th>\n",
       "      <th>BNDX</th>\n",
       "    </tr>\n",
       "  </thead>\n",
       "  <tbody>\n",
       "    <tr>\n",
       "      <th>VOO</th>\n",
       "      <td>0.014866</td>\n",
       "      <td>0.001399</td>\n",
       "      <td>0.013696</td>\n",
       "      <td>0.000982</td>\n",
       "    </tr>\n",
       "    <tr>\n",
       "      <th>BND</th>\n",
       "      <td>0.001399</td>\n",
       "      <td>0.001072</td>\n",
       "      <td>0.001600</td>\n",
       "      <td>0.000565</td>\n",
       "    </tr>\n",
       "    <tr>\n",
       "      <th>VXUS</th>\n",
       "      <td>0.013696</td>\n",
       "      <td>0.001600</td>\n",
       "      <td>0.015861</td>\n",
       "      <td>0.001065</td>\n",
       "    </tr>\n",
       "    <tr>\n",
       "      <th>BNDX</th>\n",
       "      <td>0.000982</td>\n",
       "      <td>0.000565</td>\n",
       "      <td>0.001065</td>\n",
       "      <td>0.000544</td>\n",
       "    </tr>\n",
       "  </tbody>\n",
       "</table>\n",
       "</div>"
      ],
      "text/plain": [
       "           VOO       BND      VXUS      BNDX\n",
       "VOO   0.014866  0.001399  0.013696  0.000982\n",
       "BND   0.001399  0.001072  0.001600  0.000565\n",
       "VXUS  0.013696  0.001600  0.015861  0.001065\n",
       "BNDX  0.000982  0.000565  0.001065  0.000544"
      ]
     },
     "execution_count": 185,
     "metadata": {},
     "output_type": "execute_result"
    }
   ],
   "source": [
    "semicovariance = risk_models.risk_matrix(prices, method='semicovariance', benchmark=risk_free_rate, frequency=252, log_returns=False)\n",
    "semicovariance"
   ]
  },
  {
   "cell_type": "code",
   "execution_count": 186,
   "id": "a9e9fae4-f583-4197-ad09-ec7fa2427baf",
   "metadata": {},
   "outputs": [
    {
     "data": {
      "text/html": [
       "<div>\n",
       "<style scoped>\n",
       "    .dataframe tbody tr th:only-of-type {\n",
       "        vertical-align: middle;\n",
       "    }\n",
       "\n",
       "    .dataframe tbody tr th {\n",
       "        vertical-align: top;\n",
       "    }\n",
       "\n",
       "    .dataframe thead th {\n",
       "        text-align: right;\n",
       "    }\n",
       "</style>\n",
       "<table border=\"1\" class=\"dataframe\">\n",
       "  <thead>\n",
       "    <tr style=\"text-align: right;\">\n",
       "      <th></th>\n",
       "      <th>VOO</th>\n",
       "      <th>BND</th>\n",
       "      <th>VXUS</th>\n",
       "      <th>BNDX</th>\n",
       "    </tr>\n",
       "  </thead>\n",
       "  <tbody>\n",
       "    <tr>\n",
       "      <th>VOO</th>\n",
       "      <td>0.034938</td>\n",
       "      <td>0.000880</td>\n",
       "      <td>0.027781</td>\n",
       "      <td>0.000594</td>\n",
       "    </tr>\n",
       "    <tr>\n",
       "      <th>BND</th>\n",
       "      <td>0.000880</td>\n",
       "      <td>0.002612</td>\n",
       "      <td>0.000788</td>\n",
       "      <td>0.001346</td>\n",
       "    </tr>\n",
       "    <tr>\n",
       "      <th>VXUS</th>\n",
       "      <td>0.027781</td>\n",
       "      <td>0.000788</td>\n",
       "      <td>0.029573</td>\n",
       "      <td>0.000446</td>\n",
       "    </tr>\n",
       "    <tr>\n",
       "      <th>BNDX</th>\n",
       "      <td>0.000594</td>\n",
       "      <td>0.001346</td>\n",
       "      <td>0.000446</td>\n",
       "      <td>0.001307</td>\n",
       "    </tr>\n",
       "  </tbody>\n",
       "</table>\n",
       "</div>"
      ],
      "text/plain": [
       "           VOO       BND      VXUS      BNDX\n",
       "VOO   0.034938  0.000880  0.027781  0.000594\n",
       "BND   0.000880  0.002612  0.000788  0.001346\n",
       "VXUS  0.027781  0.000788  0.029573  0.000446\n",
       "BNDX  0.000594  0.001346  0.000446  0.001307"
      ]
     },
     "execution_count": 186,
     "metadata": {},
     "output_type": "execute_result"
    }
   ],
   "source": [
    "exp_cov = risk_models.risk_matrix(prices, method='exp_cov', span=500, frequency=252)\n",
    "exp_cov"
   ]
  },
  {
   "cell_type": "code",
   "execution_count": 187,
   "id": "e6bed6a6-e213-4561-88b2-f0c2b5eab815",
   "metadata": {},
   "outputs": [
    {
     "data": {
      "text/html": [
       "<div>\n",
       "<style scoped>\n",
       "    .dataframe tbody tr th:only-of-type {\n",
       "        vertical-align: middle;\n",
       "    }\n",
       "\n",
       "    .dataframe tbody tr th {\n",
       "        vertical-align: top;\n",
       "    }\n",
       "\n",
       "    .dataframe thead th {\n",
       "        text-align: right;\n",
       "    }\n",
       "</style>\n",
       "<table border=\"1\" class=\"dataframe\">\n",
       "  <thead>\n",
       "    <tr style=\"text-align: right;\">\n",
       "      <th></th>\n",
       "      <th>VOO</th>\n",
       "      <th>BND</th>\n",
       "      <th>VXUS</th>\n",
       "      <th>BNDX</th>\n",
       "    </tr>\n",
       "  </thead>\n",
       "  <tbody>\n",
       "    <tr>\n",
       "      <th>VOO</th>\n",
       "      <td>0.028707</td>\n",
       "      <td>0.000202</td>\n",
       "      <td>0.024514</td>\n",
       "      <td>0.000211</td>\n",
       "    </tr>\n",
       "    <tr>\n",
       "      <th>BND</th>\n",
       "      <td>0.000202</td>\n",
       "      <td>0.001969</td>\n",
       "      <td>0.000479</td>\n",
       "      <td>0.000867</td>\n",
       "    </tr>\n",
       "    <tr>\n",
       "      <th>VXUS</th>\n",
       "      <td>0.024514</td>\n",
       "      <td>0.000479</td>\n",
       "      <td>0.028378</td>\n",
       "      <td>0.000225</td>\n",
       "    </tr>\n",
       "    <tr>\n",
       "      <th>BNDX</th>\n",
       "      <td>0.000211</td>\n",
       "      <td>0.000867</td>\n",
       "      <td>0.000225</td>\n",
       "      <td>0.000987</td>\n",
       "    </tr>\n",
       "  </tbody>\n",
       "</table>\n",
       "</div>"
      ],
      "text/plain": [
       "           VOO       BND      VXUS      BNDX\n",
       "VOO   0.028707  0.000202  0.024514  0.000211\n",
       "BND   0.000202  0.001969  0.000479  0.000867\n",
       "VXUS  0.024514  0.000479  0.028378  0.000225\n",
       "BNDX  0.000211  0.000867  0.000225  0.000987"
      ]
     },
     "execution_count": 187,
     "metadata": {},
     "output_type": "execute_result"
    }
   ],
   "source": [
    "ledoiid_wolf_cc = risk_models.risk_matrix(prices, method='ledoit_wolf_constant_correlation', frequency=252)\n",
    "ledoiid_wolf_cc"
   ]
  },
  {
   "cell_type": "code",
   "execution_count": 188,
   "id": "9b4f4e8a-edf9-4bbe-a2d2-5849b91decb2",
   "metadata": {},
   "outputs": [
    {
     "data": {
      "text/html": [
       "<div>\n",
       "<style scoped>\n",
       "    .dataframe tbody tr th:only-of-type {\n",
       "        vertical-align: middle;\n",
       "    }\n",
       "\n",
       "    .dataframe tbody tr th {\n",
       "        vertical-align: top;\n",
       "    }\n",
       "\n",
       "    .dataframe thead th {\n",
       "        text-align: right;\n",
       "    }\n",
       "</style>\n",
       "<table border=\"1\" class=\"dataframe\">\n",
       "  <thead>\n",
       "    <tr style=\"text-align: right;\">\n",
       "      <th></th>\n",
       "      <th>VOO</th>\n",
       "      <th>BND</th>\n",
       "      <th>VXUS</th>\n",
       "      <th>BNDX</th>\n",
       "    </tr>\n",
       "  </thead>\n",
       "  <tbody>\n",
       "    <tr>\n",
       "      <th>VOO</th>\n",
       "      <td>0.028694</td>\n",
       "      <td>0.000162</td>\n",
       "      <td>0.024856</td>\n",
       "      <td>0.000184</td>\n",
       "    </tr>\n",
       "    <tr>\n",
       "      <th>BND</th>\n",
       "      <td>0.000162</td>\n",
       "      <td>0.001968</td>\n",
       "      <td>0.000445</td>\n",
       "      <td>0.000877</td>\n",
       "    </tr>\n",
       "    <tr>\n",
       "      <th>VXUS</th>\n",
       "      <td>0.024856</td>\n",
       "      <td>0.000445</td>\n",
       "      <td>0.028365</td>\n",
       "      <td>0.000199</td>\n",
       "    </tr>\n",
       "    <tr>\n",
       "      <th>BNDX</th>\n",
       "      <td>0.000184</td>\n",
       "      <td>0.000877</td>\n",
       "      <td>0.000199</td>\n",
       "      <td>0.000986</td>\n",
       "    </tr>\n",
       "  </tbody>\n",
       "</table>\n",
       "</div>"
      ],
      "text/plain": [
       "           VOO       BND      VXUS      BNDX\n",
       "VOO   0.028694  0.000162  0.024856  0.000184\n",
       "BND   0.000162  0.001968  0.000445  0.000877\n",
       "VXUS  0.024856  0.000445  0.028365  0.000199\n",
       "BNDX  0.000184  0.000877  0.000199  0.000986"
      ]
     },
     "execution_count": 188,
     "metadata": {},
     "output_type": "execute_result"
    }
   ],
   "source": [
    "ledoiid_wolf_sf = risk_models.risk_matrix(prices, method='ledoit_wolf_single_factor', frequency=252)\n",
    "ledoiid_wolf_sf"
   ]
  },
  {
   "cell_type": "code",
   "execution_count": 189,
   "id": "252147d5-ef6c-4d49-9062-643506592086",
   "metadata": {},
   "outputs": [
    {
     "data": {
      "text/html": [
       "<div>\n",
       "<style scoped>\n",
       "    .dataframe tbody tr th:only-of-type {\n",
       "        vertical-align: middle;\n",
       "    }\n",
       "\n",
       "    .dataframe tbody tr th {\n",
       "        vertical-align: top;\n",
       "    }\n",
       "\n",
       "    .dataframe thead th {\n",
       "        text-align: right;\n",
       "    }\n",
       "</style>\n",
       "<table border=\"1\" class=\"dataframe\">\n",
       "  <thead>\n",
       "    <tr style=\"text-align: right;\">\n",
       "      <th></th>\n",
       "      <th>VOO</th>\n",
       "      <th>BND</th>\n",
       "      <th>VXUS</th>\n",
       "      <th>BNDX</th>\n",
       "    </tr>\n",
       "  </thead>\n",
       "  <tbody>\n",
       "    <tr>\n",
       "      <th>VOO</th>\n",
       "      <td>0.028467</td>\n",
       "      <td>0.000160</td>\n",
       "      <td>0.024444</td>\n",
       "      <td>0.000181</td>\n",
       "    </tr>\n",
       "    <tr>\n",
       "      <th>BND</th>\n",
       "      <td>0.000160</td>\n",
       "      <td>0.002184</td>\n",
       "      <td>0.000438</td>\n",
       "      <td>0.000862</td>\n",
       "    </tr>\n",
       "    <tr>\n",
       "      <th>VXUS</th>\n",
       "      <td>0.024444</td>\n",
       "      <td>0.000438</td>\n",
       "      <td>0.028143</td>\n",
       "      <td>0.000196</td>\n",
       "    </tr>\n",
       "    <tr>\n",
       "      <th>BNDX</th>\n",
       "      <td>0.000181</td>\n",
       "      <td>0.000862</td>\n",
       "      <td>0.000196</td>\n",
       "      <td>0.001219</td>\n",
       "    </tr>\n",
       "  </tbody>\n",
       "</table>\n",
       "</div>"
      ],
      "text/plain": [
       "           VOO       BND      VXUS      BNDX\n",
       "VOO   0.028467  0.000160  0.024444  0.000181\n",
       "BND   0.000160  0.002184  0.000438  0.000862\n",
       "VXUS  0.024444  0.000438  0.028143  0.000196\n",
       "BNDX  0.000181  0.000862  0.000196  0.001219"
      ]
     },
     "execution_count": 189,
     "metadata": {},
     "output_type": "execute_result"
    }
   ],
   "source": [
    "ledoiid_wolf_cv = risk_models.risk_matrix(prices, method='ledoit_wolf_constant_variance', frequency=252)\n",
    "ledoiid_wolf_cv"
   ]
  },
  {
   "cell_type": "code",
   "execution_count": 190,
   "id": "233c5fd3-0f69-4162-8d5a-41658958891c",
   "metadata": {},
   "outputs": [
    {
     "data": {
      "text/html": [
       "<div>\n",
       "<style scoped>\n",
       "    .dataframe tbody tr th:only-of-type {\n",
       "        vertical-align: middle;\n",
       "    }\n",
       "\n",
       "    .dataframe tbody tr th {\n",
       "        vertical-align: top;\n",
       "    }\n",
       "\n",
       "    .dataframe thead th {\n",
       "        text-align: right;\n",
       "    }\n",
       "</style>\n",
       "<table border=\"1\" class=\"dataframe\">\n",
       "  <thead>\n",
       "    <tr style=\"text-align: right;\">\n",
       "      <th></th>\n",
       "      <th>VOO</th>\n",
       "      <th>BND</th>\n",
       "      <th>VXUS</th>\n",
       "      <th>BNDX</th>\n",
       "    </tr>\n",
       "  </thead>\n",
       "  <tbody>\n",
       "    <tr>\n",
       "      <th>VOO</th>\n",
       "      <td>0.028673</td>\n",
       "      <td>0.000162</td>\n",
       "      <td>0.024819</td>\n",
       "      <td>0.000184</td>\n",
       "    </tr>\n",
       "    <tr>\n",
       "      <th>BND</th>\n",
       "      <td>0.000162</td>\n",
       "      <td>0.001988</td>\n",
       "      <td>0.000444</td>\n",
       "      <td>0.000875</td>\n",
       "    </tr>\n",
       "    <tr>\n",
       "      <th>VXUS</th>\n",
       "      <td>0.024819</td>\n",
       "      <td>0.000444</td>\n",
       "      <td>0.028345</td>\n",
       "      <td>0.000199</td>\n",
       "    </tr>\n",
       "    <tr>\n",
       "      <th>BNDX</th>\n",
       "      <td>0.000184</td>\n",
       "      <td>0.000875</td>\n",
       "      <td>0.000199</td>\n",
       "      <td>0.001007</td>\n",
       "    </tr>\n",
       "  </tbody>\n",
       "</table>\n",
       "</div>"
      ],
      "text/plain": [
       "           VOO       BND      VXUS      BNDX\n",
       "VOO   0.028673  0.000162  0.024819  0.000184\n",
       "BND   0.000162  0.001988  0.000444  0.000875\n",
       "VXUS  0.024819  0.000444  0.028345  0.000199\n",
       "BNDX  0.000184  0.000875  0.000199  0.001007"
      ]
     },
     "execution_count": 190,
     "metadata": {},
     "output_type": "execute_result"
    }
   ],
   "source": [
    "oracle_approx = risk_models.risk_matrix(prices, method='oracle_approximating', frequency=252)\n",
    "oracle_approx"
   ]
  },
  {
   "cell_type": "code",
   "execution_count": 191,
   "id": "04fad3d3-fda7-4d42-ab48-5aa39fd48840",
   "metadata": {},
   "outputs": [
    {
     "name": "stderr",
     "output_type": "stream",
     "text": [
      "/root/.pyenv/versions/3.10.1/lib/python3.10/site-packages/pypfopt/efficient_frontier/efficient_frontier.py:257: UserWarning: max_sharpe transforms the optimization problem so additional objectives may not work as expected.\n",
      "  warnings.warn(\n"
     ]
    },
    {
     "data": {
      "text/plain": [
       "OrderedDict([('VOO', 0.581160865707479),\n",
       "             ('BND', 0.0867194730929809),\n",
       "             ('VXUS', 0.2287167746822802),\n",
       "             ('BNDX', 0.1034028865172599)])"
      ]
     },
     "execution_count": 191,
     "metadata": {},
     "output_type": "execute_result"
    }
   ],
   "source": [
    "from pypfopt import objective_functions\n",
    "\n",
    "expected_returns =  mhr\n",
    "cov_matrix = ledoiid_wolf_sf\n",
    "ef = efficient_frontier.EfficientFrontier(expected_returns, cov_matrix)\n",
    "ef.add_objective(objective_functions.L2_reg, gamma=10)\n",
    "ef.max_sharpe(risk_free_rate=0.005)"
   ]
  },
  {
   "cell_type": "code",
   "execution_count": 192,
   "id": "739308dd-bb39-4acf-a618-1b87bfa7a263",
   "metadata": {},
   "outputs": [
    {
     "name": "stdout",
     "output_type": "stream",
     "text": [
      "Expected annual return: 10.1%\n",
      "Annual volatility: 13.4%\n",
      "Sharpe Ratio: 0.72\n"
     ]
    },
    {
     "data": {
      "text/plain": [
       "(0.10104826423426143, 0.1337515551564019, 0.7181095137319915)"
      ]
     },
     "execution_count": 192,
     "metadata": {},
     "output_type": "execute_result"
    }
   ],
   "source": [
    "perf = ef.portfolio_performance(verbose=True, risk_free_rate=0.005)\n",
    "perf"
   ]
  },
  {
   "cell_type": "code",
   "execution_count": 193,
   "id": "8774d97c-9921-4e36-969a-283226699c01",
   "metadata": {},
   "outputs": [],
   "source": [
    "import matplotlib.pyplot as plt\n",
    "from pypfopt import plotting\n",
    "import numpy as np"
   ]
  },
  {
   "cell_type": "code",
   "execution_count": 194,
   "id": "74216d8b-789e-4e80-81ae-51ffbd8550c2",
   "metadata": {},
   "outputs": [
    {
     "name": "stdout",
     "output_type": "stream",
     "text": [
      "Expected annual return: 10.1%\n",
      "Annual volatility: 13.4%\n",
      "Sharpe Ratio: 0.72\n"
     ]
    },
    {
     "data": {
      "image/png": "[encoded data removed]",
      "text/plain": [
       "<Figure size 432x288 with 1 Axes>"
      ]
     },
     "metadata": {
      "needs_background": "light"
     },
     "output_type": "display_data"
    }
   ],
   "source": [
    "ef2 = efficient_frontier.EfficientFrontier(expected_returns, cov_matrix)\n",
    "ef2.add_objective(objective_functions.L2_reg, gamma=1.0)\n",
    "\n",
    "fig, ax = plt.subplots()\n",
    "plotting.plot_efficient_frontier(ef2, ax=ax, show_assets=True)\n",
    "\n",
    "# Generate random portfolios\n",
    "n_samples = 10000\n",
    "w = np.random.dirichlet(np.ones(len(expected_returns)), n_samples)\n",
    "rets = w.dot(expected_returns)\n",
    "stds = np.sqrt(np.diag(w @ cov_matrix @ w.T))\n",
    "sharpes = rets / stds\n",
    "ax.scatter(stds, rets, marker=\".\", c=sharpes, cmap=\"viridis_r\")\n",
    "\n",
    "ret_tangent, std_tangent, _ = ef.portfolio_performance(verbose=True, risk_free_rate=0.005)\n",
    "ax.scatter(std_tangent, ret_tangent, marker=\"*\", s=100, c=\"r\", label=\"Max Sharpe\")\n",
    "\n",
    "ax.set_title(\"Efficient Frontier with random portfolios\")\n",
    "ax.legend()\n",
    "plt.tight_layout()\n",
    "plt.savefig(\"ef_scatter.png\", dpi=200)\n",
    "plt.show()"
   ]
  },
  {
   "cell_type": "code",
   "execution_count": 195,
   "id": "d11ab8dd-e4d9-4b33-8a46-2289b00cabec",
   "metadata": {},
   "outputs": [],
   "source": [
    "stok_market_cap = 93686000000000\n",
    "stok_us_share = 0.559\n",
    "stok_us_cap = stok_market_cap * stok_us_share\n",
    "stok_exus_cap = stok_market_cap * (1.0 - stok_us_share)"
   ]
  },
  {
   "cell_type": "code",
   "execution_count": 196,
   "id": "6efa0aae-bdb8-4c9b-a887-ea71451f5c86",
   "metadata": {},
   "outputs": [],
   "source": [
    "bond_market_cap = 119000000000000\n",
    "#bond_us_share = 0.559\n",
    "bond_us_cap = 49000000000000\n",
    "bond_exus_cap = bond_market_cap - bond_us_cap"
   ]
  },
  {
   "cell_type": "code",
   "execution_count": 197,
   "id": "a94e20c5-57ac-46c3-9270-f2eef67b0040",
   "metadata": {},
   "outputs": [
    {
     "data": {
      "text/plain": [
       "{'VOO': 52370474000000.01,\n",
       " 'BND': 49000000000000,\n",
       " 'VXUS': 41315525999999.99,\n",
       " 'BNDX': 70000000000000}"
      ]
     },
     "execution_count": 197,
     "metadata": {},
     "output_type": "execute_result"
    }
   ],
   "source": [
    "mcaps = {\n",
    "    'VOO': stok_us_cap,\n",
    "    'BND': bond_us_cap,\n",
    "    'VXUS': stok_exus_cap,\n",
    "    'BNDX': bond_exus_cap,\n",
    "}\n",
    "mcaps"
   ]
  },
  {
   "cell_type": "code",
   "execution_count": 198,
   "id": "813cb014-6852-4b47-8a72-582f1654e7b3",
   "metadata": {},
   "outputs": [],
   "source": [
    "from pypfopt import black_litterman, risk_models\n",
    "from pypfopt import BlackLittermanModel, plotting"
   ]
  },
  {
   "cell_type": "code",
   "execution_count": 199,
   "id": "db4c36bc-c864-4938-9b4e-95f39189aa0f",
   "metadata": {},
   "outputs": [
    {
     "data": {
      "text/plain": [
       "1.9814510331904065"
      ]
     },
     "execution_count": 199,
     "metadata": {},
     "output_type": "execute_result"
    }
   ],
   "source": [
    "delta = black_litterman.market_implied_risk_aversion(msci.iloc[:, 0], frequency=12, risk_free_rate=1.005**((1/12)) - 1)\n",
    "delta"
   ]
  },
  {
   "cell_type": "code",
   "execution_count": 200,
   "id": "2293349d-55a0-4d33-8e6a-f4c74b2d7293",
   "metadata": {},
   "outputs": [
    {
     "data": {
      "text/plain": [
       "VOO     0.043761\n",
       "BND     0.021721\n",
       "VXUS    0.043378\n",
       "BNDX    0.021210\n",
       "dtype: float64"
      ]
     },
     "execution_count": 200,
     "metadata": {},
     "output_type": "execute_result"
    }
   ],
   "source": [
    "prior = black_litterman.market_implied_prior_returns(mcaps, delta, cov_matrix)\n",
    "prior"
   ]
  },
  {
   "cell_type": "code",
   "execution_count": 201,
   "id": "51fa88fb-1e1e-426c-81da-a8b765836277",
   "metadata": {},
   "outputs": [
    {
     "data": {
      "text/plain": [
       "{'VOO': 0.16401345872994066,\n",
       " 'BND': -0.024104572513026,\n",
       " 'VXUS': 0.07253903587887911,\n",
       " 'BNDX': -0.028263828242921063}"
      ]
     },
     "execution_count": 201,
     "metadata": {},
     "output_type": "execute_result"
    }
   ],
   "source": [
    "viewdict = {\n",
    "    'VOO': 0.1,\n",
    "    'BND': 0.02,\n",
    "    'VXUS': 0.08,\n",
    "    'BNDX': 0.03,\n",
    "}\n",
    "viewdict=dict(ehr)\n",
    "viewdict"
   ]
  },
  {
   "cell_type": "code",
   "execution_count": 202,
   "id": "15c65ed8-cb53-4dd4-849a-dc632258c5fe",
   "metadata": {},
   "outputs": [
    {
     "data": {
      "text/plain": [
       "[0.5, 0.8, 0.3, 0.3]"
      ]
     },
     "execution_count": 202,
     "metadata": {},
     "output_type": "execute_result"
    }
   ],
   "source": [
    "confidences = [\n",
    "    0.5,\n",
    "    0.8,\n",
    "    0.3,\n",
    "    0.3\n",
    "]\n",
    "confidences"
   ]
  },
  {
   "cell_type": "code",
   "execution_count": 203,
   "id": "27b64504-af47-4654-8720-e80cae7cb93a",
   "metadata": {},
   "outputs": [
    {
     "data": {
      "text/plain": [
       "VOO     0.099272\n",
       "BND    -0.016852\n",
       "VXUS    0.085228\n",
       "BNDX   -0.002412\n",
       "dtype: float64"
      ]
     },
     "execution_count": 203,
     "metadata": {},
     "output_type": "execute_result"
    }
   ],
   "source": [
    "from pypfopt.black_litterman import BlackLittermanModel\n",
    "\n",
    "bl = BlackLittermanModel(cov_matrix, pi=prior, absolute_views=viewdict, risk_aversion=delta, omega=\"idzorek\", view_confidences=confidences)\n",
    "posterior = bl.bl_returns()\n",
    "posterior"
   ]
  },
  {
   "cell_type": "code",
   "execution_count": 204,
   "id": "ec466127-08fd-4e05-adf4-331d2acc9a3c",
   "metadata": {},
   "outputs": [
    {
     "data": {
      "text/plain": [
       "OrderedDict([('VOO', 0.99999915443209),\n",
       "             ('BND', 9.870714718e-07),\n",
       "             ('VXUS', -8.870240348e-07),\n",
       "             ('BNDX', 7.444138612e-07)])"
      ]
     },
     "execution_count": 204,
     "metadata": {},
     "output_type": "execute_result"
    }
   ],
   "source": [
    "expected_returns = posterior\n",
    "cov_matrix = ledoiid_wolf_sf\n",
    "ef_bl = efficient_frontier.EfficientFrontier(expected_returns, cov_matrix)\n",
    "#ef_bl.add_objective(objective_functions.L2_reg, gamma=1.0)\n",
    "ef_bl.max_sharpe(risk_free_rate=0.005)"
   ]
  },
  {
   "cell_type": "code",
   "execution_count": 205,
   "id": "ac1473ef-a7fb-4e84-80d4-3a5845f6a54a",
   "metadata": {},
   "outputs": [
    {
     "name": "stdout",
     "output_type": "stream",
     "text": [
      "Expected annual return: 9.9%\n",
      "Annual volatility: 16.9%\n",
      "Sharpe Ratio: 0.56\n"
     ]
    },
    {
     "data": {
      "text/plain": [
       "(0.09927230110053467, 0.16939208520759436, 0.5565330929423387)"
      ]
     },
     "execution_count": 205,
     "metadata": {},
     "output_type": "execute_result"
    }
   ],
   "source": [
    "perf = ef_bl.portfolio_performance(verbose=True, risk_free_rate=0.005)\n",
    "perf"
   ]
  },
  {
   "cell_type": "code",
   "execution_count": 208,
   "id": "10bb21b6-e5b0-4e36-a197-b603de1fec48",
   "metadata": {},
   "outputs": [
    {
     "name": "stdout",
     "output_type": "stream",
     "text": [
      "****** 0.0 ******\n",
      "OrderedDict([('VOO', 0.2437889675166818), ('BND', 0.2560559484065556), ('VXUS', 0.2437930929141304), ('BNDX', 0.2563619911626321)])\n",
      "Expected annual return: 4.0%\n",
      "Annual volatility: 8.2%\n",
      "Sharpe Ratio: 0.43\n",
      "(0.040045874051412675, 0.08233161691036728, 0.4256672632770761)\n",
      "****** 0.005 ******\n",
      "OrderedDict([('VOO', 0.2437889675166818), ('BND', 0.2560559484065556), ('VXUS', 0.2437930929141304), ('BNDX', 0.2563619911626321)])\n",
      "Expected annual return: 4.0%\n",
      "Annual volatility: 8.2%\n",
      "Sharpe Ratio: 0.43\n",
      "(0.040045874051412675, 0.08233161691036728, 0.4256672632770761)\n",
      "****** 0.01 ******\n",
      "OrderedDict([('VOO', 0.2437889675166818), ('BND', 0.2560559484065556), ('VXUS', 0.2437930929141304), ('BNDX', 0.2563619911626321)])\n",
      "Expected annual return: 4.0%\n",
      "Annual volatility: 8.2%\n",
      "Sharpe Ratio: 0.43\n",
      "(0.040045874051412675, 0.08233161691036728, 0.4256672632770761)\n",
      "****** 0.015 ******\n",
      "OrderedDict([('VOO', 0.2437889675166818), ('BND', 0.2560559484065556), ('VXUS', 0.2437930929141304), ('BNDX', 0.2563619911626321)])\n",
      "Expected annual return: 4.0%\n",
      "Annual volatility: 8.2%\n",
      "Sharpe Ratio: 0.43\n",
      "(0.040045874051412675, 0.08233161691036728, 0.4256672632770761)\n",
      "****** 0.02 ******\n",
      "OrderedDict([('VOO', 0.2437889675166818), ('BND', 0.2560559484065556), ('VXUS', 0.2437930929141304), ('BNDX', 0.2563619911626321)])\n",
      "Expected annual return: 4.0%\n",
      "Annual volatility: 8.2%\n",
      "Sharpe Ratio: 0.43\n",
      "(0.040045874051412675, 0.08233161691036728, 0.4256672632770761)\n",
      "****** 0.025 ******\n",
      "OrderedDict([('VOO', 0.2437889675166818), ('BND', 0.2560559484065556), ('VXUS', 0.2437930929141304), ('BNDX', 0.2563619911626321)])\n",
      "Expected annual return: 4.0%\n",
      "Annual volatility: 8.2%\n",
      "Sharpe Ratio: 0.43\n",
      "(0.040045874051412675, 0.08233161691036728, 0.4256672632770761)\n",
      "****** 0.03 ******\n",
      "OrderedDict([('VOO', 0.2437889675166818), ('BND', 0.2560559484065556), ('VXUS', 0.2437930929141304), ('BNDX', 0.2563619911626321)])\n",
      "Expected annual return: 4.0%\n",
      "Annual volatility: 8.2%\n",
      "Sharpe Ratio: 0.43\n",
      "(0.040045874051412675, 0.08233161691036728, 0.4256672632770761)\n",
      "****** 0.035 ******\n",
      "OrderedDict([('VOO', 0.2437889675166818), ('BND', 0.2560559484065556), ('VXUS', 0.2437930929141304), ('BNDX', 0.2563619911626321)])\n",
      "Expected annual return: 4.0%\n",
      "Annual volatility: 8.2%\n",
      "Sharpe Ratio: 0.43\n",
      "(0.040045874051412675, 0.08233161691036728, 0.4256672632770761)\n",
      "****** 0.04 ******\n",
      "OrderedDict([('VOO', 0.2437889675166818), ('BND', 0.2560559484065556), ('VXUS', 0.2437930929141304), ('BNDX', 0.2563619911626321)])\n",
      "Expected annual return: 4.0%\n",
      "Annual volatility: 8.2%\n",
      "Sharpe Ratio: 0.43\n",
      "(0.040045874051412675, 0.08233161691036728, 0.4256672632770761)\n",
      "****** 0.045 ******\n",
      "OrderedDict([('VOO', 0.2709812450571298), ('BND', 0.2287599390755086), ('VXUS', 0.2642737915721528), ('BNDX', 0.2359850242952087)])\n",
      "Expected annual return: 4.5%\n",
      "Annual volatility: 9.0%\n",
      "Sharpe Ratio: 0.45\n",
      "(0.04499999999999999, 0.08957090825054415, 0.44657356703488593)\n",
      "****** 0.05 ******\n",
      "OrderedDict([('VOO', 0.2984253167487286), ('BND', 0.2012111750611111), ('VXUS', 0.2849441367254312), ('BNDX', 0.2154193714647291)])\n",
      "Expected annual return: 5.0%\n",
      "Annual volatility: 9.7%\n",
      "Sharpe Ratio: 0.46\n",
      "(0.05000000000000001, 0.09698324693310179, 0.46399766375156143)\n",
      "****** 0.055 ******\n",
      "OrderedDict([('VOO', 0.3258693884403274), ('BND', 0.1736624110467136), ('VXUS', 0.3056144818787094), ('BNDX', 0.1948537186342495)])\n",
      "Expected annual return: 5.5%\n",
      "Annual volatility: 10.4%\n",
      "Sharpe Ratio: 0.48\n",
      "(0.05500000000000001, 0.10447949096858934, 0.47856282162622693)\n",
      "****** 0.06 ******\n",
      "OrderedDict([('VOO', 0.3533134601319261), ('BND', 0.1461136470323162), ('VXUS', 0.3262848270319877), ('BNDX', 0.1742880658037699)])\n",
      "Expected annual return: 6.0%\n",
      "Annual volatility: 11.2%\n",
      "Sharpe Ratio: 0.49\n",
      "(0.06, 0.11204280051361193, 0.4908838385677277)\n",
      "****** 0.065 ******\n",
      "OrderedDict([('VOO', 0.3807575318235248), ('BND', 0.1185648830179188), ('VXUS', 0.346955172185266), ('BNDX', 0.1537224129732904)])\n",
      "Expected annual return: 6.5%\n",
      "Annual volatility: 12.0%\n",
      "Sharpe Ratio: 0.50\n",
      "(0.06499999999999999, 0.11966045933105672, 0.5014187671969563)\n",
      "****** 0.07 ******\n",
      "OrderedDict([('VOO', 0.4082016035151236), ('BND', 0.0910161190035212), ('VXUS', 0.3676255173385444), ('BNDX', 0.1331567601428107)])\n",
      "Expected annual return: 7.0%\n",
      "Annual volatility: 12.7%\n",
      "Sharpe Ratio: 0.51\n",
      "(0.07, 0.12732271271935297, 0.5105137851034809)\n",
      "****** 0.075 ******\n",
      "OrderedDict([('VOO', 0.4356456752067224), ('BND', 0.0634673549891238), ('VXUS', 0.3882958624918225), ('BNDX', 0.1125911073123312)])\n",
      "Expected annual return: 7.5%\n",
      "Annual volatility: 13.5%\n",
      "Sharpe Ratio: 0.52\n",
      "(0.075, 0.1350219689073568, 0.518434152356565)\n",
      "****** 0.08 ******\n",
      "OrderedDict([('VOO', 0.4630897468983211), ('BND', 0.0359185909747264), ('VXUS', 0.4089662076451008), ('BNDX', 0.0920254544818516)])\n",
      "Expected annual return: 8.0%\n",
      "Annual volatility: 14.3%\n",
      "Sharpe Ratio: 0.53\n",
      "(0.07999999999999999, 0.14275224084942598, 0.5253857981753817)\n",
      "****** 0.085 ******\n",
      "OrderedDict([('VOO', 0.4905338185899198), ('BND', 0.0083698269603288), ('VXUS', 0.4296365527983792), ('BNDX', 0.071459801651372)])\n",
      "Expected annual return: 8.5%\n",
      "Annual volatility: 15.1%\n",
      "Sharpe Ratio: 0.53\n",
      "(0.085, 0.1505087496259097, 0.5315305601756737)\n",
      "****** 0.09 ******\n",
      "OrderedDict([('VOO', 0.5210346287010681), ('BND', 0.0), ('VXUS', 0.4499203480282473), ('BNDX', 0.0290450232706846)])\n",
      "Expected annual return: 9.0%\n",
      "Annual volatility: 15.9%\n",
      "Sharpe Ratio: 0.54\n",
      "(0.09, 0.15873492461532876, 0.5354839220542377)\n",
      "****** 0.095 ******\n",
      "OrderedDict([('VOO', 0.6957964480589065), ('BND', -2e-16), ('VXUS', 0.304203551941094), ('BNDX', -1e-16)])\n",
      "Expected annual return: 9.5%\n",
      "Annual volatility: 16.4%\n",
      "Sharpe Ratio: 0.55\n",
      "(0.09499999999999999, 0.1644343499085284, 0.547330895582737)\n"
     ]
    }
   ],
   "source": [
    "min_ret = max(0, min(expected_returns))\n",
    "max_ret = min(0.25, max(expected_returns))\n",
    "rets_seq = list(np.arange(min_ret, max_ret, 0.005))\n",
    "for r in rets_seq:\n",
    "    print(\"****** {0} ******\".format(r))\n",
    "    _ef_bl = efficient_frontier.EfficientFrontier(expected_returns, cov_matrix)\n",
    "    _ef_bl.add_objective(objective_functions.L2_reg, gamma=1.0)\n",
    "    _w = _ef_bl.efficient_return(r)\n",
    "    print(_w)\n",
    "    _perf = _ef_bl.portfolio_performance(verbose=True, risk_free_rate=0.005)\n",
    "    print(_perf)"
   ]
  },
  {
   "cell_type": "code",
   "execution_count": null,
   "id": "8081dfe0-b496-451c-bae5-5c81530eb9f5",
   "metadata": {},
   "outputs": [],
   "source": []
  }
 ],
 "metadata": {
  "kernelspec": {
   "display_name": "Python 3 (ipykernel)",
   "language": "python",
   "name": "python3"
  },
  "language_info": {
   "codemirror_mode": {
    "name": "ipython",
    "version": 3
   },
   "file_extension": ".py",
   "mimetype": "text/x-python",
   "name": "python",
   "nbconvert_exporter": "python",
   "pygments_lexer": "ipython3",
   "version": "3.10.1"
  }
 },
 "nbformat": 4,
 "nbformat_minor": 5
}
